{
  "nbformat": 4,
  "nbformat_minor": 0,
  "metadata": {
    "colab": {
      "provenance": []
    },
    "kernelspec": {
      "name": "ir",
      "display_name": "R"
    },
    "language_info": {
      "name": "R"
    }
  },
  "cells": [
    {
      "cell_type": "markdown",
      "source": [
        "#Project 4 - Problem 2 (R)\n",
        "###Intro to Data Science\n",
        "######*Chris Nolan*"
      ],
      "metadata": {
        "id": "TJBY0tMSm_dF"
      }
    },
    {
      "cell_type": "markdown",
      "source": [
        "1. Use the following dataset about adults: https://github.com/bforoura/IDS/blob/main/HW4/adult_training.csvLinks to an external site."
      ],
      "metadata": {
        "id": "dYQVkfmHo3fd"
      }
    },
    {
      "cell_type": "code",
      "execution_count": 1,
      "metadata": {
        "colab": {
          "base_uri": "https://localhost:8080/",
          "height": 536
        },
        "id": "4dx5Tm1Um5_S",
        "outputId": "bdc18110-b7f6-49e3-c806-843f092932a9"
      },
      "outputs": [
        {
          "output_type": "display_data",
          "data": {
            "text/plain": [
              "  food item         weight_in_grams  saturated_fat      cholesterol     \n",
              " Length:961         Min.   :   0.4   Min.   :  0.000   Min.   :   0.00  \n",
              " Class :character   1st Qu.:  32.0   1st Qu.:  0.000   1st Qu.:   0.00  \n",
              " Mode  :character   Median : 113.0   Median :  0.400   Median :   0.00  \n",
              "                    Mean   : 149.4   Mean   :  3.988   Mean   :  32.55  \n",
              "                    3rd Qu.: 218.0   3rd Qu.:  3.300   3rd Qu.:  20.00  \n",
              "                    Max.   :1542.0   Max.   :119.900   Max.   :2053.00  "
            ]
          },
          "metadata": {}
        },
        {
          "output_type": "display_data",
          "data": {
            "text/html": [
              "<table class=\"dataframe\">\n",
              "<caption>A tibble: 10 × 4</caption>\n",
              "<thead>\n",
              "\t<tr><th scope=col>food item</th><th scope=col>weight_in_grams</th><th scope=col>saturated_fat</th><th scope=col>cholesterol</th></tr>\n",
              "\t<tr><th scope=col>&lt;chr&gt;</th><th scope=col>&lt;dbl&gt;</th><th scope=col>&lt;dbl&gt;</th><th scope=col>&lt;dbl&gt;</th></tr>\n",
              "</thead>\n",
              "<tbody>\n",
              "\t<tr><td>GELATIN; DRY                  1 ENVELP</td><td>  7.00</td><td> 0.0</td><td> 0</td></tr>\n",
              "\t<tr><td>SEAWEED; SPIRULINA; DRIED     1 OZ    </td><td> 28.35</td><td> 0.8</td><td> 0</td></tr>\n",
              "\t<tr><td>YEAST; BAKERS; DRY; ACTIVE    1 PKG   </td><td>  7.00</td><td> 0.0</td><td> 0</td></tr>\n",
              "\t<tr><td>PARMESAN CHEESE; GRATED       1 OZ    </td><td> 28.35</td><td> 5.4</td><td>22</td></tr>\n",
              "\t<tr><td>PARMESAN CHEESE; GRATED       1 CUP   </td><td>100.00</td><td>19.1</td><td>79</td></tr>\n",
              "\t<tr><td>PARMESAN CHEESE; GRATED       1 TBSP  </td><td>  5.00</td><td> 1.0</td><td> 4</td></tr>\n",
              "\t<tr><td>YEAST; BREWERS; DRY           1 TBSP  </td><td>  8.00</td><td> 0.0</td><td> 0</td></tr>\n",
              "\t<tr><td>LAMB;CHOPS;ARM;BRAISED;LEAN   1.7 OZ  </td><td> 48.00</td><td> 2.9</td><td>59</td></tr>\n",
              "\t<tr><td>TUNA; CANND; DRND;WATR; WHITE 3 OZ    </td><td> 85.00</td><td> 0.3</td><td>48</td></tr>\n",
              "\t<tr><td>NONFAT DRY MILK; INSTANTIZED  1 CUP   </td><td> 68.00</td><td> 0.3</td><td>12</td></tr>\n",
              "</tbody>\n",
              "</table>\n"
            ],
            "text/markdown": "\nA tibble: 10 × 4\n\n| food item &lt;chr&gt; | weight_in_grams &lt;dbl&gt; | saturated_fat &lt;dbl&gt; | cholesterol &lt;dbl&gt; |\n|---|---|---|---|\n| GELATIN; DRY                  1 ENVELP |   7.00 |  0.0 |  0 |\n| SEAWEED; SPIRULINA; DRIED     1 OZ     |  28.35 |  0.8 |  0 |\n| YEAST; BAKERS; DRY; ACTIVE    1 PKG    |   7.00 |  0.0 |  0 |\n| PARMESAN CHEESE; GRATED       1 OZ     |  28.35 |  5.4 | 22 |\n| PARMESAN CHEESE; GRATED       1 CUP    | 100.00 | 19.1 | 79 |\n| PARMESAN CHEESE; GRATED       1 TBSP   |   5.00 |  1.0 |  4 |\n| YEAST; BREWERS; DRY           1 TBSP   |   8.00 |  0.0 |  0 |\n| LAMB;CHOPS;ARM;BRAISED;LEAN   1.7 OZ   |  48.00 |  2.9 | 59 |\n| TUNA; CANND; DRND;WATR; WHITE 3 OZ     |  85.00 |  0.3 | 48 |\n| NONFAT DRY MILK; INSTANTIZED  1 CUP    |  68.00 |  0.3 | 12 |\n\n",
            "text/latex": "A tibble: 10 × 4\n\\begin{tabular}{llll}\n food item & weight\\_in\\_grams & saturated\\_fat & cholesterol\\\\\n <chr> & <dbl> & <dbl> & <dbl>\\\\\n\\hline\n\t GELATIN; DRY                  1 ENVELP &   7.00 &  0.0 &  0\\\\\n\t SEAWEED; SPIRULINA; DRIED     1 OZ     &  28.35 &  0.8 &  0\\\\\n\t YEAST; BAKERS; DRY; ACTIVE    1 PKG    &   7.00 &  0.0 &  0\\\\\n\t PARMESAN CHEESE; GRATED       1 OZ     &  28.35 &  5.4 & 22\\\\\n\t PARMESAN CHEESE; GRATED       1 CUP    & 100.00 & 19.1 & 79\\\\\n\t PARMESAN CHEESE; GRATED       1 TBSP   &   5.00 &  1.0 &  4\\\\\n\t YEAST; BREWERS; DRY           1 TBSP   &   8.00 &  0.0 &  0\\\\\n\t LAMB;CHOPS;ARM;BRAISED;LEAN   1.7 OZ   &  48.00 &  2.9 & 59\\\\\n\t TUNA; CANND; DRND;WATR; WHITE 3 OZ     &  85.00 &  0.3 & 48\\\\\n\t NONFAT DRY MILK; INSTANTIZED  1 CUP    &  68.00 &  0.3 & 12\\\\\n\\end{tabular}\n",
            "text/plain": [
              "   food item                              weight_in_grams saturated_fat\n",
              "1  GELATIN; DRY                  1 ENVELP   7.00           0.0         \n",
              "2  SEAWEED; SPIRULINA; DRIED     1 OZ      28.35           0.8         \n",
              "3  YEAST; BAKERS; DRY; ACTIVE    1 PKG      7.00           0.0         \n",
              "4  PARMESAN CHEESE; GRATED       1 OZ      28.35           5.4         \n",
              "5  PARMESAN CHEESE; GRATED       1 CUP    100.00          19.1         \n",
              "6  PARMESAN CHEESE; GRATED       1 TBSP     5.00           1.0         \n",
              "7  YEAST; BREWERS; DRY           1 TBSP     8.00           0.0         \n",
              "8  LAMB;CHOPS;ARM;BRAISED;LEAN   1.7 OZ    48.00           2.9         \n",
              "9  TUNA; CANND; DRND;WATR; WHITE 3 OZ      85.00           0.3         \n",
              "10 NONFAT DRY MILK; INSTANTIZED  1 CUP     68.00           0.3         \n",
              "   cholesterol\n",
              "1   0         \n",
              "2   0         \n",
              "3   0         \n",
              "4  22         \n",
              "5  79         \n",
              "6   4         \n",
              "7   0         \n",
              "8  59         \n",
              "9  48         \n",
              "10 12         "
            ]
          },
          "metadata": {}
        }
      ],
      "source": [
        "# Let's read in the data file\n",
        "\n",
        "library(readr)\n",
        "training_data <- read_csv(\"https://raw.githubusercontent.com/bforoura/IDS/main/HW4/nutrition_subset.csv\", show_col_types = FALSE)\n",
        "\n",
        "summary(training_data)\n",
        "\n",
        "head(training_data,10)"
      ]
    },
    {
      "cell_type": "markdown",
      "source": [
        "3.Sort the data set by saturated_ fat and produce a listing of the five food items highest in saturated fat. Comment on the validity of comparing food items of different sizes."
      ],
      "metadata": {
        "id": "-Zm32ItUulry"
      }
    },
    {
      "cell_type": "code",
      "source": [
        "head(training_data[order(training_data$saturated_fat, decreasing=TRUE),1:4],5)"
      ],
      "metadata": {
        "colab": {
          "base_uri": "https://localhost:8080/",
          "height": 255
        },
        "id": "9czjvmSiumDK",
        "outputId": "d458b79f-dff5-471b-ef8b-5c44e0044f3a"
      },
      "execution_count": 2,
      "outputs": [
        {
          "output_type": "display_data",
          "data": {
            "text/html": [
              "<table class=\"dataframe\">\n",
              "<caption>A tibble: 5 × 4</caption>\n",
              "<thead>\n",
              "\t<tr><th scope=col>food item</th><th scope=col>weight_in_grams</th><th scope=col>saturated_fat</th><th scope=col>cholesterol</th></tr>\n",
              "\t<tr><th scope=col>&lt;chr&gt;</th><th scope=col>&lt;dbl&gt;</th><th scope=col>&lt;dbl&gt;</th><th scope=col>&lt;dbl&gt;</th></tr>\n",
              "</thead>\n",
              "<tbody>\n",
              "\t<tr><td>CHEESECAKE                    1 CAKE </td><td>1110</td><td>119.9</td><td>2053</td></tr>\n",
              "\t<tr><td>ICE CREAM; VANLLA; RICH 16% FT1/2 GAL</td><td>1188</td><td>118.3</td><td> 703</td></tr>\n",
              "\t<tr><td>YELLOWCAKE W/ CHOCFRSTNG;COMML1 CAKE </td><td>1108</td><td> 92.0</td><td> 609</td></tr>\n",
              "\t<tr><td>CREME PIE                     1 PIE  </td><td> 910</td><td> 90.1</td><td>  46</td></tr>\n",
              "\t<tr><td>LARD                          1 CUP  </td><td> 205</td><td> 80.4</td><td> 195</td></tr>\n",
              "</tbody>\n",
              "</table>\n"
            ],
            "text/markdown": "\nA tibble: 5 × 4\n\n| food item &lt;chr&gt; | weight_in_grams &lt;dbl&gt; | saturated_fat &lt;dbl&gt; | cholesterol &lt;dbl&gt; |\n|---|---|---|---|\n| CHEESECAKE                    1 CAKE  | 1110 | 119.9 | 2053 |\n| ICE CREAM; VANLLA; RICH 16% FT1/2 GAL | 1188 | 118.3 |  703 |\n| YELLOWCAKE W/ CHOCFRSTNG;COMML1 CAKE  | 1108 |  92.0 |  609 |\n| CREME PIE                     1 PIE   |  910 |  90.1 |   46 |\n| LARD                          1 CUP   |  205 |  80.4 |  195 |\n\n",
            "text/latex": "A tibble: 5 × 4\n\\begin{tabular}{llll}\n food item & weight\\_in\\_grams & saturated\\_fat & cholesterol\\\\\n <chr> & <dbl> & <dbl> & <dbl>\\\\\n\\hline\n\t CHEESECAKE                    1 CAKE  & 1110 & 119.9 & 2053\\\\\n\t ICE CREAM; VANLLA; RICH 16\\% FT1/2 GAL & 1188 & 118.3 &  703\\\\\n\t YELLOWCAKE W/ CHOCFRSTNG;COMML1 CAKE  & 1108 &  92.0 &  609\\\\\n\t CREME PIE                     1 PIE   &  910 &  90.1 &   46\\\\\n\t LARD                          1 CUP   &  205 &  80.4 &  195\\\\\n\\end{tabular}\n",
            "text/plain": [
              "  food item                             weight_in_grams saturated_fat\n",
              "1 CHEESECAKE                    1 CAKE  1110            119.9        \n",
              "2 ICE CREAM; VANLLA; RICH 16% FT1/2 GAL 1188            118.3        \n",
              "3 YELLOWCAKE W/ CHOCFRSTNG;COMML1 CAKE  1108             92.0        \n",
              "4 CREME PIE                     1 PIE    910             90.1        \n",
              "5 LARD                          1 CUP    205             80.4        \n",
              "  cholesterol\n",
              "1 2053       \n",
              "2  703       \n",
              "3  609       \n",
              "4   46       \n",
              "5  195       "
            ]
          },
          "metadata": {}
        }
      ]
    },
    {
      "cell_type": "markdown",
      "source": [
        "This is not a good way to sort this data since the sizes of the food items are all different so it is not appropriate to compare the saturated fat. You need the same units in order to compare the saturated fat."
      ],
      "metadata": {
        "id": "71_PRFn1w7L1"
      }
    },
    {
      "cell_type": "markdown",
      "source": [
        "4.Create a new variable, saturated_ fat_ per_gram, by dividing the amount of saturated fat  by the weight in grams. Sort the data set by saturated_ fat_ per_gram and produce a listing of the five food  items highest in saturated fat per gram. Which food has the most saturated fat per gram?"
      ],
      "metadata": {
        "id": "P-fSX4Yjxm_X"
      }
    },
    {
      "cell_type": "code",
      "source": [
        "training_data$saturated_fat_per_gram <- training_data$saturated_fat / training_data$weight_in_grams\n",
        "\n",
        "head(training_data[order(training_data$saturated_fat_per_gram, decreasing=TRUE),1:5],5)"
      ],
      "metadata": {
        "colab": {
          "base_uri": "https://localhost:8080/",
          "height": 255
        },
        "id": "NYhK6Tpzxo7T",
        "outputId": "a24a580a-745a-46c1-f75b-daf987271a52"
      },
      "execution_count": 3,
      "outputs": [
        {
          "output_type": "display_data",
          "data": {
            "text/html": [
              "<table class=\"dataframe\">\n",
              "<caption>A tibble: 5 × 5</caption>\n",
              "<thead>\n",
              "\t<tr><th scope=col>food item</th><th scope=col>weight_in_grams</th><th scope=col>saturated_fat</th><th scope=col>cholesterol</th><th scope=col>saturated_fat_per_gram</th></tr>\n",
              "\t<tr><th scope=col>&lt;chr&gt;</th><th scope=col>&lt;dbl&gt;</th><th scope=col>&lt;dbl&gt;</th><th scope=col>&lt;dbl&gt;</th><th scope=col>&lt;dbl&gt;</th></tr>\n",
              "</thead>\n",
              "<tbody>\n",
              "\t<tr><td>BUTTER; SALTED                1 TBSP </td><td> 14</td><td> 7.1</td><td> 31</td><td>0.5071429</td></tr>\n",
              "\t<tr><td>BUTTER; UNSALTED              1 TBSP </td><td> 14</td><td> 7.1</td><td> 31</td><td>0.5071429</td></tr>\n",
              "\t<tr><td>BUTTER; SALTED                1/2 CUP</td><td>113</td><td>57.1</td><td>247</td><td>0.5053097</td></tr>\n",
              "\t<tr><td>BUTTER; UNSALTED              1/2 CUP</td><td>113</td><td>57.1</td><td>247</td><td>0.5053097</td></tr>\n",
              "\t<tr><td>BUTTER; SALTED                1 PAT  </td><td>  5</td><td> 2.5</td><td> 11</td><td>0.5000000</td></tr>\n",
              "</tbody>\n",
              "</table>\n"
            ],
            "text/markdown": "\nA tibble: 5 × 5\n\n| food item &lt;chr&gt; | weight_in_grams &lt;dbl&gt; | saturated_fat &lt;dbl&gt; | cholesterol &lt;dbl&gt; | saturated_fat_per_gram &lt;dbl&gt; |\n|---|---|---|---|---|\n| BUTTER; SALTED                1 TBSP  |  14 |  7.1 |  31 | 0.5071429 |\n| BUTTER; UNSALTED              1 TBSP  |  14 |  7.1 |  31 | 0.5071429 |\n| BUTTER; SALTED                1/2 CUP | 113 | 57.1 | 247 | 0.5053097 |\n| BUTTER; UNSALTED              1/2 CUP | 113 | 57.1 | 247 | 0.5053097 |\n| BUTTER; SALTED                1 PAT   |   5 |  2.5 |  11 | 0.5000000 |\n\n",
            "text/latex": "A tibble: 5 × 5\n\\begin{tabular}{lllll}\n food item & weight\\_in\\_grams & saturated\\_fat & cholesterol & saturated\\_fat\\_per\\_gram\\\\\n <chr> & <dbl> & <dbl> & <dbl> & <dbl>\\\\\n\\hline\n\t BUTTER; SALTED                1 TBSP  &  14 &  7.1 &  31 & 0.5071429\\\\\n\t BUTTER; UNSALTED              1 TBSP  &  14 &  7.1 &  31 & 0.5071429\\\\\n\t BUTTER; SALTED                1/2 CUP & 113 & 57.1 & 247 & 0.5053097\\\\\n\t BUTTER; UNSALTED              1/2 CUP & 113 & 57.1 & 247 & 0.5053097\\\\\n\t BUTTER; SALTED                1 PAT   &   5 &  2.5 &  11 & 0.5000000\\\\\n\\end{tabular}\n",
            "text/plain": [
              "  food item                             weight_in_grams saturated_fat\n",
              "1 BUTTER; SALTED                1 TBSP   14              7.1         \n",
              "2 BUTTER; UNSALTED              1 TBSP   14              7.1         \n",
              "3 BUTTER; SALTED                1/2 CUP 113             57.1         \n",
              "4 BUTTER; UNSALTED              1/2 CUP 113             57.1         \n",
              "5 BUTTER; SALTED                1 PAT     5              2.5         \n",
              "  cholesterol saturated_fat_per_gram\n",
              "1  31         0.5071429             \n",
              "2  31         0.5071429             \n",
              "3 247         0.5053097             \n",
              "4 247         0.5053097             \n",
              "5  11         0.5000000             "
            ]
          },
          "metadata": {}
        }
      ]
    },
    {
      "cell_type": "markdown",
      "source": [
        "5.Standardize (zero mean) the field saturated_ fat_ per_gram, and produce a listing of all the food items that are outliers at the high end of the scale. How many food items are outliers at the low end of the scale? Create a density plot for saturated_ fat_ per_gram"
      ],
      "metadata": {
        "id": "a3nhG493z3A7"
      }
    },
    {
      "cell_type": "code",
      "source": [
        "training_data$scaled_saturated_fat_per_gram <- scale(x = training_data$saturated_fat_per_gram)\n",
        "\n",
        "summary(training_data$scaled_saturated_fat_per_gram)\n",
        "\n",
        "# Determine the three sigma rule first for the scaled_age attribute\n",
        "three_sigma_rule_high <- (training_data$scaled_saturated_fat_per_gram > 3)\n",
        "\n",
        "three_sigma_rule_low <- (training_data$scaled_saturated_fat_per_gram < -3)\n",
        "\n",
        "three_sigma_rule <- (training_data$scaled_saturated_fat_per_gram < -3 |\n",
        "                     training_data$scaled_saturated_fat_per_gram > 3 )\n",
        "\n",
        "\n",
        "# how many outliers are there?\n",
        "cat (\"\\nThere are\", sum(three_sigma_rule_high), \"high outliers \\n\\n\")\n",
        "cat (\"\\nThere are\", sum(three_sigma_rule_low), \"low outliers \\n\\n\")\n",
        "\n",
        "\n",
        "# The condition given as input to which() states that we want\n",
        "# all records whose scaled age values are less than −3 or greater than 3.\n",
        "\n",
        "# The which() command returns the row indices of all such records.\n",
        "\n",
        "\n",
        "cat(\"The scaled age values that are outliers: \\n\\n\")\n",
        "training_data$scaled_saturated_fat_per_gram[which(three_sigma_rule)]\n",
        "\n",
        "\n",
        "cat(\"\\n\\nThe scaled age values that are NOT outliers: \\n\\n\")\n",
        "training_data$scaled_saturated_fat_per_gram[which(!three_sigma_rule)]\n",
        "\n",
        "# Kernel Density Plot\n",
        "d1 <- density(training_data$scaled_saturated_fat_per_gram)\n",
        "\n",
        "# plots the results\n",
        "plot(d1, main=\"Kernel Density of Scaled Saturated Fat per Gram\")\n",
        "\n",
        "# plots the results (filled)\n",
        "polygon(d1, col=\"orange\", border=\"blue\")\n"
      ],
      "metadata": {
        "id": "HDkeYbhlz4Xj",
        "colab": {
          "base_uri": "https://localhost:8080/",
          "height": 1000
        },
        "outputId": "876e62f9-adab-44aa-c9be-118046641c00"
      },
      "execution_count": 4,
      "outputs": [
        {
          "output_type": "display_data",
          "data": {
            "text/plain": [
              "       V1         \n",
              " Min.   :-0.5620  \n",
              " 1st Qu.:-0.5620  \n",
              " Median :-0.4411  \n",
              " Mean   : 0.0000  \n",
              " 3rd Qu.: 0.1539  \n",
              " Max.   : 7.1068  "
            ]
          },
          "metadata": {}
        },
        {
          "output_type": "stream",
          "name": "stdout",
          "text": [
            "\n",
            "There are 15 high outliers \n",
            "\n",
            "\n",
            "There are 0 low outliers \n",
            "\n",
            "The scaled age values that are outliers: \n",
            "\n"
          ]
        },
        {
          "output_type": "display_data",
          "data": {
            "text/html": [
              "<style>\n",
              ".list-inline {list-style: none; margin:0; padding: 0}\n",
              ".list-inline>li {display: inline-block}\n",
              ".list-inline>li:not(:last-child)::after {content: \"\\00b7\"; padding: 0 .5ex}\n",
              "</style>\n",
              "<ol class=list-inline><li>4.23846914186069</li><li>3.93663696749015</li><li>4.20207816592171</li><li>3.94083741524481</li><li>7.0790551253279</li><li>7.0790551253279</li><li>5.36857985204816</li><li>3.27652044727709</li><li>5.37028209729208</li><li>3.22204859947182</li><li>7.10677489432831</li><li>7.10677489432831</li><li>6.99876338063706</li><li>6.99876338063706</li><li>4.73052159312083</li></ol>\n"
            ],
            "text/markdown": "1. 4.23846914186069\n2. 3.93663696749015\n3. 4.20207816592171\n4. 3.94083741524481\n5. 7.0790551253279\n6. 7.0790551253279\n7. 5.36857985204816\n8. 3.27652044727709\n9. 5.37028209729208\n10. 3.22204859947182\n11. 7.10677489432831\n12. 7.10677489432831\n13. 6.99876338063706\n14. 6.99876338063706\n15. 4.73052159312083\n\n\n",
            "text/latex": "\\begin{enumerate*}\n\\item 4.23846914186069\n\\item 3.93663696749015\n\\item 4.20207816592171\n\\item 3.94083741524481\n\\item 7.0790551253279\n\\item 7.0790551253279\n\\item 5.36857985204816\n\\item 3.27652044727709\n\\item 5.37028209729208\n\\item 3.22204859947182\n\\item 7.10677489432831\n\\item 7.10677489432831\n\\item 6.99876338063706\n\\item 6.99876338063706\n\\item 4.73052159312083\n\\end{enumerate*}\n",
            "text/plain": [
              " [1] 4.238469 3.936637 4.202078 3.940837 7.079055 7.079055 5.368580 3.276520\n",
              " [9] 5.370282 3.222049 7.106775 7.106775 6.998763 6.998763 4.730522"
            ]
          },
          "metadata": {}
        },
        {
          "output_type": "stream",
          "name": "stdout",
          "text": [
            "\n",
            "\n",
            "The scaled age values that are NOT outliers: \n",
            "\n"
          ]
        },
        {
          "output_type": "display_data",
          "data": {
            "text/html": [
              "<style>\n",
              ".list-inline {list-style: none; margin:0; padding: 0}\n",
              ".list-inline>li {display: inline-block}\n",
              ".list-inline>li:not(:last-child)::after {content: \"\\00b7\"; padding: 0 .5ex}\n",
              "</style>\n",
              "<ol class=list-inline><li>-0.562042577750383</li><li>-0.135330424896065</li><li>-0.562042577750383</li><li>2.31826445401626</li><li>2.32618529835362</li><li>2.4622798056046</li><li>-0.562042577750383</li><li>0.3515548088881</li><li>-0.508672182750001</li><li>-0.495329583999905</li><li>-0.495573953940383</li><li>-0.0201848173992825</li><li>-0.184002279831011</li><li>0.0699053829506574</li><li>-0.0386021652466365</li><li>-0.0159843696446228</li><li>1.09413396551544</li><li>-0.191717387951814</li><li>2.06434264989999</li><li>-0.403793150714366</li><li>0.76109846496742</li><li>0.389155591208038</li><li>-0.0159843696446228</li><li>0.0522729063685972</li><li>0.291883742255729</li><li>-0.312980734415267</li><li>-0.401931392749237</li><li>-0.178961742525419</li><li>-0.31361609626051</li><li>0.273031513175992</li><li>-0.348560997748855</li><li>-0.188449812747709</li><li>-0.312980734415267</li><li>0.451398785278622</li><li>0.451398785278622</li><li>1.0914670145601</li><li>2.1049083775891</li><li>0.162090950658556</li><li>0.33038042061666</li><li>0.00501786912867571</li><li>0.6546388408407</li><li>0.817804509655326</li><li>-0.0648936928153179</li><li>-0.321471479074419</li><li>-0.281212642153135</li><li>-0.117289286080533</li><li>0.576525848924433</li><li>0.309673873922523</li><li>0.843377823926342</li><li>0.167352820588171</li><li>0.505365322257257</li><li>0.470398511739765</li><li>0.470398511739765</li><li>-0.00655479305252959</li><li>0.286890021086102</li><li>0.185142952254965</li><li>1.35929164226337</li><li>0.434204795590081</li><li>-0.259610339414885</li><li>0.572078316007734</li><li>1.2525508522626</li><li>-0.0327861606632616</li><li>-0.27295293816498</li><li>2.62286329498628</li><li>0.540945585590845</li><li>-0.526462314416795</li><li>0.167352820588171</li><li>0.576525848924433</li><li>0.718846902258784</li><li>-0.348560997748855</li><li>0.771432899919361</li><li>-0.0286523866824854</li><li>2.638298568657</li><li>1.83821328205516</li><li>2.31826445401626</li><li>1.99823033937552</li><li>-0.0176645487464867</li><li>-0.134692675754571</li><li>-0.490034901956217</li><li>-0.490034901956217</li><li>1.10303379061359</li><li>-0.188449812747709</li><li>0.0674543889207891</li><li>0.665476507258403</li><li>0.0250317672538188</li><li>2.64018112227254</li><li>1.06643870559461</li><li>1.35929164226337</li><li>0.068024585448571</li><li>-0.23192288097572</li><li>-0.129996522985386</li><li>1.59056335393169</li><li>-0.277400471081679</li><li>-0.135079417747327</li><li>-0.099499154413739</li><li>0.345254137256111</li><li>-0.562042577750383</li><li>0.344720747065043</li><li>0.238042708851463</li><li>0.184703689744674</li><li>1.78487426294837</li><li>2.42494249222984</li><li>2.26492543490947</li><li>1.41150112920084</li><li>1.74599292533631</li><li>0.546875629479776</li><li>0.188437421082149</li><li>-0.259610339414885</li><li>-0.135079417747327</li><li>0.202933083921759</li><li>-0.401931392749237</li><li>-0.508672182750001</li><li>-0.296751140613981</li><li>-0.270221996900341</li><li>-0.323280284327621</li><li>-0.117289286080533</li><li>-0.099499154413739</li><li>0.00724163558702493</li><li>-0.348560997748855</li><li>0.861167955593136</li><li>0.87811093813294</li><li>0.87811093813294</li><li>0.504737804385412</li><li>0.504737804385412</li><li>0.771432899919361</li><li>0.771432899919361</li><li>1.46484014830763</li><li>-0.0579888471912198</li><li>-0.520327786255831</li><li>-0.506036607688254</li><li>-0.141997802284414</li><li>0.194038018088362</li><li>0.302049531779611</li><li>0.880326558926607</li><li>0.880326558926607</li><li>-0.318621507870592</li><li>0.614948865256323</li><li>1.4153989805971</li><li>0.817666538743677</li><li>0.817666538743677</li><li>-0.473091919416413</li><li>-0.209204966358969</li><li>0.0549887131065236</li><li>-0.346019550367884</li><li>0.0860265043971126</li><li>0.282247420936215</li><li>-0.508703558643593</li><li>-0.402025520430014</li><li>-0.508703558643593</li><li>0.82477191902615</li><li>0.82477191902615</li><li>1.89155230116195</li><li>0.131364670637884</li><li>0.291381727958253</li><li>1.67819622473479</li><li>1.67819622473479</li><li>0.14678298084844</li><li>1.08276433249531</li><li>0.658298033077064</li><li>-0.374695173471756</li><li>0.423562484682266</li><li>-0.524238547958446</li><li>0.278046973181556</li><li>0.143632645032446</li><li>-0.43055030021321</li><li>0.134866493196634</li><li>0.31457260583077</li><li>0.0625457405511888</li><li>-0.335218398998759</li><li>-0.508672182750001</li><li>0.194038018088362</li><li>0.383058167048048</li><li>0.383058167048048</li><li>-0.562042577750383</li><li>-0.46753250327054</li><li>-0.0453875039272407</li><li>0.855608539447263</li><li>-0.13191672767323</li><li>-0.314048142315275</li><li>-0.129996522985386</li><li>1.05623518878167</li><li>0.116886936880327</li><li>-0.562042577750383</li><li>-0.320096787081985</li><li>-0.0781509964135863</li><li>-0.108394220247136</li><li>-0.0781509964135863</li><li>1.05813012761836</li><li>-0.384141261082443</li><li>-0.01667296763719</li><li>0.118429958504487</li><li>0.18174402466009</li><li>0.691944751933389</li><li>-0.455301787749619</li><li>-0.0915924292284973</li><li>-0.562042577750383</li><li>-0.452830936129231</li><li>0.20337234643205</li><li>1.05092936003894</li><li>0.23415658031654</li><li>⋯</li><li>-0.562042577750383</li><li>-0.551685309314236</li><li>-0.551685309314236</li><li>-0.562042577750383</li><li>-0.562042577750383</li><li>-0.552223349232997</li><li>-0.562042577750383</li><li>-0.562042577750383</li><li>-0.552591570302398</li><li>-0.552630786100938</li><li>-0.562042577750383</li><li>-0.562042577750383</li><li>-0.55382431040431</li><li>-0.538040019152327</li><li>-0.562042577750383</li><li>-0.55473745122054</li><li>-0.548041085234851</li><li>1.3764548089375</li><li>0.603720455481162</li><li>-0.562042577750383</li><li>-0.562042577750383</li><li>-0.555845195817278</li><li>-0.555845195817278</li><li>-0.562042577750383</li><li>-0.555895581036247</li><li>-0.562042577750383</li><li>-0.562042577750383</li><li>-0.562042577750383</li><li>-0.562042577750383</li><li>-0.562042577750383</li><li>-0.562042577750383</li><li>-0.562042577750383</li><li>-0.562042577750383</li><li>-0.562042577750383</li><li>-0.562042577750383</li><li>-0.562042577750383</li><li>-0.562042577750383</li><li>-0.562042577750383</li><li>-0.562042577750383</li><li>-0.562042577750383</li><li>-0.556065656044148</li><li>-0.562042577750383</li><li>-0.562042577750383</li><li>-0.562042577750383</li><li>-0.562042577750383</li><li>-0.562042577750383</li><li>-0.562042577750383</li><li>-0.562042577750383</li><li>-0.562042577750383</li><li>-0.562042577750383</li><li>-0.562042577750383</li><li>-0.562042577750383</li><li>-0.562042577750383</li><li>-0.562042577750383</li><li>-0.562042577750383</li><li>-0.562042577750383</li><li>-0.562042577750383</li><li>-0.562042577750383</li><li>-0.562042577750383</li><li>-0.562042577750383</li><li>-0.562042577750383</li><li>-0.562042577750383</li><li>0.0195578805871131</li><li>-0.562042577750383</li><li>-0.562042577750383</li><li>-0.562042577750383</li><li>0.446064883367943</li><li>-0.562042577750383</li><li>-0.508703558643593</li><li>-0.0579888471912198</li><li>-0.562042577750383</li><li>-0.562042577750383</li><li>-0.562042577750383</li><li>-0.562042577750383</li><li>-0.329402394415384</li><li>-0.562042577750383</li><li>-0.562042577750383</li><li>-0.562042577750383</li><li>-0.562042577750383</li><li>-0.562042577750383</li><li>-0.562042577750383</li><li>-0.562042577750383</li><li>1.27415315500085</li><li>0.734095586544608</li><li>-0.562042577750383</li><li>-0.360421085526718</li><li>-0.562042577750383</li><li>-0.562042577750383</li><li>-0.562042577750383</li><li>0.383058167048048</li><li>-0.562042577750383</li><li>-0.562042577750383</li><li>-0.562042577750383</li><li>-0.562042577750383</li><li>-0.562042577750383</li><li>-0.562042577750383</li><li>-0.562042577750383</li><li>-0.562042577750383</li><li>-0.562042577750383</li><li>-0.556112533861452</li><li>-0.562042577750383</li><li>-0.562042577750383</li><li>-0.562042577750383</li><li>-0.562042577750383</li><li>-0.562042577750383</li><li>-0.562042577750383</li><li>-0.562042577750383</li><li>-0.562042577750383</li><li>-0.562042577750383</li><li>-0.562042577750383</li><li>-0.562042577750383</li><li>-0.562042577750383</li><li>-0.562042577750383</li><li>-0.531799353916833</li><li>-0.562042577750383</li><li>-0.554909741940583</li><li>-0.562042577750383</li><li>-0.535513434036743</li><li>-0.562042577750383</li><li>-0.562042577750383</li><li>-0.551084887955618</li><li>-0.562042577750383</li><li>-0.555993932983673</li><li>-0.562042577750383</li><li>-0.562042577750383</li><li>-0.562042577750383</li><li>-0.548295657826042</li><li>-0.562042577750383</li><li>-0.562042577750383</li><li>-0.562042577750383</li><li>-0.562042577750383</li><li>-0.562042577750383</li><li>-0.562042577750383</li><li>-0.562042577750383</li><li>-0.562042577750383</li><li>-0.562042577750383</li><li>-0.562042577750383</li><li>-0.562042577750383</li><li>1.3821646686921</li><li>1.49017618238335</li><li>2.0302337508396</li><li>0.842107100235857</li><li>1.70619920976585</li><li>2.13824526453085</li><li>0.950118613927106</li><li>1.48217532951733</li><li>1.99322980633426</li><li>1.35937324837193</li><li>0.811388229369539</li><li>1.69232617131009</li><li>2.15707295957795</li><li>0.998674248522255</li><li>1.8142107234571</li><li>1.49017618238335</li><li>1.8574153289336</li><li>1.5981876960746</li><li>1.3821646686921</li><li>0.748497121703441</li><li>0.76109846496742</li><li>1.5549830905981</li><li>0.855608539447263</li><li>-0.562042577750383</li><li>0.143632645032445</li><li>-0.562042577750383</li><li>-0.562042577750383</li><li>2.84032010352397</li><li>0.626084072853359</li><li>2.96633353616376</li><li>1.45417234448627</li><li>2.36146905949276</li><li>-0.562042577750383</li><li>-0.562042577750383</li><li>-0.562042577750383</li><li>-0.562042577750383</li><li>0.950118613927106</li><li>2.4622798056046</li><li>-0.0579888471912198</li><li>-0.562042577750383</li><li>1.45417234448627</li><li>1.2525508522626</li><li>-0.562042577750383</li><li>1.45417234448627</li><li>-0.562042577750383</li><li>-0.373022428790697</li><li>0.546875629479776</li><li>0.849307867815274</li><li>-0.562042577750383</li><li>-0.562042577750383</li><li>-0.562042577750383</li><li>-0.562042577750383</li><li>-0.562042577750383</li><li>-0.562042577750383</li><li>-0.562042577750383</li><li>-0.562042577750383</li><li>-0.562042577750383</li><li>-0.562042577750383</li><li>-0.562042577750383</li><li>-0.562042577750383</li><li>-0.562042577750383</li><li>-0.562042577750383</li></ol>\n"
            ],
            "text/markdown": "1. -0.562042577750383\n2. -0.135330424896065\n3. -0.562042577750383\n4. 2.31826445401626\n5. 2.32618529835362\n6. 2.4622798056046\n7. -0.562042577750383\n8. 0.3515548088881\n9. -0.508672182750001\n10. -0.495329583999905\n11. -0.495573953940383\n12. -0.0201848173992825\n13. -0.184002279831011\n14. 0.0699053829506574\n15. -0.0386021652466365\n16. -0.0159843696446228\n17. 1.09413396551544\n18. -0.191717387951814\n19. 2.06434264989999\n20. -0.403793150714366\n21. 0.76109846496742\n22. 0.389155591208038\n23. -0.0159843696446228\n24. 0.0522729063685972\n25. 0.291883742255729\n26. -0.312980734415267\n27. -0.401931392749237\n28. -0.178961742525419\n29. -0.31361609626051\n30. 0.273031513175992\n31. -0.348560997748855\n32. -0.188449812747709\n33. -0.312980734415267\n34. 0.451398785278622\n35. 0.451398785278622\n36. 1.0914670145601\n37. 2.1049083775891\n38. 0.162090950658556\n39. 0.33038042061666\n40. 0.00501786912867571\n41. 0.6546388408407\n42. 0.817804509655326\n43. -0.0648936928153179\n44. -0.321471479074419\n45. -0.281212642153135\n46. -0.117289286080533\n47. 0.576525848924433\n48. 0.309673873922523\n49. 0.843377823926342\n50. 0.167352820588171\n51. 0.505365322257257\n52. 0.470398511739765\n53. 0.470398511739765\n54. -0.00655479305252959\n55. 0.286890021086102\n56. 0.185142952254965\n57. 1.35929164226337\n58. 0.434204795590081\n59. -0.259610339414885\n60. 0.572078316007734\n61. 1.2525508522626\n62. -0.0327861606632616\n63. -0.27295293816498\n64. 2.62286329498628\n65. 0.540945585590845\n66. -0.526462314416795\n67. 0.167352820588171\n68. 0.576525848924433\n69. 0.718846902258784\n70. -0.348560997748855\n71. 0.771432899919361\n72. -0.0286523866824854\n73. 2.638298568657\n74. 1.83821328205516\n75. 2.31826445401626\n76. 1.99823033937552\n77. -0.0176645487464867\n78. -0.134692675754571\n79. -0.490034901956217\n80. -0.490034901956217\n81. 1.10303379061359\n82. -0.188449812747709\n83. 0.0674543889207891\n84. 0.665476507258403\n85. 0.0250317672538188\n86. 2.64018112227254\n87. 1.06643870559461\n88. 1.35929164226337\n89. 0.068024585448571\n90. -0.23192288097572\n91. -0.129996522985386\n92. 1.59056335393169\n93. -0.277400471081679\n94. -0.135079417747327\n95. -0.099499154413739\n96. 0.345254137256111\n97. -0.562042577750383\n98. 0.344720747065043\n99. 0.238042708851463\n100. 0.184703689744674\n101. 1.78487426294837\n102. 2.42494249222984\n103. 2.26492543490947\n104. 1.41150112920084\n105. 1.74599292533631\n106. 0.546875629479776\n107. 0.188437421082149\n108. -0.259610339414885\n109. -0.135079417747327\n110. 0.202933083921759\n111. -0.401931392749237\n112. -0.508672182750001\n113. -0.296751140613981\n114. -0.270221996900341\n115. -0.323280284327621\n116. -0.117289286080533\n117. -0.099499154413739\n118. 0.00724163558702493\n119. -0.348560997748855\n120. 0.861167955593136\n121. 0.87811093813294\n122. 0.87811093813294\n123. 0.504737804385412\n124. 0.504737804385412\n125. 0.771432899919361\n126. 0.771432899919361\n127. 1.46484014830763\n128. -0.0579888471912198\n129. -0.520327786255831\n130. -0.506036607688254\n131. -0.141997802284414\n132. 0.194038018088362\n133. 0.302049531779611\n134. 0.880326558926607\n135. 0.880326558926607\n136. -0.318621507870592\n137. 0.614948865256323\n138. 1.4153989805971\n139. 0.817666538743677\n140. 0.817666538743677\n141. -0.473091919416413\n142. -0.209204966358969\n143. 0.0549887131065236\n144. -0.346019550367884\n145. 0.0860265043971126\n146. 0.282247420936215\n147. -0.508703558643593\n148. -0.402025520430014\n149. -0.508703558643593\n150. 0.82477191902615\n151. 0.82477191902615\n152. 1.89155230116195\n153. 0.131364670637884\n154. 0.291381727958253\n155. 1.67819622473479\n156. 1.67819622473479\n157. 0.14678298084844\n158. 1.08276433249531\n159. 0.658298033077064\n160. -0.374695173471756\n161. 0.423562484682266\n162. -0.524238547958446\n163. 0.278046973181556\n164. 0.143632645032446\n165. -0.43055030021321\n166. 0.134866493196634\n167. 0.31457260583077\n168. 0.0625457405511888\n169. -0.335218398998759\n170. -0.508672182750001\n171. 0.194038018088362\n172. 0.383058167048048\n173. 0.383058167048048\n174. -0.562042577750383\n175. -0.46753250327054\n176. -0.0453875039272407\n177. 0.855608539447263\n178. -0.13191672767323\n179. -0.314048142315275\n180. -0.129996522985386\n181. 1.05623518878167\n182. 0.116886936880327\n183. -0.562042577750383\n184. -0.320096787081985\n185. -0.0781509964135863\n186. -0.108394220247136\n187. -0.0781509964135863\n188. 1.05813012761836\n189. -0.384141261082443\n190. -0.01667296763719\n191. 0.118429958504487\n192. 0.18174402466009\n193. 0.691944751933389\n194. -0.455301787749619\n195. -0.0915924292284973\n196. -0.562042577750383\n197. -0.452830936129231\n198. 0.20337234643205\n199. 1.05092936003894\n200. 0.23415658031654\n201. ⋯\n202. -0.562042577750383\n203. -0.551685309314236\n204. -0.551685309314236\n205. -0.562042577750383\n206. -0.562042577750383\n207. -0.552223349232997\n208. -0.562042577750383\n209. -0.562042577750383\n210. -0.552591570302398\n211. -0.552630786100938\n212. -0.562042577750383\n213. -0.562042577750383\n214. -0.55382431040431\n215. -0.538040019152327\n216. -0.562042577750383\n217. -0.55473745122054\n218. -0.548041085234851\n219. 1.3764548089375\n220. 0.603720455481162\n221. -0.562042577750383\n222. -0.562042577750383\n223. -0.555845195817278\n224. -0.555845195817278\n225. -0.562042577750383\n226. -0.555895581036247\n227. -0.562042577750383\n228. -0.562042577750383\n229. -0.562042577750383\n230. -0.562042577750383\n231. -0.562042577750383\n232. -0.562042577750383\n233. -0.562042577750383\n234. -0.562042577750383\n235. -0.562042577750383\n236. -0.562042577750383\n237. -0.562042577750383\n238. -0.562042577750383\n239. -0.562042577750383\n240. -0.562042577750383\n241. -0.562042577750383\n242. -0.556065656044148\n243. -0.562042577750383\n244. -0.562042577750383\n245. -0.562042577750383\n246. -0.562042577750383\n247. -0.562042577750383\n248. -0.562042577750383\n249. -0.562042577750383\n250. -0.562042577750383\n251. -0.562042577750383\n252. -0.562042577750383\n253. -0.562042577750383\n254. -0.562042577750383\n255. -0.562042577750383\n256. -0.562042577750383\n257. -0.562042577750383\n258. -0.562042577750383\n259. -0.562042577750383\n260. -0.562042577750383\n261. -0.562042577750383\n262. -0.562042577750383\n263. -0.562042577750383\n264. 0.0195578805871131\n265. -0.562042577750383\n266. -0.562042577750383\n267. -0.562042577750383\n268. 0.446064883367943\n269. -0.562042577750383\n270. -0.508703558643593\n271. -0.0579888471912198\n272. -0.562042577750383\n273. -0.562042577750383\n274. -0.562042577750383\n275. -0.562042577750383\n276. -0.329402394415384\n277. -0.562042577750383\n278. -0.562042577750383\n279. -0.562042577750383\n280. -0.562042577750383\n281. -0.562042577750383\n282. -0.562042577750383\n283. -0.562042577750383\n284. 1.27415315500085\n285. 0.734095586544608\n286. -0.562042577750383\n287. -0.360421085526718\n288. -0.562042577750383\n289. -0.562042577750383\n290. -0.562042577750383\n291. 0.383058167048048\n292. -0.562042577750383\n293. -0.562042577750383\n294. -0.562042577750383\n295. -0.562042577750383\n296. -0.562042577750383\n297. -0.562042577750383\n298. -0.562042577750383\n299. -0.562042577750383\n300. -0.562042577750383\n301. -0.556112533861452\n302. -0.562042577750383\n303. -0.562042577750383\n304. -0.562042577750383\n305. -0.562042577750383\n306. -0.562042577750383\n307. -0.562042577750383\n308. -0.562042577750383\n309. -0.562042577750383\n310. -0.562042577750383\n311. -0.562042577750383\n312. -0.562042577750383\n313. -0.562042577750383\n314. -0.562042577750383\n315. -0.531799353916833\n316. -0.562042577750383\n317. -0.554909741940583\n318. -0.562042577750383\n319. -0.535513434036743\n320. -0.562042577750383\n321. -0.562042577750383\n322. -0.551084887955618\n323. -0.562042577750383\n324. -0.555993932983673\n325. -0.562042577750383\n326. -0.562042577750383\n327. -0.562042577750383\n328. -0.548295657826042\n329. -0.562042577750383\n330. -0.562042577750383\n331. -0.562042577750383\n332. -0.562042577750383\n333. -0.562042577750383\n334. -0.562042577750383\n335. -0.562042577750383\n336. -0.562042577750383\n337. -0.562042577750383\n338. -0.562042577750383\n339. -0.562042577750383\n340. 1.3821646686921\n341. 1.49017618238335\n342. 2.0302337508396\n343. 0.842107100235857\n344. 1.70619920976585\n345. 2.13824526453085\n346. 0.950118613927106\n347. 1.48217532951733\n348. 1.99322980633426\n349. 1.35937324837193\n350. 0.811388229369539\n351. 1.69232617131009\n352. 2.15707295957795\n353. 0.998674248522255\n354. 1.8142107234571\n355. 1.49017618238335\n356. 1.8574153289336\n357. 1.5981876960746\n358. 1.3821646686921\n359. 0.748497121703441\n360. 0.76109846496742\n361. 1.5549830905981\n362. 0.855608539447263\n363. -0.562042577750383\n364. 0.143632645032445\n365. -0.562042577750383\n366. -0.562042577750383\n367. 2.84032010352397\n368. 0.626084072853359\n369. 2.96633353616376\n370. 1.45417234448627\n371. 2.36146905949276\n372. -0.562042577750383\n373. -0.562042577750383\n374. -0.562042577750383\n375. -0.562042577750383\n376. 0.950118613927106\n377. 2.4622798056046\n378. -0.0579888471912198\n379. -0.562042577750383\n380. 1.45417234448627\n381. 1.2525508522626\n382. -0.562042577750383\n383. 1.45417234448627\n384. -0.562042577750383\n385. -0.373022428790697\n386. 0.546875629479776\n387. 0.849307867815274\n388. -0.562042577750383\n389. -0.562042577750383\n390. -0.562042577750383\n391. -0.562042577750383\n392. -0.562042577750383\n393. -0.562042577750383\n394. -0.562042577750383\n395. -0.562042577750383\n396. -0.562042577750383\n397. -0.562042577750383\n398. -0.562042577750383\n399. -0.562042577750383\n400. -0.562042577750383\n401. -0.562042577750383\n\n\n",
            "text/latex": "\\begin{enumerate*}\n\\item -0.562042577750383\n\\item -0.135330424896065\n\\item -0.562042577750383\n\\item 2.31826445401626\n\\item 2.32618529835362\n\\item 2.4622798056046\n\\item -0.562042577750383\n\\item 0.3515548088881\n\\item -0.508672182750001\n\\item -0.495329583999905\n\\item -0.495573953940383\n\\item -0.0201848173992825\n\\item -0.184002279831011\n\\item 0.0699053829506574\n\\item -0.0386021652466365\n\\item -0.0159843696446228\n\\item 1.09413396551544\n\\item -0.191717387951814\n\\item 2.06434264989999\n\\item -0.403793150714366\n\\item 0.76109846496742\n\\item 0.389155591208038\n\\item -0.0159843696446228\n\\item 0.0522729063685972\n\\item 0.291883742255729\n\\item -0.312980734415267\n\\item -0.401931392749237\n\\item -0.178961742525419\n\\item -0.31361609626051\n\\item 0.273031513175992\n\\item -0.348560997748855\n\\item -0.188449812747709\n\\item -0.312980734415267\n\\item 0.451398785278622\n\\item 0.451398785278622\n\\item 1.0914670145601\n\\item 2.1049083775891\n\\item 0.162090950658556\n\\item 0.33038042061666\n\\item 0.00501786912867571\n\\item 0.6546388408407\n\\item 0.817804509655326\n\\item -0.0648936928153179\n\\item -0.321471479074419\n\\item -0.281212642153135\n\\item -0.117289286080533\n\\item 0.576525848924433\n\\item 0.309673873922523\n\\item 0.843377823926342\n\\item 0.167352820588171\n\\item 0.505365322257257\n\\item 0.470398511739765\n\\item 0.470398511739765\n\\item -0.00655479305252959\n\\item 0.286890021086102\n\\item 0.185142952254965\n\\item 1.35929164226337\n\\item 0.434204795590081\n\\item -0.259610339414885\n\\item 0.572078316007734\n\\item 1.2525508522626\n\\item -0.0327861606632616\n\\item -0.27295293816498\n\\item 2.62286329498628\n\\item 0.540945585590845\n\\item -0.526462314416795\n\\item 0.167352820588171\n\\item 0.576525848924433\n\\item 0.718846902258784\n\\item -0.348560997748855\n\\item 0.771432899919361\n\\item -0.0286523866824854\n\\item 2.638298568657\n\\item 1.83821328205516\n\\item 2.31826445401626\n\\item 1.99823033937552\n\\item -0.0176645487464867\n\\item -0.134692675754571\n\\item -0.490034901956217\n\\item -0.490034901956217\n\\item 1.10303379061359\n\\item -0.188449812747709\n\\item 0.0674543889207891\n\\item 0.665476507258403\n\\item 0.0250317672538188\n\\item 2.64018112227254\n\\item 1.06643870559461\n\\item 1.35929164226337\n\\item 0.068024585448571\n\\item -0.23192288097572\n\\item -0.129996522985386\n\\item 1.59056335393169\n\\item -0.277400471081679\n\\item -0.135079417747327\n\\item -0.099499154413739\n\\item 0.345254137256111\n\\item -0.562042577750383\n\\item 0.344720747065043\n\\item 0.238042708851463\n\\item 0.184703689744674\n\\item 1.78487426294837\n\\item 2.42494249222984\n\\item 2.26492543490947\n\\item 1.41150112920084\n\\item 1.74599292533631\n\\item 0.546875629479776\n\\item 0.188437421082149\n\\item -0.259610339414885\n\\item -0.135079417747327\n\\item 0.202933083921759\n\\item -0.401931392749237\n\\item -0.508672182750001\n\\item -0.296751140613981\n\\item -0.270221996900341\n\\item -0.323280284327621\n\\item -0.117289286080533\n\\item -0.099499154413739\n\\item 0.00724163558702493\n\\item -0.348560997748855\n\\item 0.861167955593136\n\\item 0.87811093813294\n\\item 0.87811093813294\n\\item 0.504737804385412\n\\item 0.504737804385412\n\\item 0.771432899919361\n\\item 0.771432899919361\n\\item 1.46484014830763\n\\item -0.0579888471912198\n\\item -0.520327786255831\n\\item -0.506036607688254\n\\item -0.141997802284414\n\\item 0.194038018088362\n\\item 0.302049531779611\n\\item 0.880326558926607\n\\item 0.880326558926607\n\\item -0.318621507870592\n\\item 0.614948865256323\n\\item 1.4153989805971\n\\item 0.817666538743677\n\\item 0.817666538743677\n\\item -0.473091919416413\n\\item -0.209204966358969\n\\item 0.0549887131065236\n\\item -0.346019550367884\n\\item 0.0860265043971126\n\\item 0.282247420936215\n\\item -0.508703558643593\n\\item -0.402025520430014\n\\item -0.508703558643593\n\\item 0.82477191902615\n\\item 0.82477191902615\n\\item 1.89155230116195\n\\item 0.131364670637884\n\\item 0.291381727958253\n\\item 1.67819622473479\n\\item 1.67819622473479\n\\item 0.14678298084844\n\\item 1.08276433249531\n\\item 0.658298033077064\n\\item -0.374695173471756\n\\item 0.423562484682266\n\\item -0.524238547958446\n\\item 0.278046973181556\n\\item 0.143632645032446\n\\item -0.43055030021321\n\\item 0.134866493196634\n\\item 0.31457260583077\n\\item 0.0625457405511888\n\\item -0.335218398998759\n\\item -0.508672182750001\n\\item 0.194038018088362\n\\item 0.383058167048048\n\\item 0.383058167048048\n\\item -0.562042577750383\n\\item -0.46753250327054\n\\item -0.0453875039272407\n\\item 0.855608539447263\n\\item -0.13191672767323\n\\item -0.314048142315275\n\\item -0.129996522985386\n\\item 1.05623518878167\n\\item 0.116886936880327\n\\item -0.562042577750383\n\\item -0.320096787081985\n\\item -0.0781509964135863\n\\item -0.108394220247136\n\\item -0.0781509964135863\n\\item 1.05813012761836\n\\item -0.384141261082443\n\\item -0.01667296763719\n\\item 0.118429958504487\n\\item 0.18174402466009\n\\item 0.691944751933389\n\\item -0.455301787749619\n\\item -0.0915924292284973\n\\item -0.562042577750383\n\\item -0.452830936129231\n\\item 0.20337234643205\n\\item 1.05092936003894\n\\item 0.23415658031654\n\\item ⋯\n\\item -0.562042577750383\n\\item -0.551685309314236\n\\item -0.551685309314236\n\\item -0.562042577750383\n\\item -0.562042577750383\n\\item -0.552223349232997\n\\item -0.562042577750383\n\\item -0.562042577750383\n\\item -0.552591570302398\n\\item -0.552630786100938\n\\item -0.562042577750383\n\\item -0.562042577750383\n\\item -0.55382431040431\n\\item -0.538040019152327\n\\item -0.562042577750383\n\\item -0.55473745122054\n\\item -0.548041085234851\n\\item 1.3764548089375\n\\item 0.603720455481162\n\\item -0.562042577750383\n\\item -0.562042577750383\n\\item -0.555845195817278\n\\item -0.555845195817278\n\\item -0.562042577750383\n\\item -0.555895581036247\n\\item -0.562042577750383\n\\item -0.562042577750383\n\\item -0.562042577750383\n\\item -0.562042577750383\n\\item -0.562042577750383\n\\item -0.562042577750383\n\\item -0.562042577750383\n\\item -0.562042577750383\n\\item -0.562042577750383\n\\item -0.562042577750383\n\\item -0.562042577750383\n\\item -0.562042577750383\n\\item -0.562042577750383\n\\item -0.562042577750383\n\\item -0.562042577750383\n\\item -0.556065656044148\n\\item -0.562042577750383\n\\item -0.562042577750383\n\\item -0.562042577750383\n\\item -0.562042577750383\n\\item -0.562042577750383\n\\item -0.562042577750383\n\\item -0.562042577750383\n\\item -0.562042577750383\n\\item -0.562042577750383\n\\item -0.562042577750383\n\\item -0.562042577750383\n\\item -0.562042577750383\n\\item -0.562042577750383\n\\item -0.562042577750383\n\\item -0.562042577750383\n\\item -0.562042577750383\n\\item -0.562042577750383\n\\item -0.562042577750383\n\\item -0.562042577750383\n\\item -0.562042577750383\n\\item -0.562042577750383\n\\item 0.0195578805871131\n\\item -0.562042577750383\n\\item -0.562042577750383\n\\item -0.562042577750383\n\\item 0.446064883367943\n\\item -0.562042577750383\n\\item -0.508703558643593\n\\item -0.0579888471912198\n\\item -0.562042577750383\n\\item -0.562042577750383\n\\item -0.562042577750383\n\\item -0.562042577750383\n\\item -0.329402394415384\n\\item -0.562042577750383\n\\item -0.562042577750383\n\\item -0.562042577750383\n\\item -0.562042577750383\n\\item -0.562042577750383\n\\item -0.562042577750383\n\\item -0.562042577750383\n\\item 1.27415315500085\n\\item 0.734095586544608\n\\item -0.562042577750383\n\\item -0.360421085526718\n\\item -0.562042577750383\n\\item -0.562042577750383\n\\item -0.562042577750383\n\\item 0.383058167048048\n\\item -0.562042577750383\n\\item -0.562042577750383\n\\item -0.562042577750383\n\\item -0.562042577750383\n\\item -0.562042577750383\n\\item -0.562042577750383\n\\item -0.562042577750383\n\\item -0.562042577750383\n\\item -0.562042577750383\n\\item -0.556112533861452\n\\item -0.562042577750383\n\\item -0.562042577750383\n\\item -0.562042577750383\n\\item -0.562042577750383\n\\item -0.562042577750383\n\\item -0.562042577750383\n\\item -0.562042577750383\n\\item -0.562042577750383\n\\item -0.562042577750383\n\\item -0.562042577750383\n\\item -0.562042577750383\n\\item -0.562042577750383\n\\item -0.562042577750383\n\\item -0.531799353916833\n\\item -0.562042577750383\n\\item -0.554909741940583\n\\item -0.562042577750383\n\\item -0.535513434036743\n\\item -0.562042577750383\n\\item -0.562042577750383\n\\item -0.551084887955618\n\\item -0.562042577750383\n\\item -0.555993932983673\n\\item -0.562042577750383\n\\item -0.562042577750383\n\\item -0.562042577750383\n\\item -0.548295657826042\n\\item -0.562042577750383\n\\item -0.562042577750383\n\\item -0.562042577750383\n\\item -0.562042577750383\n\\item -0.562042577750383\n\\item -0.562042577750383\n\\item -0.562042577750383\n\\item -0.562042577750383\n\\item -0.562042577750383\n\\item -0.562042577750383\n\\item -0.562042577750383\n\\item 1.3821646686921\n\\item 1.49017618238335\n\\item 2.0302337508396\n\\item 0.842107100235857\n\\item 1.70619920976585\n\\item 2.13824526453085\n\\item 0.950118613927106\n\\item 1.48217532951733\n\\item 1.99322980633426\n\\item 1.35937324837193\n\\item 0.811388229369539\n\\item 1.69232617131009\n\\item 2.15707295957795\n\\item 0.998674248522255\n\\item 1.8142107234571\n\\item 1.49017618238335\n\\item 1.8574153289336\n\\item 1.5981876960746\n\\item 1.3821646686921\n\\item 0.748497121703441\n\\item 0.76109846496742\n\\item 1.5549830905981\n\\item 0.855608539447263\n\\item -0.562042577750383\n\\item 0.143632645032445\n\\item -0.562042577750383\n\\item -0.562042577750383\n\\item 2.84032010352397\n\\item 0.626084072853359\n\\item 2.96633353616376\n\\item 1.45417234448627\n\\item 2.36146905949276\n\\item -0.562042577750383\n\\item -0.562042577750383\n\\item -0.562042577750383\n\\item -0.562042577750383\n\\item 0.950118613927106\n\\item 2.4622798056046\n\\item -0.0579888471912198\n\\item -0.562042577750383\n\\item 1.45417234448627\n\\item 1.2525508522626\n\\item -0.562042577750383\n\\item 1.45417234448627\n\\item -0.562042577750383\n\\item -0.373022428790697\n\\item 0.546875629479776\n\\item 0.849307867815274\n\\item -0.562042577750383\n\\item -0.562042577750383\n\\item -0.562042577750383\n\\item -0.562042577750383\n\\item -0.562042577750383\n\\item -0.562042577750383\n\\item -0.562042577750383\n\\item -0.562042577750383\n\\item -0.562042577750383\n\\item -0.562042577750383\n\\item -0.562042577750383\n\\item -0.562042577750383\n\\item -0.562042577750383\n\\item -0.562042577750383\n\\end{enumerate*}\n",
            "text/plain": [
              "  [1] -0.562042578 -0.135330425 -0.562042578  2.318264454  2.326185298\n",
              "  [6]  2.462279806 -0.562042578  0.351554809 -0.508672183 -0.495329584\n",
              " [11] -0.495573954 -0.020184817 -0.184002280  0.069905383 -0.038602165\n",
              " [16] -0.015984370  1.094133966 -0.191717388  2.064342650 -0.403793151\n",
              " [21]  0.761098465  0.389155591 -0.015984370  0.052272906  0.291883742\n",
              " [26] -0.312980734 -0.401931393 -0.178961743 -0.313616096  0.273031513\n",
              " [31] -0.348560998 -0.188449813 -0.312980734  0.451398785  0.451398785\n",
              " [36]  1.091467015  2.104908378  0.162090951  0.330380421  0.005017869\n",
              " [41]  0.654638841  0.817804510 -0.064893693 -0.321471479 -0.281212642\n",
              " [46] -0.117289286  0.576525849  0.309673874  0.843377824  0.167352821\n",
              " [51]  0.505365322  0.470398512  0.470398512 -0.006554793  0.286890021\n",
              " [56]  0.185142952  1.359291642  0.434204796 -0.259610339  0.572078316\n",
              " [61]  1.252550852 -0.032786161 -0.272952938  2.622863295  0.540945586\n",
              " [66] -0.526462314  0.167352821  0.576525849  0.718846902 -0.348560998\n",
              " [71]  0.771432900 -0.028652387  2.638298569  1.838213282  2.318264454\n",
              " [76]  1.998230339 -0.017664549 -0.134692676 -0.490034902 -0.490034902\n",
              " [81]  1.103033791 -0.188449813  0.067454389  0.665476507  0.025031767\n",
              " [86]  2.640181122  1.066438706  1.359291642  0.068024585 -0.231922881\n",
              " [91] -0.129996523  1.590563354 -0.277400471 -0.135079418 -0.099499154\n",
              " [96]  0.345254137 -0.562042578  0.344720747  0.238042709  0.184703690\n",
              "[101]  1.784874263  2.424942492  2.264925435  1.411501129  1.745992925\n",
              "[106]  0.546875629  0.188437421 -0.259610339 -0.135079418  0.202933084\n",
              "[111] -0.401931393 -0.508672183 -0.296751141 -0.270221997 -0.323280284\n",
              "[116] -0.117289286 -0.099499154  0.007241636 -0.348560998  0.861167956\n",
              "[121]  0.878110938  0.878110938  0.504737804  0.504737804  0.771432900\n",
              "[126]  0.771432900  1.464840148 -0.057988847 -0.520327786 -0.506036608\n",
              "[131] -0.141997802  0.194038018  0.302049532  0.880326559  0.880326559\n",
              "[136] -0.318621508  0.614948865  1.415398981  0.817666539  0.817666539\n",
              "[141] -0.473091919 -0.209204966  0.054988713 -0.346019550  0.086026504\n",
              "[146]  0.282247421 -0.508703559 -0.402025520 -0.508703559  0.824771919\n",
              "[151]  0.824771919  1.891552301  0.131364671  0.291381728  1.678196225\n",
              "[156]  1.678196225  0.146782981  1.082764332  0.658298033 -0.374695173\n",
              "[161]  0.423562485 -0.524238548  0.278046973  0.143632645 -0.430550300\n",
              "[166]  0.134866493  0.314572606  0.062545741 -0.335218399 -0.508672183\n",
              "[171]  0.194038018  0.383058167  0.383058167 -0.562042578 -0.467532503\n",
              "[176] -0.045387504  0.855608539 -0.131916728 -0.314048142 -0.129996523\n",
              "[181]  1.056235189  0.116886937 -0.562042578 -0.320096787 -0.078150996\n",
              "[186] -0.108394220 -0.078150996  1.058130128 -0.384141261 -0.016672968\n",
              "[191]  0.118429959  0.181744025  0.691944752 -0.455301788 -0.091592429\n",
              "[196] -0.562042578 -0.452830936  0.203372346  1.050929360  0.234156580\n",
              "[201] -0.346019550 -0.001653430 -0.562042578 -0.508703559 -0.455364540\n",
              "[206] -0.508703559 -0.508703559 -0.508703559 -0.508703559 -0.508703559\n",
              "[211] -0.562042578 -0.508703559  0.878110938  1.198145053  1.624857206\n",
              "[216]  1.998230339 -0.242008463 -0.463423370 -0.535744122 -0.537847999\n",
              "[221] -0.301950853 -0.457755599 -0.495329584 -0.495329584 -0.471312906\n",
              "[226]  0.798902495 -0.410826459 -0.441069682 -0.562042578 -0.536839891\n",
              "[231] -0.461231832  0.006818061  0.109304848 -0.455458529 -0.234184620\n",
              "[236] -0.368858989 -0.537847999 -0.418027226 -0.418027226 -0.432143268\n",
              "[241] -0.435474020 -0.467532503  0.244443391 -0.017664549 -0.475443038\n",
              "[246] -0.458789281 -0.189818284 -0.524934328 -0.240708325 -0.424573379\n",
              "[251] -0.355838779  0.125303418 -0.542058069 -0.500068758 -0.500068758\n",
              "[256] -0.360421086  0.366477452 -0.482455147 -0.553199530 -0.430550300\n",
              "[261] -0.430550300 -0.055797309 -0.216405734 -0.432428761  0.178916406\n",
              "[266] -0.546125092 -0.375520492 -0.452127777 -0.438804771 -0.473833175\n",
              "[271]  0.068024585 -0.553641682  0.698091749 -0.535357380 -0.425481765\n",
              "[276] -0.360421086  0.227394515 -0.441069682 -0.441069682 -0.441069682\n",
              "[281] -0.441069682 -0.441069682 -0.441069682 -0.441069682 -0.380583235\n",
              "[286] -0.539360160 -0.554481772 -0.554481772 -0.540127198 -0.554083835\n",
              "[291] -0.534548738  0.268163567 -0.553641682 -0.324243036 -0.553868733\n",
              "[296] -0.373022429 -0.473833175  1.175814314  1.175814314 -0.123219330\n",
              "[301] -0.218100032 -0.544252446 -0.282012727  0.264045481 -0.282012727\n",
              "[306] -0.057988847  1.431260811 -0.546290899 -0.238008037 -0.129996523\n",
              "[311] -0.292013794  0.086026504 -0.129996523  0.140032261 -0.455364540\n",
              "[316] -0.188669444 -0.455364540 -0.562042578 -0.562042578 -0.562042578\n",
              "[321] -0.508703559 -0.562042578  0.238042709  1.144806034  1.144806034\n",
              "[326]  0.184703690  0.398059766  2.318264454  2.744976607  1.784874263\n",
              "[331]  0.393006596 -0.141997802  1.002262103  0.134031622 -0.125196011\n",
              "[336] -0.091592429 -0.360421086  0.009218317  0.748497122 -0.057988847\n",
              "[341] -0.091592429 -0.057988847 -0.511637205 -0.553641682  0.042821899\n",
              "[346]  0.345254137  0.950118614 -0.290470772 -0.545694889  0.096827656\n",
              "[351]  0.058708417 -0.147077414 -0.307050691 -0.419721524  0.510646768\n",
              "[356]  0.808353502 -0.089492205 -0.541185182  0.407519598  0.345254137\n",
              "[361] -0.002044422 -0.531182145  0.681289958  0.284767690 -0.552517153\n",
              "[366] -0.004930560 -0.556112534 -0.553147512  0.164957995 -0.057988847\n",
              "[371] -0.542058069  0.215640321 -0.518837972 -0.562042578 -0.434254308\n",
              "[376] -0.033175034  1.065174357  1.071363971 -0.550410569 -0.550410569\n",
              "[381] -0.408828008 -0.174016310  0.671562605  1.010605062 -0.549945288\n",
              "[386] -0.046991311 -0.047031157  0.194038018  0.912314584 -0.108394220\n",
              "[391]  0.496470256  0.118429959 -0.552591570  0.723294435  0.798902495\n",
              "[396]  0.153919456 -0.416875103 -0.346019550  0.482068721 -0.202004199\n",
              "[401] -0.553147512 -0.553147512 -0.034544488  0.018205321 -0.311455866\n",
              "[406]  0.012072675 -0.461231832 -0.461231832 -0.167241873  0.197453016\n",
              "[411] -0.455458529 -0.514787541  0.204995708  0.095418810 -0.562042578\n",
              "[416] -0.114783634  0.698091749  0.162534660  0.083776265 -0.219666459\n",
              "[421]  2.657971254  0.087714184  0.090315770  0.617967601  0.405740585\n",
              "[426]  0.073065123  0.194038018 -0.011615904  0.466227033  0.072732780\n",
              "[431]  0.074656871  0.110690551 -0.156587144 -0.522765664 -0.522765664\n",
              "[436] -0.278846312 -0.552286699 -0.386813598 -0.562042578 -0.544727755\n",
              "[441] -0.544727755 -0.158030046 -0.547641043 -0.195458046 -0.122985249\n",
              "[446]  0.449854761 -0.552591570 -0.265911011  1.044628688 -0.085991832\n",
              "[451] -0.093992685 -0.383052069 -0.469461280 -0.537354232 -0.562042578\n",
              "[456] -0.379119853  0.693542527 -0.380583235 -0.477361551  0.356055289\n",
              "[461] -0.292013794 -0.551241426 -0.551241426 -0.097593069  0.451275965\n",
              "[466]  0.344720747 -0.562042578  2.584959550 -0.562042578  0.611415843\n",
              "[471]  0.558076823 -0.242290431 -0.498595255 -0.541185182  1.445592707\n",
              "[476] -0.253904071 -0.248197802  0.011916415 -0.562042578 -0.562042578\n",
              "[481] -0.562042578 -0.536839891  1.529780404  0.012828619 -0.245976099\n",
              "[486] -0.382318502 -0.462884467 -0.481805453 -0.543526318 -0.562042578\n",
              "[491] -0.552286699 -0.529696884  0.116491290 -0.241464405 -0.374534590\n",
              "[496] -0.471312906 -0.305562941 -0.298014433 -0.538040019 -0.538040019\n",
              "[501] -0.472388752 -0.307362798 -0.554083835 -0.552591570 -0.550410569\n",
              "[506] -0.294506367 -0.282874358 -0.306138376 -0.294506367 -0.294506367\n",
              "[511] -0.534381093 -0.543601588  1.410341585 -0.562042578 -0.298559946\n",
              "[516] -0.562042578 -0.562042578 -0.553147512  0.687134059  0.518965216\n",
              "[521] -0.562042578 -0.222577820 -0.281561066 -0.547910230 -0.547910230\n",
              "[526] -0.344291366 -0.555993933 -0.553641682 -0.562042578 -0.553641682\n",
              "[531] -0.545240787 -0.553641682  0.943754299 -0.553734000  0.939901309\n",
              "[536] -0.552028265 -0.107594135 -0.482455147 -0.542530820 -0.536193668\n",
              "[541] -0.536193668 -0.538778559 -0.168400617 -0.150505038 -0.169646319\n",
              "[546] -0.112222476 -0.562042578 -0.562042578  1.252550852 -0.554556631\n",
              "[551] -0.506266140 -0.552765515 -0.173201128 -0.153999082 -0.552877964\n",
              "[556] -0.385217277 -0.562042578 -0.251073946 -0.543823768 -0.537847999\n",
              "[561]  0.266045694 -0.547641043 -0.547641043 -0.547641043 -0.547641043\n",
              "[566]  0.469785059  0.469785059 -0.562042578 -0.554943229 -0.168705852\n",
              "[571] -0.562042578 -0.536412727 -0.536556715 -0.562042578 -0.562042578\n",
              "[576] -0.123595841 -0.562042578  0.935163174 -0.562042578 -0.562042578\n",
              "[581]  0.449614558 -0.050889499 -0.346019550  2.919740334  2.361047257\n",
              "[586] -0.493871376 -0.562042578 -0.160856955 -0.562042578 -0.562042578\n",
              "[591] -0.562042578  0.930221756 -0.556112534 -0.554666182 -0.554737451\n",
              "[596]  0.115218805 -0.552349237 -0.552349237 -0.562042578 -0.547641043\n",
              "[601] -0.511637205 -0.043587312 -0.403625691 -0.121793117 -0.550964474\n",
              "[606] -0.562042578 -0.562042578 -0.562042578 -0.562042578 -0.562042578\n",
              "[611] -0.562042578 -0.562042578 -0.562042578 -0.553641682 -0.562042578\n",
              "[616] -0.524395411 -0.518120883 -0.530669939 -0.298409212 -0.555845196\n",
              "[621] -0.555845196 -0.555845196 -0.555845196 -0.537253050 -0.549945288\n",
              "[626] -0.549945288 -0.562042578 -0.562042578 -0.562042578 -0.562042578\n",
              "[631] -0.550228818 -0.550228818 -0.550228818 -0.550228818 -0.550410569\n",
              "[636] -0.550499363 -0.562042578 -0.562042578 -0.562042578 -0.562042578\n",
              "[641] -0.562042578 -0.562042578 -0.562042578 -0.562042578 -0.539804913\n",
              "[646] -0.562042578 -0.517999048 -0.562042578 -0.562042578 -0.562042578\n",
              "[651] -0.562042578  2.289461384  0.449614558 -0.551541458 -0.562042578\n",
              "[656] -0.562042578 -0.562042578 -0.562042578 -0.531799354  2.724387745\n",
              "[661] -0.552028265 -0.562042578 -0.562042578 -0.552349237 -0.552349237\n",
              "[666] -0.498506393 -0.562042578 -0.562042578 -0.562042578 -0.552591570\n",
              "[671] -0.543140563 -0.562042578 -0.562042578 -0.562042578 -0.562042578\n",
              "[676] -0.431897557 -0.562042578 -0.537354232 -0.555870491 -0.562042578\n",
              "[681] -0.562042578 -0.562042578 -0.562042578 -0.562042578 -0.562042578\n",
              "[686] -0.556181488 -0.532962555 -0.562042578 -0.509899088 -0.536699094\n",
              "[691] -0.553641682 -0.562042578 -0.375719214 -0.545955757 -0.554083835\n",
              "[696] -0.562042578 -0.374001808 -0.562042578 -0.539913390 -0.360421086\n",
              "[701] -0.554841810 -0.562042578 -0.562042578 -0.559237084 -0.562042578\n",
              "[706]  1.833327806  1.565688657  1.523007876 -0.535513434 -0.548893350\n",
              "[711] -0.555635115 -0.555741906 -0.555741906 -0.562042578 -0.562042578\n",
              "[716] -0.562042578 -0.543218994 -0.562042578 -0.555845196 -0.537253050\n",
              "[721] -0.562042578 -0.562042578 -0.413305411 -0.555870491 -0.562042578\n",
              "[726] -0.562042578 -0.562042578 -0.562042578 -0.555945154 -0.555969641\n",
              "[731] -0.562042578 -0.562042578 -0.562042578 -0.562042578 -0.562042578\n",
              "[736] -0.562042578 -0.556379053 -0.562042578 -0.550923745 -0.562042578\n",
              "[741] -0.551241426 -0.562042578 -0.562042578 -0.562042578 -0.562042578\n",
              "[746] -0.541040339 -0.562042578 -0.551685309 -0.551685309 -0.562042578\n",
              "[751] -0.562042578 -0.552223349 -0.562042578 -0.562042578 -0.552591570\n",
              "[756] -0.552630786 -0.562042578 -0.562042578 -0.553824310 -0.538040019\n",
              "[761] -0.562042578 -0.554737451 -0.548041085  1.376454809  0.603720455\n",
              "[766] -0.562042578 -0.562042578 -0.555845196 -0.555845196 -0.562042578\n",
              "[771] -0.555895581 -0.562042578 -0.562042578 -0.562042578 -0.562042578\n",
              "[776] -0.562042578 -0.562042578 -0.562042578 -0.562042578 -0.562042578\n",
              "[781] -0.562042578 -0.562042578 -0.562042578 -0.562042578 -0.562042578\n",
              "[786] -0.562042578 -0.556065656 -0.562042578 -0.562042578 -0.562042578\n",
              "[791] -0.562042578 -0.562042578 -0.562042578 -0.562042578 -0.562042578\n",
              "[796] -0.562042578 -0.562042578 -0.562042578 -0.562042578 -0.562042578\n",
              "[801] -0.562042578 -0.562042578 -0.562042578 -0.562042578 -0.562042578\n",
              "[806] -0.562042578 -0.562042578 -0.562042578  0.019557881 -0.562042578\n",
              "[811] -0.562042578 -0.562042578  0.446064883 -0.562042578 -0.508703559\n",
              "[816] -0.057988847 -0.562042578 -0.562042578 -0.562042578 -0.562042578\n",
              "[821] -0.329402394 -0.562042578 -0.562042578 -0.562042578 -0.562042578\n",
              "[826] -0.562042578 -0.562042578 -0.562042578  1.274153155  0.734095587\n",
              "[831] -0.562042578 -0.360421086 -0.562042578 -0.562042578 -0.562042578\n",
              "[836]  0.383058167 -0.562042578 -0.562042578 -0.562042578 -0.562042578\n",
              "[841] -0.562042578 -0.562042578 -0.562042578 -0.562042578 -0.562042578\n",
              "[846] -0.556112534 -0.562042578 -0.562042578 -0.562042578 -0.562042578\n",
              "[851] -0.562042578 -0.562042578 -0.562042578 -0.562042578 -0.562042578\n",
              "[856] -0.562042578 -0.562042578 -0.562042578 -0.562042578 -0.531799354\n",
              "[861] -0.562042578 -0.554909742 -0.562042578 -0.535513434 -0.562042578\n",
              "[866] -0.562042578 -0.551084888 -0.562042578 -0.555993933 -0.562042578\n",
              "[871] -0.562042578 -0.562042578 -0.548295658 -0.562042578 -0.562042578\n",
              "[876] -0.562042578 -0.562042578 -0.562042578 -0.562042578 -0.562042578\n",
              "[881] -0.562042578 -0.562042578 -0.562042578 -0.562042578  1.382164669\n",
              "[886]  1.490176182  2.030233751  0.842107100  1.706199210  2.138245265\n",
              "[891]  0.950118614  1.482175330  1.993229806  1.359373248  0.811388229\n",
              "[896]  1.692326171  2.157072960  0.998674249  1.814210723  1.490176182\n",
              "[901]  1.857415329  1.598187696  1.382164669  0.748497122  0.761098465\n",
              "[906]  1.554983091  0.855608539 -0.562042578  0.143632645 -0.562042578\n",
              "[911] -0.562042578  2.840320104  0.626084073  2.966333536  1.454172344\n",
              "[916]  2.361469059 -0.562042578 -0.562042578 -0.562042578 -0.562042578\n",
              "[921]  0.950118614  2.462279806 -0.057988847 -0.562042578  1.454172344\n",
              "[926]  1.252550852 -0.562042578  1.454172344 -0.562042578 -0.373022429\n",
              "[931]  0.546875629  0.849307868 -0.562042578 -0.562042578 -0.562042578\n",
              "[936] -0.562042578 -0.562042578 -0.562042578 -0.562042578 -0.562042578\n",
              "[941] -0.562042578 -0.562042578 -0.562042578 -0.562042578 -0.562042578\n",
              "[946] -0.562042578"
            ]
          },
          "metadata": {}
        },
        {
          "output_type": "display_data",
          "data": {
            "text/plain": [
              "Plot with title “Kernel Density of Scaled Saturated Fat per Gram”"
            ],
            "image/png": "[encoded data removed]"
          },
          "metadata": {
            "image/png": {
              "width": 420,
              "height": 420
            }
          }
        }
      ]
    },
    {
      "cell_type": "markdown",
      "source": [
        "6.Are there any missing values? If so, impute as necessary and explain your approach."
      ],
      "metadata": {
        "id": "GbXQis3P2h1c"
      }
    },
    {
      "cell_type": "code",
      "source": [
        "cat(\"There are\", sum(is.na(training_data)), \"missing values.\\n\\n\")"
      ],
      "metadata": {
        "id": "9z1iYpFh3H19",
        "colab": {
          "base_uri": "https://localhost:8080/"
        },
        "outputId": "8c062b1c-0084-4adf-eb13-e5b9eb414d9a"
      },
      "execution_count": 5,
      "outputs": [
        {
          "output_type": "stream",
          "name": "stdout",
          "text": [
            "There are 0 missing values.\n",
            "\n"
          ]
        }
      ]
    },
    {
      "cell_type": "markdown",
      "source": [
        "Since there are no missing values there is no need to do any imputing"
      ],
      "metadata": {
        "id": "tQc_q9XU_C4r"
      }
    },
    {
      "cell_type": "markdown",
      "source": [
        "7.Standardize (zero mean) the numeric variables, and determine if there are any outliers."
      ],
      "metadata": {
        "id": "kyWaMjBz2ofS"
      }
    },
    {
      "cell_type": "code",
      "source": [
        "\n",
        "training_data$scaled_weight_in_grams <- scale(x = training_data$weight_in_grams)\n",
        "training_data$scaled_saturated_fat <- scale(x = training_data$saturated_fat)\n",
        "training_data$scaled_cholesterol <- scale(x = training_data$cholesterol)\n",
        "\n",
        "three_sigma_rule_first <- (training_data$scaled_weight_in_grams < -3 |\n",
        "                     training_data$scaled_weight_in_grams > 3 )\n",
        "\n",
        "three_sigma_rule_second <- (training_data$scaled_saturated_fat < -3 |\n",
        "                     training_data$scaled_saturated_fat > 3 )\n",
        "\n",
        "three_sigma_rule_third <- (training_data$scaled_cholesterol < -3 |\n",
        "                     training_data$scaled_cholesterol > 3 )\n",
        "\n",
        "cat (\"\\nThere are\", sum(three_sigma_rule_first), \"outliers for weight in grams\\n\\n\")\n",
        "cat (\"\\nThere are\", sum(three_sigma_rule_second), \"outliers saturated fat\\n\\n\")\n",
        "cat (\"\\nThere are\", sum(three_sigma_rule_third), \"outliers cholesterol\\n\\n\")\n",
        "\n"
      ],
      "metadata": {
        "id": "NjFpRrf33IUT",
        "colab": {
          "base_uri": "https://localhost:8080/",
          "height": 550
        },
        "outputId": "4f87ecf2-ba4a-46e4-e51a-e1f47e221a61"
      },
      "execution_count": 8,
      "outputs": [
        {
          "output_type": "display_data",
          "data": {
            "text/plain": [
              "  food item         weight_in_grams  saturated_fat      cholesterol     \n",
              " Length:961         Min.   :   0.4   Min.   :  0.000   Min.   :   0.00  \n",
              " Class :character   1st Qu.:  32.0   1st Qu.:  0.000   1st Qu.:   0.00  \n",
              " Mode  :character   Median : 113.0   Median :  0.400   Median :   0.00  \n",
              "                    Mean   : 149.4   Mean   :  3.988   Mean   :  32.55  \n",
              "                    3rd Qu.: 218.0   3rd Qu.:  3.300   3rd Qu.:  20.00  \n",
              "                    Max.   :1542.0   Max.   :119.900   Max.   :2053.00  \n",
              " saturated_fat_per_gram scaled_saturated_fat_per_gram.V1\n",
              " Min.   :0.00000        Min.   :-0.562043               \n",
              " 1st Qu.:0.00000        1st Qu.:-0.562043               \n",
              " Median :0.00800        Median :-0.441070               \n",
              " Mean   :0.03717        Mean   : 0.000000               \n",
              " 3rd Qu.:0.04735        3rd Qu.: 0.153919               \n",
              " Max.   :0.50714        Max.   : 7.106775               \n",
              " scaled_weight_in_grams.V1 scaled_saturated_fat.V1 scaled_cholesterol.V1\n",
              " Min.   :-0.847080         Min.   :-0.371136       Min.   :-0.271369    \n",
              " 1st Qu.:-0.667442         1st Qu.:-0.371136       1st Qu.:-0.271369    \n",
              " Median :-0.206978         Median :-0.333907       Median :-0.271369    \n",
              " Mean   : 0.000000         Mean   : 0.000000       Mean   : 0.000000    \n",
              " 3rd Qu.: 0.389920         3rd Qu.:-0.063998       3rd Qu.:-0.104648    \n",
              " Max.   : 7.916524         Max.   :10.788208       Max.   :16.842585    "
            ]
          },
          "metadata": {}
        },
        {
          "output_type": "stream",
          "name": "stdout",
          "text": [
            "\n",
            "There are 22 outliers for weight in grams\n",
            "\n",
            "\n",
            "There are 20 outliers saturated fat\n",
            "\n",
            "\n",
            "There are 17 outliers cholesterol\n",
            "\n"
          ]
        }
      ]
    },
    {
      "cell_type": "markdown",
      "source": [
        "8.Summarize your findings.\\\n",
        "In this notebook the biggest thing that I noticed was when we had to compare the food by staurated fat. It really is a good lesson to remeber to make sure your units are the same whenever you want to compare things to eachother. In that example we say that they list did change when we decied to make the new column of saturated fat per weight."
      ],
      "metadata": {
        "id": "cPUiydVN3EjR"
      }
    }
  ]
}