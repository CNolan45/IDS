{
  "nbformat": 4,
  "nbformat_minor": 0,
  "metadata": {
    "colab": {
      "provenance": []
    },
    "kernelspec": {
      "name": "ir",
      "display_name": "R"
    },
    "language_info": {
      "name": "R"
    }
  },
  "cells": [
    {
      "cell_type": "markdown",
      "source": [
        "#Project 4 - Problem 1 (R)\n",
        "###Intro to Data Science\n",
        "######*Chris Nolan*"
      ],
      "metadata": {
        "id": "WN33S4NODxJQ"
      }
    },
    {
      "cell_type": "markdown",
      "source": [
        "1. Use the following dataset about adults: https://github.com/bforoura/IDS/blob/main/HW4/adult_training.csvLinks to an external site."
      ],
      "metadata": {
        "id": "QkY3Ga-pHcAU"
      }
    },
    {
      "cell_type": "code",
      "execution_count": null,
      "metadata": {
        "colab": {
          "base_uri": "https://localhost:8080/",
          "height": 784
        },
        "id": "CXmh7567DgDc",
        "outputId": "495e76ff-0bbf-43cf-bbb7-6ba8634967b6"
      },
      "outputs": [
        {
          "output_type": "display_data",
          "data": {
            "text/plain": [
              "      age         workclass           education     marital-status    \n",
              " Min.   :17.00   Length:14797       Min.   : 1.00   Length:14797      \n",
              " 1st Qu.:28.00   Class :character   1st Qu.: 9.00   Class :character  \n",
              " Median :37.00   Mode  :character   Median :10.00   Mode  :character  \n",
              " Mean   :38.69                      Mean   :10.07                     \n",
              " 3rd Qu.:48.00                      3rd Qu.:12.00                     \n",
              " Max.   :90.00                      Max.   :16.00                     \n",
              "  occupation            sex             capital-gain    capital-loss    \n",
              " Length:14797       Length:14797       Min.   :    0   Min.   :   0.00  \n",
              " Class :character   Class :character   1st Qu.:    0   1st Qu.:   0.00  \n",
              " Mode  :character   Mode  :character   Median :    0   Median :   0.00  \n",
              "                                       Mean   : 1067   Mean   :  88.58  \n",
              "                                       3rd Qu.:    0   3rd Qu.:   0.00  \n",
              "                                       Max.   :99999   Max.   :4356.00  \n",
              "    income         \n",
              " Length:14797      \n",
              " Class :character  \n",
              " Mode  :character  \n",
              "                   \n",
              "                   \n",
              "                   "
            ]
          },
          "metadata": {}
        },
        {
          "output_type": "display_data",
          "data": {
            "text/html": [
              "<table class=\"dataframe\">\n",
              "<caption>A tibble: 10 × 9</caption>\n",
              "<thead>\n",
              "\t<tr><th scope=col>age</th><th scope=col>workclass</th><th scope=col>education</th><th scope=col>marital-status</th><th scope=col>occupation</th><th scope=col>sex</th><th scope=col>capital-gain</th><th scope=col>capital-loss</th><th scope=col>income</th></tr>\n",
              "\t<tr><th scope=col>&lt;dbl&gt;</th><th scope=col>&lt;chr&gt;</th><th scope=col>&lt;dbl&gt;</th><th scope=col>&lt;chr&gt;</th><th scope=col>&lt;chr&gt;</th><th scope=col>&lt;chr&gt;</th><th scope=col>&lt;dbl&gt;</th><th scope=col>&lt;dbl&gt;</th><th scope=col>&lt;chr&gt;</th></tr>\n",
              "</thead>\n",
              "<tbody>\n",
              "\t<tr><td>50</td><td>Self-emp-not-inc</td><td>13</td><td><span style=white-space:pre-wrap>Married-civ-spouse   </span></td><td><span style=white-space:pre-wrap>Exec-managerial  </span></td><td><span style=white-space:pre-wrap>Male  </span></td><td><span style=white-space:pre-wrap>    0</span></td><td><span style=white-space:pre-wrap>   0</span></td><td>&lt;=50K</td></tr>\n",
              "\t<tr><td>38</td><td><span style=white-space:pre-wrap>Private         </span></td><td> 9</td><td><span style=white-space:pre-wrap>Divorced             </span></td><td>Handlers-cleaners</td><td><span style=white-space:pre-wrap>Male  </span></td><td><span style=white-space:pre-wrap>    0</span></td><td><span style=white-space:pre-wrap>   0</span></td><td>&lt;=50K</td></tr>\n",
              "\t<tr><td>49</td><td><span style=white-space:pre-wrap>Private         </span></td><td> 5</td><td>Married-spouse-absent</td><td><span style=white-space:pre-wrap>Other-service    </span></td><td>Female</td><td><span style=white-space:pre-wrap>    0</span></td><td><span style=white-space:pre-wrap>   0</span></td><td>&lt;=50K</td></tr>\n",
              "\t<tr><td>52</td><td>Self-emp-not-inc</td><td> 9</td><td><span style=white-space:pre-wrap>Married-civ-spouse   </span></td><td><span style=white-space:pre-wrap>Exec-managerial  </span></td><td><span style=white-space:pre-wrap>Male  </span></td><td><span style=white-space:pre-wrap>    0</span></td><td><span style=white-space:pre-wrap>   0</span></td><td>&gt;50K </td></tr>\n",
              "\t<tr><td>31</td><td><span style=white-space:pre-wrap>Private         </span></td><td>14</td><td><span style=white-space:pre-wrap>Never-married        </span></td><td><span style=white-space:pre-wrap>Prof-specialty   </span></td><td>Female</td><td>14084</td><td><span style=white-space:pre-wrap>   0</span></td><td>&gt;50K </td></tr>\n",
              "\t<tr><td>40</td><td><span style=white-space:pre-wrap>Private         </span></td><td>11</td><td><span style=white-space:pre-wrap>Married-civ-spouse   </span></td><td><span style=white-space:pre-wrap>Craft-repair     </span></td><td><span style=white-space:pre-wrap>Male  </span></td><td><span style=white-space:pre-wrap>    0</span></td><td><span style=white-space:pre-wrap>   0</span></td><td>&gt;50K </td></tr>\n",
              "\t<tr><td>38</td><td><span style=white-space:pre-wrap>Private         </span></td><td> 7</td><td><span style=white-space:pre-wrap>Married-civ-spouse   </span></td><td><span style=white-space:pre-wrap>Sales            </span></td><td><span style=white-space:pre-wrap>Male  </span></td><td><span style=white-space:pre-wrap>    0</span></td><td><span style=white-space:pre-wrap>   0</span></td><td>&lt;=50K</td></tr>\n",
              "\t<tr><td>43</td><td><span style=white-space:pre-wrap>Private         </span></td><td> 7</td><td><span style=white-space:pre-wrap>Married-civ-spouse   </span></td><td>Transport-moving </td><td><span style=white-space:pre-wrap>Male  </span></td><td><span style=white-space:pre-wrap>    0</span></td><td>2042</td><td>&lt;=50K</td></tr>\n",
              "\t<tr><td>54</td><td><span style=white-space:pre-wrap>?               </span></td><td>10</td><td><span style=white-space:pre-wrap>Married-civ-spouse   </span></td><td><span style=white-space:pre-wrap>?                </span></td><td><span style=white-space:pre-wrap>Male  </span></td><td><span style=white-space:pre-wrap>    0</span></td><td><span style=white-space:pre-wrap>   0</span></td><td>&gt;50K </td></tr>\n",
              "\t<tr><td>39</td><td><span style=white-space:pre-wrap>Private         </span></td><td> 9</td><td><span style=white-space:pre-wrap>Divorced             </span></td><td><span style=white-space:pre-wrap>Exec-managerial  </span></td><td><span style=white-space:pre-wrap>Male  </span></td><td><span style=white-space:pre-wrap>    0</span></td><td><span style=white-space:pre-wrap>   0</span></td><td>&lt;=50K</td></tr>\n",
              "</tbody>\n",
              "</table>\n"
            ],
            "text/markdown": "\nA tibble: 10 × 9\n\n| age &lt;dbl&gt; | workclass &lt;chr&gt; | education &lt;dbl&gt; | marital-status &lt;chr&gt; | occupation &lt;chr&gt; | sex &lt;chr&gt; | capital-gain &lt;dbl&gt; | capital-loss &lt;dbl&gt; | income &lt;chr&gt; |\n|---|---|---|---|---|---|---|---|---|\n| 50 | Self-emp-not-inc | 13 | Married-civ-spouse    | Exec-managerial   | Male   |     0 |    0 | &lt;=50K |\n| 38 | Private          |  9 | Divorced              | Handlers-cleaners | Male   |     0 |    0 | &lt;=50K |\n| 49 | Private          |  5 | Married-spouse-absent | Other-service     | Female |     0 |    0 | &lt;=50K |\n| 52 | Self-emp-not-inc |  9 | Married-civ-spouse    | Exec-managerial   | Male   |     0 |    0 | &gt;50K  |\n| 31 | Private          | 14 | Never-married         | Prof-specialty    | Female | 14084 |    0 | &gt;50K  |\n| 40 | Private          | 11 | Married-civ-spouse    | Craft-repair      | Male   |     0 |    0 | &gt;50K  |\n| 38 | Private          |  7 | Married-civ-spouse    | Sales             | Male   |     0 |    0 | &lt;=50K |\n| 43 | Private          |  7 | Married-civ-spouse    | Transport-moving  | Male   |     0 | 2042 | &lt;=50K |\n| 54 | ?                | 10 | Married-civ-spouse    | ?                 | Male   |     0 |    0 | &gt;50K  |\n| 39 | Private          |  9 | Divorced              | Exec-managerial   | Male   |     0 |    0 | &lt;=50K |\n\n",
            "text/latex": "A tibble: 10 × 9\n\\begin{tabular}{lllllllll}\n age & workclass & education & marital-status & occupation & sex & capital-gain & capital-loss & income\\\\\n <dbl> & <chr> & <dbl> & <chr> & <chr> & <chr> & <dbl> & <dbl> & <chr>\\\\\n\\hline\n\t 50 & Self-emp-not-inc & 13 & Married-civ-spouse    & Exec-managerial   & Male   &     0 &    0 & <=50K\\\\\n\t 38 & Private          &  9 & Divorced              & Handlers-cleaners & Male   &     0 &    0 & <=50K\\\\\n\t 49 & Private          &  5 & Married-spouse-absent & Other-service     & Female &     0 &    0 & <=50K\\\\\n\t 52 & Self-emp-not-inc &  9 & Married-civ-spouse    & Exec-managerial   & Male   &     0 &    0 & >50K \\\\\n\t 31 & Private          & 14 & Never-married         & Prof-specialty    & Female & 14084 &    0 & >50K \\\\\n\t 40 & Private          & 11 & Married-civ-spouse    & Craft-repair      & Male   &     0 &    0 & >50K \\\\\n\t 38 & Private          &  7 & Married-civ-spouse    & Sales             & Male   &     0 &    0 & <=50K\\\\\n\t 43 & Private          &  7 & Married-civ-spouse    & Transport-moving  & Male   &     0 & 2042 & <=50K\\\\\n\t 54 & ?                & 10 & Married-civ-spouse    & ?                 & Male   &     0 &    0 & >50K \\\\\n\t 39 & Private          &  9 & Divorced              & Exec-managerial   & Male   &     0 &    0 & <=50K\\\\\n\\end{tabular}\n",
            "text/plain": [
              "   age workclass        education marital-status        occupation       \n",
              "1  50  Self-emp-not-inc 13        Married-civ-spouse    Exec-managerial  \n",
              "2  38  Private           9        Divorced              Handlers-cleaners\n",
              "3  49  Private           5        Married-spouse-absent Other-service    \n",
              "4  52  Self-emp-not-inc  9        Married-civ-spouse    Exec-managerial  \n",
              "5  31  Private          14        Never-married         Prof-specialty   \n",
              "6  40  Private          11        Married-civ-spouse    Craft-repair     \n",
              "7  38  Private           7        Married-civ-spouse    Sales            \n",
              "8  43  Private           7        Married-civ-spouse    Transport-moving \n",
              "9  54  ?                10        Married-civ-spouse    ?                \n",
              "10 39  Private           9        Divorced              Exec-managerial  \n",
              "   sex    capital-gain capital-loss income\n",
              "1  Male       0           0         <=50K \n",
              "2  Male       0           0         <=50K \n",
              "3  Female     0           0         <=50K \n",
              "4  Male       0           0         >50K  \n",
              "5  Female 14084           0         >50K  \n",
              "6  Male       0           0         >50K  \n",
              "7  Male       0           0         <=50K \n",
              "8  Male       0        2042         <=50K \n",
              "9  Male       0           0         >50K  \n",
              "10 Male       0           0         <=50K "
            ]
          },
          "metadata": {}
        }
      ],
      "source": [
        "# Let's read in the data file\n",
        "\n",
        "library(readr)\n",
        "training_data <- read_csv(\"https://raw.githubusercontent.com/bforoura/IDS/main/HW4/adult_training.csv\", show_col_types = FALSE)\n",
        "\n",
        "summary(training_data)\n",
        "\n",
        "head(training_data,10)"
      ]
    },
    {
      "cell_type": "markdown",
      "source": [
        "First lets search for any missing data that needs to be imputed"
      ],
      "metadata": {
        "id": "Bj6cSnbB46A-"
      }
    },
    {
      "cell_type": "code",
      "source": [
        "cat(\"There are\", sum(is.na(training_data)), \"missing values.\\n\\n\")"
      ],
      "metadata": {
        "colab": {
          "base_uri": "https://localhost:8080/"
        },
        "id": "OoI79d7u4_IV",
        "outputId": "62851914-8867-4f1c-ad9e-fc06b61dd2f7"
      },
      "execution_count": null,
      "outputs": [
        {
          "output_type": "stream",
          "name": "stdout",
          "text": [
            "There are 0 missing values.\n",
            "\n"
          ]
        }
      ]
    },
    {
      "cell_type": "markdown",
      "source": [
        "Since there are no missing values there is no need to impute anything"
      ],
      "metadata": {
        "id": "qccvp9Dl5SeH"
      }
    },
    {
      "cell_type": "markdown",
      "source": [
        "2. Create a contingency table of workclass and sex, and plot it."
      ],
      "metadata": {
        "id": "nONCuQJ8F2eR"
      }
    },
    {
      "cell_type": "code",
      "source": [
        "firstTable <- table(training_data$workclass, training_data$sex)\n",
        "\n",
        "ftable(firstTable)"
      ],
      "metadata": {
        "colab": {
          "base_uri": "https://localhost:8080/",
          "height": 212
        },
        "id": "x6tP4l44F4I7",
        "outputId": "d75e40fa-4690-4a40-f5ee-fea2bc0cc37e"
      },
      "execution_count": null,
      "outputs": [
        {
          "output_type": "display_data",
          "data": {
            "text/plain": [
              "                  Female Male\n",
              "                             \n",
              "?                    377  452\n",
              "Federal-gov          149  305\n",
              "Local-gov            377  592\n",
              "Never-worked           1    4\n",
              "Private             3574 6707\n",
              "Self-emp-inc          54  444\n",
              "Self-emp-not-inc     178  992\n",
              "State-gov            201  385\n",
              "Without-pay            1    4"
            ]
          },
          "metadata": {}
        }
      ]
    },
    {
      "cell_type": "markdown",
      "source": [
        "3. Create a contingency table of sex and marital status, and plot it."
      ],
      "metadata": {
        "id": "lLxJdXlbHZfi"
      }
    },
    {
      "cell_type": "code",
      "source": [
        "secondTable <- table(training_data$`marital-status`, training_data$sex)\n",
        "\n",
        "ftable(secondTable)\n",
        "\n",
        "margin.table(secondTable, 1)\n",
        "\n",
        "margin.table(secondTable,2)"
      ],
      "metadata": {
        "colab": {
          "base_uri": "https://localhost:8080/",
          "height": 354
        },
        "id": "ereeuJgeHhJ_",
        "outputId": "1dbd1fdb-89ab-4ef7-cae3-cc7d4e0cc225"
      },
      "execution_count": null,
      "outputs": [
        {
          "output_type": "display_data",
          "data": {
            "text/plain": [
              "                       Female Male\n",
              "                                  \n",
              "Divorced                 1219  795\n",
              "Married-AF-spouse           7    4\n",
              "Married-civ-spouse        761 6010\n",
              "Married-spouse-absent      95  104\n",
              "Never-married            2160 2717\n",
              "Separated                 290  182\n",
              "Widowed                   380   73"
            ]
          },
          "metadata": {}
        },
        {
          "output_type": "display_data",
          "data": {
            "text/plain": [
              "\n",
              "             Divorced     Married-AF-spouse    Married-civ-spouse \n",
              "                 2014                    11                  6771 \n",
              "Married-spouse-absent         Never-married             Separated \n",
              "                  199                  4877                   472 \n",
              "              Widowed \n",
              "                  453 "
            ]
          },
          "metadata": {}
        },
        {
          "output_type": "display_data",
          "data": {
            "text/plain": [
              "\n",
              "Female   Male \n",
              "  4912   9885 "
            ]
          },
          "metadata": {}
        }
      ]
    },
    {
      "cell_type": "markdown",
      "source": [
        "4.Create a new data frame, adultOver40, for those whose age > 40."
      ],
      "metadata": {
        "id": "VDMvZK8aJYlL"
      }
    },
    {
      "cell_type": "code",
      "source": [
        "over40 <- data.frame(AdultOver40 = (training_data$age > 40))\n",
        "\n",
        "over40"
      ],
      "metadata": {
        "id": "xT_fM8uCJhtG"
      },
      "execution_count": null,
      "outputs": []
    },
    {
      "cell_type": "markdown",
      "source": [
        "5.Recreate the contingency table of sex and marital status for adultOver40."
      ],
      "metadata": {
        "id": "fUMiJQd1LZlR"
      }
    },
    {
      "cell_type": "code",
      "source": [
        "firstCombo <- table(training_data$sex[which(over40$AdultOver40)],training_data$`marital-status`[which(over40$AdultOver40)])\n",
        "\n",
        "ftable(firstCombo)"
      ],
      "metadata": {
        "colab": {
          "base_uri": "https://localhost:8080/",
          "height": 88
        },
        "id": "GnnA8Tz7LcJF",
        "outputId": "083e23e4-164d-4eb9-bd32-1adeb0770239"
      },
      "execution_count": null,
      "outputs": [
        {
          "output_type": "display_data",
          "data": {
            "text/plain": [
              "        Divorced Married-civ-spouse Married-spouse-absent Never-married Separated Widowed\n",
              "                                                                                         \n",
              "Female       720                305                    38           256       133     354\n",
              "Male         448               3383                    47           315        74      71"
            ]
          },
          "metadata": {}
        }
      ]
    },
    {
      "cell_type": "markdown",
      "source": [
        "6.Determine whether any outliers exist for the education field."
      ],
      "metadata": {
        "id": "vLrY5PL3QyVb"
      }
    },
    {
      "cell_type": "code",
      "source": [
        "# Determine the three sigma rule first for the age attribute\n",
        "three_sigma_rule <- (training_data$education < (sd(training_data$education) - sd(training_data$education)*3) |\n",
        "                     training_data$education > (sd(training_data$education) + sd(training_data$education)*3 ))\n",
        "\n",
        "\n",
        "# how many outliers are there?\n",
        "cat (\"There are\", sum(three_sigma_rule), \"outliers \\n\\n\")\n",
        "\n",
        "# The which() command returns the row indices of all such records.\n",
        "cat(\"The scaled age values that are outliers: \\n\\n\")\n",
        "training_data$education[which(three_sigma_rule)]\n",
        "\n",
        "\n",
        "cat(\"\\n\\nThe scaled age values that are NOT outliers: \\n\\n\")\n",
        "training_data$education[which(!three_sigma_rule)]"
      ],
      "metadata": {
        "colab": {
          "base_uri": "https://localhost:8080/",
          "height": 419
        },
        "id": "sCEC_w9_Qz4F",
        "outputId": "3869f2dc-9e15-4f3e-cbdd-5cb418c3e216"
      },
      "execution_count": null,
      "outputs": [
        {
          "output_type": "stream",
          "name": "stdout",
          "text": [
            "There are 4742 outliers \n",
            "\n",
            "The scaled age values that are outliers: \n",
            "\n"
          ]
        },
        {
          "output_type": "display_data",
          "data": {
            "text/html": [
              "<style>\n",
              ".list-inline {list-style: none; margin:0; padding: 0}\n",
              ".list-inline>li {display: inline-block}\n",
              ".list-inline>li:not(:last-child)::after {content: \"\\00b7\"; padding: 0 .5ex}\n",
              "</style>\n",
              "<ol class=list-inline><li>13</li><li>14</li><li>11</li><li>13</li><li>14</li><li>13</li><li>11</li><li>13</li><li>13</li><li>12</li><li>13</li><li>16</li><li>14</li><li>13</li><li>14</li><li>11</li><li>13</li><li>13</li><li>13</li><li>12</li><li>12</li><li>13</li><li>14</li><li>11</li><li>11</li><li>13</li><li>14</li><li>11</li><li>13</li><li>13</li><li>13</li><li>14</li><li>13</li><li>13</li><li>13</li><li>13</li><li>11</li><li>15</li><li>13</li><li>14</li><li>13</li><li>12</li><li>13</li><li>14</li><li>13</li><li>13</li><li>13</li><li>13</li><li>14</li><li>13</li><li>14</li><li>14</li><li>11</li><li>13</li><li>14</li><li>12</li><li>13</li><li>11</li><li>12</li><li>13</li><li>13</li><li>13</li><li>13</li><li>14</li><li>13</li><li>13</li><li>12</li><li>13</li><li>11</li><li>13</li><li>13</li><li>13</li><li>13</li><li>11</li><li>14</li><li>16</li><li>14</li><li>13</li><li>12</li><li>13</li><li>13</li><li>14</li><li>11</li><li>13</li><li>13</li><li>13</li><li>13</li><li>13</li><li>14</li><li>15</li><li>14</li><li>16</li><li>13</li><li>13</li><li>13</li><li>14</li><li>13</li><li>13</li><li>11</li><li>13</li><li>13</li><li>16</li><li>14</li><li>13</li><li>13</li><li>14</li><li>14</li><li>14</li><li>13</li><li>13</li><li>13</li><li>16</li><li>13</li><li>11</li><li>13</li><li>13</li><li>13</li><li>11</li><li>11</li><li>14</li><li>13</li><li>13</li><li>16</li><li>11</li><li>13</li><li>11</li><li>11</li><li>14</li><li>13</li><li>12</li><li>14</li><li>13</li><li>11</li><li>14</li><li>11</li><li>13</li><li>13</li><li>14</li><li>11</li><li>16</li><li>13</li><li>14</li><li>13</li><li>13</li><li>13</li><li>11</li><li>13</li><li>13</li><li>15</li><li>12</li><li>14</li><li>14</li><li>14</li><li>15</li><li>13</li><li>13</li><li>13</li><li>14</li><li>11</li><li>13</li><li>11</li><li>14</li><li>13</li><li>13</li><li>13</li><li>11</li><li>11</li><li>12</li><li>13</li><li>13</li><li>13</li><li>13</li><li>14</li><li>12</li><li>12</li><li>13</li><li>13</li><li>11</li><li>13</li><li>12</li><li>13</li><li>16</li><li>13</li><li>13</li><li>13</li><li>13</li><li>14</li><li>13</li><li>13</li><li>13</li><li>13</li><li>13</li><li>14</li><li>11</li><li>12</li><li>13</li><li>15</li><li>11</li><li>11</li><li>13</li><li>⋯</li><li>13</li><li>13</li><li>16</li><li>13</li><li>11</li><li>15</li><li>11</li><li>13</li><li>12</li><li>15</li><li>13</li><li>13</li><li>15</li><li>13</li><li>11</li><li>13</li><li>11</li><li>13</li><li>13</li><li>13</li><li>12</li><li>11</li><li>13</li><li>11</li><li>12</li><li>13</li><li>13</li><li>14</li><li>14</li><li>13</li><li>13</li><li>15</li><li>13</li><li>13</li><li>14</li><li>14</li><li>13</li><li>13</li><li>13</li><li>13</li><li>15</li><li>14</li><li>14</li><li>14</li><li>14</li><li>14</li><li>12</li><li>14</li><li>15</li><li>13</li><li>13</li><li>11</li><li>13</li><li>13</li><li>16</li><li>11</li><li>13</li><li>11</li><li>12</li><li>13</li><li>13</li><li>16</li><li>13</li><li>16</li><li>15</li><li>11</li><li>12</li><li>13</li><li>12</li><li>16</li><li>13</li><li>13</li><li>13</li><li>13</li><li>14</li><li>13</li><li>12</li><li>12</li><li>13</li><li>14</li><li>11</li><li>16</li><li>12</li><li>13</li><li>12</li><li>13</li><li>15</li><li>15</li><li>15</li><li>13</li><li>13</li><li>13</li><li>16</li><li>13</li><li>12</li><li>15</li><li>13</li><li>14</li><li>15</li><li>14</li><li>13</li><li>12</li><li>14</li><li>15</li><li>11</li><li>12</li><li>13</li><li>11</li><li>15</li><li>13</li><li>14</li><li>14</li><li>14</li><li>13</li><li>13</li><li>13</li><li>11</li><li>16</li><li>13</li><li>13</li><li>11</li><li>12</li><li>13</li><li>13</li><li>12</li><li>14</li><li>13</li><li>13</li><li>11</li><li>13</li><li>13</li><li>14</li><li>13</li><li>16</li><li>13</li><li>13</li><li>13</li><li>13</li><li>11</li><li>12</li><li>13</li><li>14</li><li>15</li><li>14</li><li>14</li><li>13</li><li>13</li><li>13</li><li>12</li><li>14</li><li>11</li><li>16</li><li>11</li><li>12</li><li>11</li><li>13</li><li>13</li><li>13</li><li>13</li><li>15</li><li>14</li><li>11</li><li>13</li><li>12</li><li>13</li><li>13</li><li>14</li><li>13</li><li>14</li><li>13</li><li>11</li><li>11</li><li>14</li><li>11</li><li>12</li><li>13</li><li>12</li><li>13</li><li>13</li><li>13</li><li>14</li><li>13</li><li>14</li><li>13</li><li>13</li><li>15</li><li>16</li><li>16</li><li>14</li><li>11</li><li>13</li><li>14</li><li>11</li><li>16</li><li>13</li><li>12</li><li>12</li><li>12</li><li>15</li><li>14</li></ol>\n"
            ],
            "text/markdown": "1. 13\n2. 14\n3. 11\n4. 13\n5. 14\n6. 13\n7. 11\n8. 13\n9. 13\n10. 12\n11. 13\n12. 16\n13. 14\n14. 13\n15. 14\n16. 11\n17. 13\n18. 13\n19. 13\n20. 12\n21. 12\n22. 13\n23. 14\n24. 11\n25. 11\n26. 13\n27. 14\n28. 11\n29. 13\n30. 13\n31. 13\n32. 14\n33. 13\n34. 13\n35. 13\n36. 13\n37. 11\n38. 15\n39. 13\n40. 14\n41. 13\n42. 12\n43. 13\n44. 14\n45. 13\n46. 13\n47. 13\n48. 13\n49. 14\n50. 13\n51. 14\n52. 14\n53. 11\n54. 13\n55. 14\n56. 12\n57. 13\n58. 11\n59. 12\n60. 13\n61. 13\n62. 13\n63. 13\n64. 14\n65. 13\n66. 13\n67. 12\n68. 13\n69. 11\n70. 13\n71. 13\n72. 13\n73. 13\n74. 11\n75. 14\n76. 16\n77. 14\n78. 13\n79. 12\n80. 13\n81. 13\n82. 14\n83. 11\n84. 13\n85. 13\n86. 13\n87. 13\n88. 13\n89. 14\n90. 15\n91. 14\n92. 16\n93. 13\n94. 13\n95. 13\n96. 14\n97. 13\n98. 13\n99. 11\n100. 13\n101. 13\n102. 16\n103. 14\n104. 13\n105. 13\n106. 14\n107. 14\n108. 14\n109. 13\n110. 13\n111. 13\n112. 16\n113. 13\n114. 11\n115. 13\n116. 13\n117. 13\n118. 11\n119. 11\n120. 14\n121. 13\n122. 13\n123. 16\n124. 11\n125. 13\n126. 11\n127. 11\n128. 14\n129. 13\n130. 12\n131. 14\n132. 13\n133. 11\n134. 14\n135. 11\n136. 13\n137. 13\n138. 14\n139. 11\n140. 16\n141. 13\n142. 14\n143. 13\n144. 13\n145. 13\n146. 11\n147. 13\n148. 13\n149. 15\n150. 12\n151. 14\n152. 14\n153. 14\n154. 15\n155. 13\n156. 13\n157. 13\n158. 14\n159. 11\n160. 13\n161. 11\n162. 14\n163. 13\n164. 13\n165. 13\n166. 11\n167. 11\n168. 12\n169. 13\n170. 13\n171. 13\n172. 13\n173. 14\n174. 12\n175. 12\n176. 13\n177. 13\n178. 11\n179. 13\n180. 12\n181. 13\n182. 16\n183. 13\n184. 13\n185. 13\n186. 13\n187. 14\n188. 13\n189. 13\n190. 13\n191. 13\n192. 13\n193. 14\n194. 11\n195. 12\n196. 13\n197. 15\n198. 11\n199. 11\n200. 13\n201. ⋯\n202. 13\n203. 13\n204. 16\n205. 13\n206. 11\n207. 15\n208. 11\n209. 13\n210. 12\n211. 15\n212. 13\n213. 13\n214. 15\n215. 13\n216. 11\n217. 13\n218. 11\n219. 13\n220. 13\n221. 13\n222. 12\n223. 11\n224. 13\n225. 11\n226. 12\n227. 13\n228. 13\n229. 14\n230. 14\n231. 13\n232. 13\n233. 15\n234. 13\n235. 13\n236. 14\n237. 14\n238. 13\n239. 13\n240. 13\n241. 13\n242. 15\n243. 14\n244. 14\n245. 14\n246. 14\n247. 14\n248. 12\n249. 14\n250. 15\n251. 13\n252. 13\n253. 11\n254. 13\n255. 13\n256. 16\n257. 11\n258. 13\n259. 11\n260. 12\n261. 13\n262. 13\n263. 16\n264. 13\n265. 16\n266. 15\n267. 11\n268. 12\n269. 13\n270. 12\n271. 16\n272. 13\n273. 13\n274. 13\n275. 13\n276. 14\n277. 13\n278. 12\n279. 12\n280. 13\n281. 14\n282. 11\n283. 16\n284. 12\n285. 13\n286. 12\n287. 13\n288. 15\n289. 15\n290. 15\n291. 13\n292. 13\n293. 13\n294. 16\n295. 13\n296. 12\n297. 15\n298. 13\n299. 14\n300. 15\n301. 14\n302. 13\n303. 12\n304. 14\n305. 15\n306. 11\n307. 12\n308. 13\n309. 11\n310. 15\n311. 13\n312. 14\n313. 14\n314. 14\n315. 13\n316. 13\n317. 13\n318. 11\n319. 16\n320. 13\n321. 13\n322. 11\n323. 12\n324. 13\n325. 13\n326. 12\n327. 14\n328. 13\n329. 13\n330. 11\n331. 13\n332. 13\n333. 14\n334. 13\n335. 16\n336. 13\n337. 13\n338. 13\n339. 13\n340. 11\n341. 12\n342. 13\n343. 14\n344. 15\n345. 14\n346. 14\n347. 13\n348. 13\n349. 13\n350. 12\n351. 14\n352. 11\n353. 16\n354. 11\n355. 12\n356. 11\n357. 13\n358. 13\n359. 13\n360. 13\n361. 15\n362. 14\n363. 11\n364. 13\n365. 12\n366. 13\n367. 13\n368. 14\n369. 13\n370. 14\n371. 13\n372. 11\n373. 11\n374. 14\n375. 11\n376. 12\n377. 13\n378. 12\n379. 13\n380. 13\n381. 13\n382. 14\n383. 13\n384. 14\n385. 13\n386. 13\n387. 15\n388. 16\n389. 16\n390. 14\n391. 11\n392. 13\n393. 14\n394. 11\n395. 16\n396. 13\n397. 12\n398. 12\n399. 12\n400. 15\n401. 14\n\n\n",
            "text/latex": "\\begin{enumerate*}\n\\item 13\n\\item 14\n\\item 11\n\\item 13\n\\item 14\n\\item 13\n\\item 11\n\\item 13\n\\item 13\n\\item 12\n\\item 13\n\\item 16\n\\item 14\n\\item 13\n\\item 14\n\\item 11\n\\item 13\n\\item 13\n\\item 13\n\\item 12\n\\item 12\n\\item 13\n\\item 14\n\\item 11\n\\item 11\n\\item 13\n\\item 14\n\\item 11\n\\item 13\n\\item 13\n\\item 13\n\\item 14\n\\item 13\n\\item 13\n\\item 13\n\\item 13\n\\item 11\n\\item 15\n\\item 13\n\\item 14\n\\item 13\n\\item 12\n\\item 13\n\\item 14\n\\item 13\n\\item 13\n\\item 13\n\\item 13\n\\item 14\n\\item 13\n\\item 14\n\\item 14\n\\item 11\n\\item 13\n\\item 14\n\\item 12\n\\item 13\n\\item 11\n\\item 12\n\\item 13\n\\item 13\n\\item 13\n\\item 13\n\\item 14\n\\item 13\n\\item 13\n\\item 12\n\\item 13\n\\item 11\n\\item 13\n\\item 13\n\\item 13\n\\item 13\n\\item 11\n\\item 14\n\\item 16\n\\item 14\n\\item 13\n\\item 12\n\\item 13\n\\item 13\n\\item 14\n\\item 11\n\\item 13\n\\item 13\n\\item 13\n\\item 13\n\\item 13\n\\item 14\n\\item 15\n\\item 14\n\\item 16\n\\item 13\n\\item 13\n\\item 13\n\\item 14\n\\item 13\n\\item 13\n\\item 11\n\\item 13\n\\item 13\n\\item 16\n\\item 14\n\\item 13\n\\item 13\n\\item 14\n\\item 14\n\\item 14\n\\item 13\n\\item 13\n\\item 13\n\\item 16\n\\item 13\n\\item 11\n\\item 13\n\\item 13\n\\item 13\n\\item 11\n\\item 11\n\\item 14\n\\item 13\n\\item 13\n\\item 16\n\\item 11\n\\item 13\n\\item 11\n\\item 11\n\\item 14\n\\item 13\n\\item 12\n\\item 14\n\\item 13\n\\item 11\n\\item 14\n\\item 11\n\\item 13\n\\item 13\n\\item 14\n\\item 11\n\\item 16\n\\item 13\n\\item 14\n\\item 13\n\\item 13\n\\item 13\n\\item 11\n\\item 13\n\\item 13\n\\item 15\n\\item 12\n\\item 14\n\\item 14\n\\item 14\n\\item 15\n\\item 13\n\\item 13\n\\item 13\n\\item 14\n\\item 11\n\\item 13\n\\item 11\n\\item 14\n\\item 13\n\\item 13\n\\item 13\n\\item 11\n\\item 11\n\\item 12\n\\item 13\n\\item 13\n\\item 13\n\\item 13\n\\item 14\n\\item 12\n\\item 12\n\\item 13\n\\item 13\n\\item 11\n\\item 13\n\\item 12\n\\item 13\n\\item 16\n\\item 13\n\\item 13\n\\item 13\n\\item 13\n\\item 14\n\\item 13\n\\item 13\n\\item 13\n\\item 13\n\\item 13\n\\item 14\n\\item 11\n\\item 12\n\\item 13\n\\item 15\n\\item 11\n\\item 11\n\\item 13\n\\item ⋯\n\\item 13\n\\item 13\n\\item 16\n\\item 13\n\\item 11\n\\item 15\n\\item 11\n\\item 13\n\\item 12\n\\item 15\n\\item 13\n\\item 13\n\\item 15\n\\item 13\n\\item 11\n\\item 13\n\\item 11\n\\item 13\n\\item 13\n\\item 13\n\\item 12\n\\item 11\n\\item 13\n\\item 11\n\\item 12\n\\item 13\n\\item 13\n\\item 14\n\\item 14\n\\item 13\n\\item 13\n\\item 15\n\\item 13\n\\item 13\n\\item 14\n\\item 14\n\\item 13\n\\item 13\n\\item 13\n\\item 13\n\\item 15\n\\item 14\n\\item 14\n\\item 14\n\\item 14\n\\item 14\n\\item 12\n\\item 14\n\\item 15\n\\item 13\n\\item 13\n\\item 11\n\\item 13\n\\item 13\n\\item 16\n\\item 11\n\\item 13\n\\item 11\n\\item 12\n\\item 13\n\\item 13\n\\item 16\n\\item 13\n\\item 16\n\\item 15\n\\item 11\n\\item 12\n\\item 13\n\\item 12\n\\item 16\n\\item 13\n\\item 13\n\\item 13\n\\item 13\n\\item 14\n\\item 13\n\\item 12\n\\item 12\n\\item 13\n\\item 14\n\\item 11\n\\item 16\n\\item 12\n\\item 13\n\\item 12\n\\item 13\n\\item 15\n\\item 15\n\\item 15\n\\item 13\n\\item 13\n\\item 13\n\\item 16\n\\item 13\n\\item 12\n\\item 15\n\\item 13\n\\item 14\n\\item 15\n\\item 14\n\\item 13\n\\item 12\n\\item 14\n\\item 15\n\\item 11\n\\item 12\n\\item 13\n\\item 11\n\\item 15\n\\item 13\n\\item 14\n\\item 14\n\\item 14\n\\item 13\n\\item 13\n\\item 13\n\\item 11\n\\item 16\n\\item 13\n\\item 13\n\\item 11\n\\item 12\n\\item 13\n\\item 13\n\\item 12\n\\item 14\n\\item 13\n\\item 13\n\\item 11\n\\item 13\n\\item 13\n\\item 14\n\\item 13\n\\item 16\n\\item 13\n\\item 13\n\\item 13\n\\item 13\n\\item 11\n\\item 12\n\\item 13\n\\item 14\n\\item 15\n\\item 14\n\\item 14\n\\item 13\n\\item 13\n\\item 13\n\\item 12\n\\item 14\n\\item 11\n\\item 16\n\\item 11\n\\item 12\n\\item 11\n\\item 13\n\\item 13\n\\item 13\n\\item 13\n\\item 15\n\\item 14\n\\item 11\n\\item 13\n\\item 12\n\\item 13\n\\item 13\n\\item 14\n\\item 13\n\\item 14\n\\item 13\n\\item 11\n\\item 11\n\\item 14\n\\item 11\n\\item 12\n\\item 13\n\\item 12\n\\item 13\n\\item 13\n\\item 13\n\\item 14\n\\item 13\n\\item 14\n\\item 13\n\\item 13\n\\item 15\n\\item 16\n\\item 16\n\\item 14\n\\item 11\n\\item 13\n\\item 14\n\\item 11\n\\item 16\n\\item 13\n\\item 12\n\\item 12\n\\item 12\n\\item 15\n\\item 14\n\\end{enumerate*}\n",
            "text/plain": [
              "   [1] 13 14 11 13 14 13 11 13 13 12 13 16 14 13 14 11 13 13 13 12 12 13 14 11\n",
              "  [25] 11 13 14 11 13 13 13 14 13 13 13 13 11 15 13 14 13 12 13 14 13 13 13 13\n",
              "  [49] 14 13 14 14 11 13 14 12 13 11 12 13 13 13 13 14 13 13 12 13 11 13 13 13\n",
              "  [73] 13 11 14 16 14 13 12 13 13 14 11 13 13 13 13 13 14 15 14 16 13 13 13 14\n",
              "  [97] 13 13 11 13 13 16 14 13 13 14 14 14 13 13 13 16 13 11 13 13 13 11 11 14\n",
              " [121] 13 13 16 11 13 11 11 14 13 12 14 13 11 14 11 13 13 14 11 16 13 14 13 13\n",
              " [145] 13 11 13 13 15 12 14 14 14 15 13 13 13 14 11 13 11 14 13 13 13 11 11 12\n",
              " [169] 13 13 13 13 14 12 12 13 13 11 13 12 13 16 13 13 13 13 14 13 13 13 13 13\n",
              " [193] 14 11 12 13 15 11 11 13 14 13 12 14 13 13 13 16 15 14 13 13 14 13 13 13\n",
              " [217] 12 13 12 15 13 11 13 13 15 14 13 13 13 11 14 13 13 13 14 13 12 11 14 14\n",
              " [241] 15 13 14 11 13 14 14 11 13 13 13 14 12 16 13 13 13 13 13 13 15 12 13 13\n",
              " [265] 15 13 15 12 13 13 11 13 13 11 13 13 12 13 14 14 12 13 11 13 11 14 13 13\n",
              " [289] 12 13 14 13 14 14 13 13 13 13 14 14 13 13 14 13 13 12 13 13 13 14 12 16\n",
              " [313] 13 11 12 13 13 13 13 11 13 13 13 14 12 13 16 14 11 13 14 13 14 13 13 13\n",
              " [337] 11 12 12 14 13 13 13 13 12 13 13 13 12 13 13 11 13 15 12 14 16 13 13 11\n",
              " [361] 11 15 13 14 11 13 13 13 14 14 13 13 13 12 11 14 13 16 13 13 11 13 15 15\n",
              " [385] 13 13 14 13 12 11 14 13 11 13 13 13 12 13 14 11 13 13 14 11 14 13 13 13\n",
              " [409] 14 13 13 11 14 13 14 11 13 13 13 11 13 15 13 13 14 13 13 13 11 15 13 13\n",
              " [433] 14 13 13 16 14 12 13 14 13 14 15 13 15 13 11 15 14 13 13 14 12 13 14 15\n",
              " [457] 13 14 12 11 15 13 13 13 13 14 13 11 13 13 14 13 14 13 16 13 16 15 14 14\n",
              " [481] 15 11 13 13 12 13 13 13 15 13 16 13 16 12 13 14 13 12 14 13 13 16 13 15\n",
              " [505] 15 13 13 13 13 13 13 13 13 13 13 13 13 13 11 12 12 13 14 13 13 12 13 13\n",
              " [529] 13 11 16 16 11 13 14 13 13 14 13 11 13 13 13 13 13 13 13 13 14 13 11 14\n",
              " [553] 13 15 13 13 13 12 13 13 13 15 13 11 13 16 11 13 12 11 13 13 13 13 14 13\n",
              " [577] 14 11 14 13 14 13 13 15 11 13 13 15 13 13 13 13 14 13 15 11 13 13 11 11\n",
              " [601] 12 13 13 13 11 13 13 13 14 14 14 12 13 13 13 12 13 11 15 12 13 13 14 14\n",
              " [625] 13 13 13 15 13 13 12 13 13 11 11 13 13 12 14 13 11 13 13 16 12 13 13 13\n",
              " [649] 13 13 13 13 15 14 15 11 13 11 15 13 14 14 12 12 11 14 13 13 13 13 12 16\n",
              " [673] 15 15 13 13 15 13 13 11 13 13 13 13 13 12 13 13 13 13 13 13 14 13 14 14\n",
              " [697] 13 12 12 11 11 16 14 13 11 13 13 12 12 13 13 13 13 14 13 11 13 13 13 13\n",
              " [721] 15 14 13 13 11 13 12 13 12 13 13 13 13 13 13 12 13 13 12 15 13 11 11 13\n",
              " [745] 11 15 13 15 14 14 13 12 11 13 14 13 16 16 13 12 15 12 12 13 14 14 11 13\n",
              " [769] 14 14 16 13 16 13 12 14 15 13 13 13 13 13 12 13 14 14 13 14 16 12 13 13\n",
              " [793] 13 12 12 13 13 13 14 11 11 13 13 13 13 14 11 11 13 11 14 13 13 11 14 13\n",
              " [817] 13 13 12 13 12 13 13 13 14 14 12 12 13 13 12 13 11 11 15 13 13 14 13 13\n",
              " [841] 13 13 11 16 14 12 14 13 13 13 13 13 14 14 13 11 15 13 15 16 13 13 12 14\n",
              " [865] 15 13 14 16 12 12 12 11 13 13 11 11 11 14 14 13 12 13 14 13 13 11 13 13\n",
              " [889] 13 13 13 13 16 13 13 12 11 13 11 12 12 13 13 11 12 12 13 11 12 13 13 11\n",
              " [913] 14 14 12 13 13 16 15 15 13 13 11 14 13 13 13 14 13 13 13 14 13 15 14 14\n",
              " [937] 14 13 11 14 12 13 11 14 11 16 13 13 14 14 13 13 13 13 14 14 14 13 14 14\n",
              " [961] 13 13 14 12 13 14 13 13 13 16 11 13 13 11 11 14 14 14 14 14 14 12 13 13\n",
              " [985] 11 16 13 11 13 14 13 11 13 11 13 13 14 15 14 12 14 13 13 12 14 13 13 13\n",
              "[1009] 12 14 14 13 13 11 14 14 12 13 13 11 13 13 13 13 13 14 13 13 14 12 16 15\n",
              "[1033] 13 12 13 14 16 13 13 12 14 13 15 14 13 11 16 13 13 13 14 13 13 11 13 14\n",
              "[1057] 13 13 14 14 11 11 12 15 13 13 13 13 13 13 13 13 13 13 13 16 13 13 13 13\n",
              "[1081] 15 12 13 13 14 12 16 11 13 13 14 12 16 14 11 13 13 13 13 12 14 14 13 14\n",
              "[1105] 13 12 14 13 11 11 14 13 13 13 16 16 12 13 14 13 12 14 13 13 11 13 13 13\n",
              "[1129] 13 13 13 13 13 15 13 13 13 14 13 11 13 13 14 13 13 14 13 13 13 13 13 16\n",
              "[1153] 13 12 13 12 13 13 13 13 13 14 12 13 13 13 13 14 13 11 13 13 15 15 14 13\n",
              "[1177] 13 11 11 15 13 14 13 14 13 13 16 11 13 12 12 11 15 14 14 14 14 11 15 13\n",
              "[1201] 13 12 11 13 13 13 13 13 13 12 14 13 13 15 11 14 13 13 13 14 11 15 16 11\n",
              "[1225] 13 13 13 13 14 13 13 13 11 11 12 14 13 13 13 13 13 12 13 13 13 11 13 12\n",
              "[1249] 11 14 13 13 13 15 13 13 13 11 12 13 14 12 11 14 13 15 12 12 14 11 13 13\n",
              "[1273] 13 13 13 15 11 13 12 15 15 13 14 11 11 13 13 13 14 14 13 13 11 15 11 15\n",
              "[1297] 13 14 12 12 13 13 14 13 13 14 12 11 11 16 12 15 13 13 13 13 13 13 13 11\n",
              "[1321] 13 12 11 13 13 13 15 11 13 15 13 13 13 13 13 13 15 15 13 15 11 13 11 11\n",
              "[1345] 14 14 13 14 13 14 11 14 14 11 11 13 13 11 13 16 13 13 13 13 13 13 13 13\n",
              "[1369] 12 13 14 13 13 13 13 13 14 13 12 13 11 13 13 13 13 12 15 13 13 13 14 13\n",
              "[1393] 14 13 13 13 13 13 13 14 13 14 14 16 13 13 13 14 11 13 13 11 11 13 13 13\n",
              "[1417] 13 11 15 15 11 13 13 13 13 13 13 14 14 13 13 13 13 13 15 14 13 15 13 13\n",
              "[1441] 13 12 11 11 14 15 14 16 11 13 16 13 14 13 13 13 13 13 16 15 13 13 14 13\n",
              "[1465] 13 14 13 13 11 16 13 13 15 13 13 12 13 13 13 16 13 13 14 16 14 16 12 12\n",
              "[1489] 13 12 11 13 13 13 11 11 14 13 15 13 13 13 14 13 13 11 13 13 13 13 14 13\n",
              "[1513] 13 12 14 15 14 13 13 13 13 13 13 15 13 13 13 14 13 13 14 14 13 13 13 13\n",
              "[1537] 13 13 12 13 13 13 13 13 14 13 13 13 14 13 11 13 11 13 13 11 13 13 15 15\n",
              "[1561] 14 13 15 16 13 13 13 16 12 13 14 12 13 12 11 11 13 13 14 15 13 13 13 16\n",
              "[1585] 13 13 13 13 13 15 13 13 11 13 13 13 11 11 13 13 14 11 13 16 12 13 12 13\n",
              "[1609] 11 16 13 13 14 11 13 11 13 14 13 13 13 13 13 14 13 13 14 13 11 13 11 12\n",
              "[1633] 13 14 12 13 13 13 15 12 14 13 13 13 15 13 13 12 14 14 13 13 13 14 16 13\n",
              "[1657] 13 13 12 13 13 11 13 16 12 13 13 13 13 15 13 13 13 14 11 13 13 13 16 12\n",
              "[1681] 13 11 14 14 13 13 11 13 13 13 13 14 13 11 11 14 11 14 13 13 13 13 11 16\n",
              "[1705] 12 13 13 13 13 14 15 14 13 13 13 14 13 13 13 13 14 14 13 14 11 13 13 14\n",
              "[1729] 14 13 12 14 13 14 12 13 13 14 11 11 13 13 14 11 13 14 13 13 13 13 14 14\n",
              "[1753] 14 16 12 13 12 14 13 14 13 13 14 14 12 14 13 11 13 13 12 13 15 14 13 12\n",
              "[1777] 12 14 13 12 13 14 13 14 16 11 13 14 13 13 13 14 13 12 13 11 13 13 11 14\n",
              "[1801] 16 13 13 14 14 13 16 13 13 13 14 14 13 13 13 13 12 14 13 12 11 15 11 13\n",
              "[1825] 13 14 12 11 15 13 14 14 13 14 12 13 12 14 14 13 16 13 13 13 13 12 14 13\n",
              "[1849] 11 16 13 15 14 13 12 11 11 13 13 13 14 13 13 13 11 16 14 13 13 12 11 13\n",
              "[1873] 15 13 11 13 13 13 12 13 11 13 14 13 16 14 14 14 13 14 13 12 13 13 15 11\n",
              "[1897] 14 14 13 13 11 13 13 13 11 13 13 11 13 13 13 14 13 14 13 15 13 14 12 12\n",
              "[1921] 13 13 13 12 13 12 13 13 14 13 11 13 13 13 14 13 11 13 13 11 11 13 13 13\n",
              "[1945] 15 13 16 13 14 16 12 12 14 13 13 11 13 11 13 11 14 11 12 11 16 12 13 15\n",
              "[1969] 13 13 13 11 11 16 13 13 12 13 14 13 13 13 13 13 13 13 13 12 13 13 13 13\n",
              "[1993] 14 13 13 13 13 13 12 13 13 12 11 13 11 13 11 12 15 13 13 13 13 11 11 14\n",
              "[2017] 12 13 11 14 13 13 16 14 13 11 11 13 14 13 13 14 11 12 13 14 14 13 13 14\n",
              "[2041] 13 15 13 15 15 13 13 13 12 13 12 12 13 13 13 13 13 13 13 13 16 15 12 14\n",
              "[2065] 13 15 13 13 14 12 11 13 13 13 14 13 13 11 15 12 13 13 12 14 13 11 14 13\n",
              "[2089] 11 13 14 13 14 12 13 11 13 14 13 13 14 14 16 13 13 13 14 15 14 14 13 13\n",
              "[2113] 13 13 13 12 13 12 11 14 13 13 14 12 14 13 14 13 14 13 14 13 14 11 13 15\n",
              "[2137] 13 16 11 13 13 11 14 14 11 13 13 12 13 11 15 11 13 11 13 14 11 13 13 12\n",
              "[2161] 13 13 13 13 14 12 13 16 13 13 16 14 15 11 13 14 13 13 13 13 14 12 11 13\n",
              "[2185] 13 13 13 13 16 13 14 14 13 13 13 13 13 13 13 13 11 13 16 13 11 13 13 13\n",
              "[2209] 16 13 14 12 13 13 13 11 14 14 12 16 11 13 11 13 12 13 13 13 13 14 12 13\n",
              "[2233] 11 12 13 14 16 13 14 14 13 13 13 15 13 14 14 13 13 13 13 15 13 14 11 12\n",
              "[2257] 13 12 13 13 13 13 16 11 11 13 13 12 13 15 13 12 13 13 13 13 13 14 13 13\n",
              "[2281] 13 13 12 11 12 14 14 12 13 13 13 11 13 13 13 13 11 15 13 13 13 13 13 13\n",
              "[2305] 13 12 14 14 14 16 13 16 13 14 13 12 16 11 14 14 13 13 13 12 13 14 11 11\n",
              "[2329] 12 15 12 13 12 13 14 14 12 13 11 11 11 13 13 15 13 13 12 13 12 14 13 11\n",
              "[2353] 13 13 13 14 13 13 13 14 12 11 15 13 13 13 16 13 13 12 13 14 12 14 11 13\n",
              "[2377] 13 13 13 13 14 13 13 14 11 11 11 12 15 11 12 16 13 13 15 15 11 13 11 13\n",
              "[2401] 14 13 11 11 14 16 13 14 12 13 14 13 14 13 13 13 12 13 13 16 13 13 13 11\n",
              "[2425] 14 13 13 14 13 11 13 16 12 16 13 13 13 13 13 16 13 14 14 16 13 13 14 11\n",
              "[2449] 13 12 13 13 13 13 14 13 12 13 13 13 11 13 13 15 13 13 14 14 13 13 13 13\n",
              "[2473] 15 12 13 14 13 14 11 13 13 11 11 14 13 13 16 13 13 13 13 13 13 13 14 11\n",
              "[2497] 13 13 14 11 13 14 15 14 12 13 13 12 16 13 13 11 13 13 12 13 13 13 12 12\n",
              "[2521] 12 13 13 12 14 13 14 11 11 13 14 14 13 15 13 12 13 11 13 13 13 13 13 15\n",
              "[2545] 14 16 14 11 13 14 13 11 13 15 13 13 14 13 11 13 13 14 12 13 13 14 14 15\n",
              "[2569] 13 11 14 14 15 11 13 14 11 13 11 13 14 14 14 13 13 13 13 14 13 13 16 15\n",
              "[2593] 13 14 14 14 13 13 13 13 13 13 13 13 13 13 12 13 16 13 13 13 13 13 13 15\n",
              "[2617] 12 14 13 14 11 13 11 14 11 14 11 11 13 14 13 13 13 11 11 11 15 13 12 11\n",
              "[2641] 13 14 14 12 15 15 13 13 12 13 11 12 13 13 13 13 15 13 13 13 13 13 13 12\n",
              "[2665] 13 13 13 13 14 13 13 12 13 13 13 13 12 13 13 14 14 13 12 11 13 14 14 16\n",
              "[2689] 13 14 12 13 13 12 13 12 13 13 13 13 12 13 13 13 16 15 13 11 13 13 13 12\n",
              "[2713] 14 13 16 11 13 16 13 16 13 11 11 14 13 15 13 13 15 14 13 13 13 14 15 12\n",
              "[2737] 13 13 13 15 12 13 12 13 13 13 13 13 12 13 13 13 12 13 13 13 16 12 14 14\n",
              "[2761] 13 12 13 13 15 11 11 13 13 13 14 13 13 13 14 12 13 15 13 13 14 13 12 12\n",
              "[2785] 13 11 13 13 13 13 13 12 14 13 15 15 14 11 13 14 11 14 13 13 13 13 13 14\n",
              "[2809] 13 13 12 13 13 15 13 13 12 14 13 13 13 13 13 16 13 13 13 11 12 11 11 12\n",
              "[2833] 13 13 13 16 13 13 15 13 13 13 14 13 14 13 14 14 14 15 13 14 13 12 13 14\n",
              "[2857] 12 11 11 13 12 14 13 13 15 14 11 14 11 13 11 13 14 13 14 11 14 14 13 11\n",
              "[2881] 13 13 16 13 11 11 13 13 11 13 14 13 13 13 11 11 12 11 13 14 14 13 11 13\n",
              "[2905] 13 15 14 14 13 13 13 13 11 12 13 13 14 13 13 13 14 16 14 13 13 13 11 16\n",
              "[2929] 13 13 13 15 13 13 11 16 13 13 14 13 14 11 14 13 12 14 13 11 13 13 13 14\n",
              "[2953] 13 13 13 13 15 11 11 13 13 14 13 13 13 11 11 13 12 12 13 11 13 12 13 16\n",
              "[2977] 14 11 14 11 13 13 14 14 14 12 12 11 14 11 11 14 11 15 13 13 14 13 14 13\n",
              "[3001] 14 11 14 16 12 13 13 14 15 14 13 13 13 13 13 13 13 13 11 16 13 13 11 13\n",
              "[3025] 12 13 13 14 13 15 13 13 13 13 13 11 14 12 13 11 14 15 13 15 14 13 13 15\n",
              "[3049] 13 13 11 14 13 13 11 14 14 11 13 13 11 13 13 14 13 13 13 13 13 13 12 13\n",
              "[3073] 11 13 12 13 13 13 11 13 11 11 11 11 16 13 13 13 13 15 13 13 12 14 12 13\n",
              "[3097] 13 13 11 13 13 12 13 13 13 11 13 11 12 13 13 13 11 12 13 13 16 15 13 13\n",
              "[3121] 13 14 13 13 11 13 13 12 13 13 12 13 13 12 16 14 11 13 15 12 13 13 16 13\n",
              "[3145] 13 13 14 12 11 13 13 13 14 15 13 14 14 11 13 13 12 12 14 13 13 14 12 15\n",
              "[3169] 14 11 14 13 13 13 11 11 13 12 13 13 14 13 11 13 12 13 13 13 13 13 13 14\n",
              "[3193] 13 11 11 12 13 13 11 13 12 14 13 11 13 11 14 13 11 13 14 13 13 12 14 13\n",
              "[3217] 16 13 12 15 13 13 13 13 13 14 15 11 13 13 13 14 15 14 13 13 13 13 14 15\n",
              "[3241] 13 14 15 13 13 13 13 11 16 13 13 14 16 11 14 13 13 11 12 13 12 14 13 11\n",
              "[3265] 11 13 14 11 12 11 13 13 13 14 13 14 12 13 14 13 14 16 16 13 13 12 13 13\n",
              "[3289] 13 12 15 13 14 13 13 13 14 14 16 12 13 14 13 12 11 15 15 11 13 13 12 13\n",
              "[3313] 14 12 15 14 14 15 13 12 11 11 14 14 11 12 13 14 13 13 13 12 13 13 11 15\n",
              "[3337] 13 13 11 13 13 14 11 13 13 13 13 14 13 13 13 13 13 13 13 13 13 15 13 13\n",
              "[3361] 11 13 11 13 13 15 14 13 13 15 14 14 13 14 12 13 11 13 16 14 13 13 13 13\n",
              "[3385] 14 13 15 12 12 11 12 15 11 13 13 13 13 14 13 13 11 15 13 13 14 13 13 13\n",
              "[3409] 12 13 13 12 16 16 11 13 12 11 14 13 11 12 11 14 12 14 16 13 12 11 12 13\n",
              "[3433] 13 12 11 13 16 13 15 14 13 13 15 13 11 14 13 13 14 13 13 13 13 14 14 13\n",
              "[3457] 14 11 11 13 13 13 16 13 13 16 13 11 14 13 11 13 13 13 13 13 14 13 13 13\n",
              "[3481] 13 16 14 12 11 13 12 13 15 13 13 13 15 13 14 13 13 13 13 13 13 13 13 11\n",
              "[3505] 11 13 16 16 14 14 12 11 13 13 13 13 11 12 13 13 12 13 15 16 13 14 13 13\n",
              "[3529] 13 12 13 12 13 11 13 13 11 13 13 12 13 12 13 13 11 14 15 14 13 13 11 14\n",
              "[3553] 11 12 14 12 13 13 13 13 13 15 13 12 13 13 13 16 13 13 13 16 13 16 14 13\n",
              "[3577] 13 13 13 13 13 14 13 11 12 16 13 11 13 16 12 13 16 13 12 13 13 11 11 12\n",
              "[3601] 12 13 13 12 14 13 13 13 15 13 16 13 16 13 13 13 13 13 14 14 11 14 15 14\n",
              "[3625] 13 13 15 14 15 15 11 15 13 13 13 13 12 13 13 14 13 13 13 13 13 13 13 16\n",
              "[3649] 11 14 13 14 16 14 15 11 13 13 13 14 13 13 12 13 13 13 13 13 13 16 12 13\n",
              "[3673] 15 12 15 13 12 11 13 13 13 11 14 12 13 13 13 13 13 12 12 13 11 14 13 13\n",
              "[3697] 15 14 12 11 13 13 11 13 14 13 13 11 14 11 14 14 12 12 13 13 11 13 11 14\n",
              "[3721] 15 13 16 11 14 16 12 12 13 12 13 15 15 11 13 11 13 13 15 13 13 13 13 13\n",
              "[3745] 14 13 16 11 11 11 13 11 13 11 12 13 13 13 14 13 13 13 13 13 13 14 14 13\n",
              "[3769] 14 13 11 13 13 13 13 13 13 13 13 13 12 13 13 14 13 14 13 11 13 13 13 14\n",
              "[3793] 14 11 15 16 13 12 13 11 13 13 13 15 16 16 13 14 13 13 16 13 13 13 11 13\n",
              "[3817] 14 12 14 15 13 11 14 13 14 16 14 16 16 13 12 13 12 13 11 14 12 11 13 14\n",
              "[3841] 13 13 13 15 13 16 13 15 14 14 13 15 13 13 12 14 16 13 13 15 13 13 14 15\n",
              "[3865] 14 14 13 14 13 11 13 13 14 11 12 15 13 16 14 12 13 16 13 14 13 14 14 13\n",
              "[3889] 14 13 13 13 13 11 12 12 14 13 15 14 11 11 13 11 13 13 13 13 13 12 11 13\n",
              "[3913] 14 13 14 13 16 12 13 14 12 12 14 11 13 11 13 13 15 13 13 14 13 13 14 13\n",
              "[3937] 12 13 13 13 13 14 12 14 14 13 11 13 13 14 13 13 11 12 12 13 13 12 13 13\n",
              "[3961] 13 13 15 13 13 13 13 15 13 13 14 15 13 14 13 14 13 11 14 13 11 13 11 11\n",
              "[3985] 11 13 13 12 13 11 13 13 13 13 13 13 13 12 13 14 14 14 11 13 13 13 13 15\n",
              "[4009] 14 13 13 14 13 16 13 13 14 13 11 13 13 13 13 12 14 14 13 14 12 13 12 11\n",
              "[4033] 13 16 13 11 14 13 13 11 14 13 14 16 13 14 13 13 13 13 13 12 11 12 13 15\n",
              "[4057] 12 13 14 13 13 13 12 13 13 13 13 11 13 11 11 13 15 11 11 14 14 14 13 13\n",
              "[4081] 12 13 13 13 13 12 11 14 13 13 11 12 13 13 13 11 13 15 14 13 13 13 12 13\n",
              "[4105] 13 13 15 15 14 14 14 15 12 13 13 13 13 13 13 14 11 14 11 11 13 13 11 14\n",
              "[4129] 12 13 13 13 11 14 13 13 12 13 13 13 14 14 13 14 13 13 12 13 13 16 16 14\n",
              "[4153] 13 11 13 14 14 13 14 13 13 14 13 11 13 13 13 13 14 13 11 13 14 11 13 13\n",
              "[4177] 13 13 13 12 13 11 12 16 13 12 11 13 13 13 12 14 11 14 13 13 13 13 13 12\n",
              "[4201] 11 16 13 11 11 15 11 16 14 14 11 14 13 11 14 13 14 12 11 13 13 16 13 11\n",
              "[4225] 14 13 13 13 14 13 13 13 13 14 12 13 14 13 11 13 12 12 13 13 13 14 13 14\n",
              "[4249] 13 13 14 16 13 13 11 13 11 13 13 11 13 11 16 14 16 13 13 11 13 13 13 13\n",
              "[4273] 14 11 12 13 13 15 11 13 13 13 13 14 13 12 14 15 12 14 13 13 13 15 13 15\n",
              "[4297] 12 13 13 13 12 12 11 11 13 13 15 13 13 13 14 11 12 13 13 11 13 13 16 11\n",
              "[4321] 14 13 13 13 13 11 13 13 12 15 13 14 13 13 11 11 13 12 11 11 13 12 14 12\n",
              "[4345] 11 13 13 13 12 15 13 13 13 13 12 11 13 12 11 13 13 15 15 12 14 15 13 14\n",
              "[4369] 14 11 14 13 13 13 14 13 14 12 13 13 14 13 12 14 13 16 12 13 13 14 11 14\n",
              "[4393] 11 13 13 11 13 13 13 14 13 12 13 13 16 14 12 11 13 13 15 11 14 13 13 15\n",
              "[4417] 13 13 14 13 15 13 13 11 13 13 16 13 11 11 14 12 14 12 14 13 11 11 13 13\n",
              "[4441] 13 13 13 11 13 14 13 13 14 12 16 11 13 14 16 13 12 12 12 13 14 11 13 11\n",
              "[4465] 13 13 13 13 13 11 13 13 13 13 13 16 12 13 12 13 14 13 13 13 12 13 12 15\n",
              "[4489] 11 15 12 12 13 13 13 13 11 12 11 13 14 13 11 15 13 12 13 16 11 13 13 14\n",
              "[4513] 13 11 16 12 13 13 12 13 14 14 16 13 11 14 13 12 14 14 12 14 13 14 13 14\n",
              "[4537] 14 15 11 13 13 11 13 13 16 13 11 15 11 13 12 15 13 13 15 13 11 13 11 13\n",
              "[4561] 13 13 12 11 13 11 12 13 13 14 14 13 13 15 13 13 14 14 13 13 13 13 15 14\n",
              "[4585] 14 14 14 14 12 14 15 13 13 11 13 13 16 11 13 11 12 13 13 16 13 16 15 11\n",
              "[4609] 12 13 12 16 13 13 13 13 14 13 12 12 13 14 11 16 12 13 12 13 15 15 15 13\n",
              "[4633] 13 13 16 13 12 15 13 14 15 14 13 12 14 15 11 12 13 11 15 13 14 14 14 13\n",
              "[4657] 13 13 11 16 13 13 11 12 13 13 12 14 13 13 11 13 13 14 13 16 13 13 13 13\n",
              "[4681] 11 12 13 14 15 14 14 13 13 13 12 14 11 16 11 12 11 13 13 13 13 15 14 11\n",
              "[4705] 13 12 13 13 14 13 14 13 11 11 14 11 12 13 12 13 13 13 14 13 14 13 13 15\n",
              "[4729] 16 16 14 11 13 14 11 16 13 12 12 12 15 14"
            ]
          },
          "metadata": {}
        },
        {
          "output_type": "stream",
          "name": "stdout",
          "text": [
            "\n",
            "\n",
            "The scaled age values that are NOT outliers: \n",
            "\n"
          ]
        },
        {
          "output_type": "display_data",
          "data": {
            "text/html": [
              "<style>\n",
              ".list-inline {list-style: none; margin:0; padding: 0}\n",
              ".list-inline>li {display: inline-block}\n",
              ".list-inline>li:not(:last-child)::after {content: \"\\00b7\"; padding: 0 .5ex}\n",
              "</style>\n",
              "<ol class=list-inline><li>9</li><li>5</li><li>9</li><li>7</li><li>7</li><li>10</li><li>9</li><li>10</li><li>10</li><li>9</li><li>10</li><li>5</li><li>10</li><li>9</li><li>9</li><li>10</li><li>10</li><li>10</li><li>9</li><li>10</li><li>10</li><li>10</li><li>7</li><li>9</li><li>9</li><li>9</li><li>9</li><li>6</li><li>7</li><li>9</li><li>9</li><li>9</li><li>5</li><li>10</li><li>9</li><li>10</li><li>10</li><li>9</li><li>10</li><li>9</li><li>10</li><li>10</li><li>9</li><li>9</li><li>9</li><li>10</li><li>2</li><li>10</li><li>7</li><li>9</li><li>10</li><li>9</li><li>9</li><li>9</li><li>10</li><li>10</li><li>10</li><li>9</li><li>7</li><li>9</li><li>10</li><li>9</li><li>4</li><li>9</li><li>9</li><li>1</li><li>9</li><li>9</li><li>9</li><li>10</li><li>9</li><li>10</li><li>9</li><li>10</li><li>9</li><li>9</li><li>9</li><li>10</li><li>9</li><li>9</li><li>9</li><li>9</li><li>10</li><li>9</li><li>10</li><li>9</li><li>10</li><li>9</li><li>9</li><li>9</li><li>10</li><li>10</li><li>9</li><li>9</li><li>10</li><li>9</li><li>7</li><li>9</li><li>10</li><li>9</li><li>9</li><li>10</li><li>9</li><li>9</li><li>9</li><li>9</li><li>7</li><li>9</li><li>10</li><li>10</li><li>9</li><li>10</li><li>10</li><li>10</li><li>10</li><li>9</li><li>9</li><li>9</li><li>10</li><li>9</li><li>10</li><li>10</li><li>9</li><li>2</li><li>10</li><li>7</li><li>9</li><li>9</li><li>10</li><li>10</li><li>9</li><li>9</li><li>9</li><li>9</li><li>10</li><li>9</li><li>9</li><li>10</li><li>9</li><li>10</li><li>9</li><li>9</li><li>9</li><li>9</li><li>10</li><li>9</li><li>9</li><li>3</li><li>10</li><li>10</li><li>7</li><li>9</li><li>9</li><li>2</li><li>6</li><li>9</li><li>10</li><li>7</li><li>9</li><li>9</li><li>7</li><li>10</li><li>4</li><li>9</li><li>7</li><li>10</li><li>9</li><li>10</li><li>9</li><li>9</li><li>10</li><li>10</li><li>9</li><li>9</li><li>9</li><li>6</li><li>9</li><li>9</li><li>9</li><li>5</li><li>9</li><li>9</li><li>9</li><li>3</li><li>10</li><li>9</li><li>9</li><li>9</li><li>10</li><li>9</li><li>9</li><li>5</li><li>4</li><li>10</li><li>10</li><li>5</li><li>7</li><li>9</li><li>10</li><li>7</li><li>⋯</li><li>9</li><li>8</li><li>9</li><li>9</li><li>9</li><li>10</li><li>10</li><li>9</li><li>10</li><li>10</li><li>10</li><li>10</li><li>10</li><li>8</li><li>10</li><li>10</li><li>10</li><li>9</li><li>9</li><li>9</li><li>9</li><li>10</li><li>9</li><li>9</li><li>9</li><li>10</li><li>4</li><li>9</li><li>1</li><li>7</li><li>9</li><li>10</li><li>9</li><li>10</li><li>10</li><li>10</li><li>10</li><li>8</li><li>9</li><li>9</li><li>4</li><li>5</li><li>10</li><li>10</li><li>9</li><li>9</li><li>9</li><li>10</li><li>4</li><li>9</li><li>10</li><li>10</li><li>5</li><li>9</li><li>9</li><li>9</li><li>10</li><li>9</li><li>10</li><li>10</li><li>9</li><li>9</li><li>8</li><li>10</li><li>9</li><li>9</li><li>6</li><li>9</li><li>9</li><li>10</li><li>9</li><li>9</li><li>8</li><li>9</li><li>9</li><li>9</li><li>10</li><li>3</li><li>10</li><li>10</li><li>9</li><li>9</li><li>9</li><li>9</li><li>10</li><li>9</li><li>10</li><li>10</li><li>9</li><li>10</li><li>9</li><li>9</li><li>9</li><li>9</li><li>9</li><li>6</li><li>10</li><li>9</li><li>9</li><li>10</li><li>10</li><li>9</li><li>8</li><li>9</li><li>7</li><li>5</li><li>9</li><li>10</li><li>10</li><li>10</li><li>9</li><li>9</li><li>6</li><li>10</li><li>8</li><li>10</li><li>9</li><li>10</li><li>9</li><li>9</li><li>10</li><li>9</li><li>10</li><li>8</li><li>9</li><li>3</li><li>9</li><li>9</li><li>8</li><li>7</li><li>9</li><li>6</li><li>10</li><li>10</li><li>9</li><li>9</li><li>9</li><li>9</li><li>9</li><li>9</li><li>5</li><li>9</li><li>10</li><li>10</li><li>8</li><li>9</li><li>9</li><li>9</li><li>9</li><li>10</li><li>4</li><li>2</li><li>10</li><li>9</li><li>3</li><li>9</li><li>7</li><li>9</li><li>9</li><li>9</li><li>10</li><li>9</li><li>9</li><li>4</li><li>10</li><li>7</li><li>9</li><li>9</li><li>9</li><li>9</li><li>9</li><li>10</li><li>8</li><li>8</li><li>4</li><li>10</li><li>10</li><li>10</li><li>9</li><li>9</li><li>7</li><li>9</li><li>9</li><li>5</li><li>6</li><li>9</li><li>9</li><li>6</li><li>10</li><li>9</li><li>7</li><li>9</li><li>6</li><li>10</li><li>8</li><li>10</li><li>10</li><li>6</li><li>9</li><li>9</li></ol>\n"
            ],
            "text/markdown": "1. 9\n2. 5\n3. 9\n4. 7\n5. 7\n6. 10\n7. 9\n8. 10\n9. 10\n10. 9\n11. 10\n12. 5\n13. 10\n14. 9\n15. 9\n16. 10\n17. 10\n18. 10\n19. 9\n20. 10\n21. 10\n22. 10\n23. 7\n24. 9\n25. 9\n26. 9\n27. 9\n28. 6\n29. 7\n30. 9\n31. 9\n32. 9\n33. 5\n34. 10\n35. 9\n36. 10\n37. 10\n38. 9\n39. 10\n40. 9\n41. 10\n42. 10\n43. 9\n44. 9\n45. 9\n46. 10\n47. 2\n48. 10\n49. 7\n50. 9\n51. 10\n52. 9\n53. 9\n54. 9\n55. 10\n56. 10\n57. 10\n58. 9\n59. 7\n60. 9\n61. 10\n62. 9\n63. 4\n64. 9\n65. 9\n66. 1\n67. 9\n68. 9\n69. 9\n70. 10\n71. 9\n72. 10\n73. 9\n74. 10\n75. 9\n76. 9\n77. 9\n78. 10\n79. 9\n80. 9\n81. 9\n82. 9\n83. 10\n84. 9\n85. 10\n86. 9\n87. 10\n88. 9\n89. 9\n90. 9\n91. 10\n92. 10\n93. 9\n94. 9\n95. 10\n96. 9\n97. 7\n98. 9\n99. 10\n100. 9\n101. 9\n102. 10\n103. 9\n104. 9\n105. 9\n106. 9\n107. 7\n108. 9\n109. 10\n110. 10\n111. 9\n112. 10\n113. 10\n114. 10\n115. 10\n116. 9\n117. 9\n118. 9\n119. 10\n120. 9\n121. 10\n122. 10\n123. 9\n124. 2\n125. 10\n126. 7\n127. 9\n128. 9\n129. 10\n130. 10\n131. 9\n132. 9\n133. 9\n134. 9\n135. 10\n136. 9\n137. 9\n138. 10\n139. 9\n140. 10\n141. 9\n142. 9\n143. 9\n144. 9\n145. 10\n146. 9\n147. 9\n148. 3\n149. 10\n150. 10\n151. 7\n152. 9\n153. 9\n154. 2\n155. 6\n156. 9\n157. 10\n158. 7\n159. 9\n160. 9\n161. 7\n162. 10\n163. 4\n164. 9\n165. 7\n166. 10\n167. 9\n168. 10\n169. 9\n170. 9\n171. 10\n172. 10\n173. 9\n174. 9\n175. 9\n176. 6\n177. 9\n178. 9\n179. 9\n180. 5\n181. 9\n182. 9\n183. 9\n184. 3\n185. 10\n186. 9\n187. 9\n188. 9\n189. 10\n190. 9\n191. 9\n192. 5\n193. 4\n194. 10\n195. 10\n196. 5\n197. 7\n198. 9\n199. 10\n200. 7\n201. ⋯\n202. 9\n203. 8\n204. 9\n205. 9\n206. 9\n207. 10\n208. 10\n209. 9\n210. 10\n211. 10\n212. 10\n213. 10\n214. 10\n215. 8\n216. 10\n217. 10\n218. 10\n219. 9\n220. 9\n221. 9\n222. 9\n223. 10\n224. 9\n225. 9\n226. 9\n227. 10\n228. 4\n229. 9\n230. 1\n231. 7\n232. 9\n233. 10\n234. 9\n235. 10\n236. 10\n237. 10\n238. 10\n239. 8\n240. 9\n241. 9\n242. 4\n243. 5\n244. 10\n245. 10\n246. 9\n247. 9\n248. 9\n249. 10\n250. 4\n251. 9\n252. 10\n253. 10\n254. 5\n255. 9\n256. 9\n257. 9\n258. 10\n259. 9\n260. 10\n261. 10\n262. 9\n263. 9\n264. 8\n265. 10\n266. 9\n267. 9\n268. 6\n269. 9\n270. 9\n271. 10\n272. 9\n273. 9\n274. 8\n275. 9\n276. 9\n277. 9\n278. 10\n279. 3\n280. 10\n281. 10\n282. 9\n283. 9\n284. 9\n285. 9\n286. 10\n287. 9\n288. 10\n289. 10\n290. 9\n291. 10\n292. 9\n293. 9\n294. 9\n295. 9\n296. 9\n297. 6\n298. 10\n299. 9\n300. 9\n301. 10\n302. 10\n303. 9\n304. 8\n305. 9\n306. 7\n307. 5\n308. 9\n309. 10\n310. 10\n311. 10\n312. 9\n313. 9\n314. 6\n315. 10\n316. 8\n317. 10\n318. 9\n319. 10\n320. 9\n321. 9\n322. 10\n323. 9\n324. 10\n325. 8\n326. 9\n327. 3\n328. 9\n329. 9\n330. 8\n331. 7\n332. 9\n333. 6\n334. 10\n335. 10\n336. 9\n337. 9\n338. 9\n339. 9\n340. 9\n341. 9\n342. 5\n343. 9\n344. 10\n345. 10\n346. 8\n347. 9\n348. 9\n349. 9\n350. 9\n351. 10\n352. 4\n353. 2\n354. 10\n355. 9\n356. 3\n357. 9\n358. 7\n359. 9\n360. 9\n361. 9\n362. 10\n363. 9\n364. 9\n365. 4\n366. 10\n367. 7\n368. 9\n369. 9\n370. 9\n371. 9\n372. 9\n373. 10\n374. 8\n375. 8\n376. 4\n377. 10\n378. 10\n379. 10\n380. 9\n381. 9\n382. 7\n383. 9\n384. 9\n385. 5\n386. 6\n387. 9\n388. 9\n389. 6\n390. 10\n391. 9\n392. 7\n393. 9\n394. 6\n395. 10\n396. 8\n397. 10\n398. 10\n399. 6\n400. 9\n401. 9\n\n\n",
            "text/latex": "\\begin{enumerate*}\n\\item 9\n\\item 5\n\\item 9\n\\item 7\n\\item 7\n\\item 10\n\\item 9\n\\item 10\n\\item 10\n\\item 9\n\\item 10\n\\item 5\n\\item 10\n\\item 9\n\\item 9\n\\item 10\n\\item 10\n\\item 10\n\\item 9\n\\item 10\n\\item 10\n\\item 10\n\\item 7\n\\item 9\n\\item 9\n\\item 9\n\\item 9\n\\item 6\n\\item 7\n\\item 9\n\\item 9\n\\item 9\n\\item 5\n\\item 10\n\\item 9\n\\item 10\n\\item 10\n\\item 9\n\\item 10\n\\item 9\n\\item 10\n\\item 10\n\\item 9\n\\item 9\n\\item 9\n\\item 10\n\\item 2\n\\item 10\n\\item 7\n\\item 9\n\\item 10\n\\item 9\n\\item 9\n\\item 9\n\\item 10\n\\item 10\n\\item 10\n\\item 9\n\\item 7\n\\item 9\n\\item 10\n\\item 9\n\\item 4\n\\item 9\n\\item 9\n\\item 1\n\\item 9\n\\item 9\n\\item 9\n\\item 10\n\\item 9\n\\item 10\n\\item 9\n\\item 10\n\\item 9\n\\item 9\n\\item 9\n\\item 10\n\\item 9\n\\item 9\n\\item 9\n\\item 9\n\\item 10\n\\item 9\n\\item 10\n\\item 9\n\\item 10\n\\item 9\n\\item 9\n\\item 9\n\\item 10\n\\item 10\n\\item 9\n\\item 9\n\\item 10\n\\item 9\n\\item 7\n\\item 9\n\\item 10\n\\item 9\n\\item 9\n\\item 10\n\\item 9\n\\item 9\n\\item 9\n\\item 9\n\\item 7\n\\item 9\n\\item 10\n\\item 10\n\\item 9\n\\item 10\n\\item 10\n\\item 10\n\\item 10\n\\item 9\n\\item 9\n\\item 9\n\\item 10\n\\item 9\n\\item 10\n\\item 10\n\\item 9\n\\item 2\n\\item 10\n\\item 7\n\\item 9\n\\item 9\n\\item 10\n\\item 10\n\\item 9\n\\item 9\n\\item 9\n\\item 9\n\\item 10\n\\item 9\n\\item 9\n\\item 10\n\\item 9\n\\item 10\n\\item 9\n\\item 9\n\\item 9\n\\item 9\n\\item 10\n\\item 9\n\\item 9\n\\item 3\n\\item 10\n\\item 10\n\\item 7\n\\item 9\n\\item 9\n\\item 2\n\\item 6\n\\item 9\n\\item 10\n\\item 7\n\\item 9\n\\item 9\n\\item 7\n\\item 10\n\\item 4\n\\item 9\n\\item 7\n\\item 10\n\\item 9\n\\item 10\n\\item 9\n\\item 9\n\\item 10\n\\item 10\n\\item 9\n\\item 9\n\\item 9\n\\item 6\n\\item 9\n\\item 9\n\\item 9\n\\item 5\n\\item 9\n\\item 9\n\\item 9\n\\item 3\n\\item 10\n\\item 9\n\\item 9\n\\item 9\n\\item 10\n\\item 9\n\\item 9\n\\item 5\n\\item 4\n\\item 10\n\\item 10\n\\item 5\n\\item 7\n\\item 9\n\\item 10\n\\item 7\n\\item ⋯\n\\item 9\n\\item 8\n\\item 9\n\\item 9\n\\item 9\n\\item 10\n\\item 10\n\\item 9\n\\item 10\n\\item 10\n\\item 10\n\\item 10\n\\item 10\n\\item 8\n\\item 10\n\\item 10\n\\item 10\n\\item 9\n\\item 9\n\\item 9\n\\item 9\n\\item 10\n\\item 9\n\\item 9\n\\item 9\n\\item 10\n\\item 4\n\\item 9\n\\item 1\n\\item 7\n\\item 9\n\\item 10\n\\item 9\n\\item 10\n\\item 10\n\\item 10\n\\item 10\n\\item 8\n\\item 9\n\\item 9\n\\item 4\n\\item 5\n\\item 10\n\\item 10\n\\item 9\n\\item 9\n\\item 9\n\\item 10\n\\item 4\n\\item 9\n\\item 10\n\\item 10\n\\item 5\n\\item 9\n\\item 9\n\\item 9\n\\item 10\n\\item 9\n\\item 10\n\\item 10\n\\item 9\n\\item 9\n\\item 8\n\\item 10\n\\item 9\n\\item 9\n\\item 6\n\\item 9\n\\item 9\n\\item 10\n\\item 9\n\\item 9\n\\item 8\n\\item 9\n\\item 9\n\\item 9\n\\item 10\n\\item 3\n\\item 10\n\\item 10\n\\item 9\n\\item 9\n\\item 9\n\\item 9\n\\item 10\n\\item 9\n\\item 10\n\\item 10\n\\item 9\n\\item 10\n\\item 9\n\\item 9\n\\item 9\n\\item 9\n\\item 9\n\\item 6\n\\item 10\n\\item 9\n\\item 9\n\\item 10\n\\item 10\n\\item 9\n\\item 8\n\\item 9\n\\item 7\n\\item 5\n\\item 9\n\\item 10\n\\item 10\n\\item 10\n\\item 9\n\\item 9\n\\item 6\n\\item 10\n\\item 8\n\\item 10\n\\item 9\n\\item 10\n\\item 9\n\\item 9\n\\item 10\n\\item 9\n\\item 10\n\\item 8\n\\item 9\n\\item 3\n\\item 9\n\\item 9\n\\item 8\n\\item 7\n\\item 9\n\\item 6\n\\item 10\n\\item 10\n\\item 9\n\\item 9\n\\item 9\n\\item 9\n\\item 9\n\\item 9\n\\item 5\n\\item 9\n\\item 10\n\\item 10\n\\item 8\n\\item 9\n\\item 9\n\\item 9\n\\item 9\n\\item 10\n\\item 4\n\\item 2\n\\item 10\n\\item 9\n\\item 3\n\\item 9\n\\item 7\n\\item 9\n\\item 9\n\\item 9\n\\item 10\n\\item 9\n\\item 9\n\\item 4\n\\item 10\n\\item 7\n\\item 9\n\\item 9\n\\item 9\n\\item 9\n\\item 9\n\\item 10\n\\item 8\n\\item 8\n\\item 4\n\\item 10\n\\item 10\n\\item 10\n\\item 9\n\\item 9\n\\item 7\n\\item 9\n\\item 9\n\\item 5\n\\item 6\n\\item 9\n\\item 9\n\\item 6\n\\item 10\n\\item 9\n\\item 7\n\\item 9\n\\item 6\n\\item 10\n\\item 8\n\\item 10\n\\item 10\n\\item 6\n\\item 9\n\\item 9\n\\end{enumerate*}\n",
            "text/plain": [
              "    [1]  9  5  9  7  7 10  9 10 10  9 10  5 10  9  9 10 10 10  9 10 10 10  7  9\n",
              "   [25]  9  9  9  6  7  9  9  9  5 10  9 10 10  9 10  9 10 10  9  9  9 10  2 10\n",
              "   [49]  7  9 10  9  9  9 10 10 10  9  7  9 10  9  4  9  9  1  9  9  9 10  9 10\n",
              "   [73]  9 10  9  9  9 10  9  9  9  9 10  9 10  9 10  9  9  9 10 10  9  9 10  9\n",
              "   [97]  7  9 10  9  9 10  9  9  9  9  7  9 10 10  9 10 10 10 10  9  9  9 10  9\n",
              "  [121] 10 10  9  2 10  7  9  9 10 10  9  9  9  9 10  9  9 10  9 10  9  9  9  9\n",
              "  [145] 10  9  9  3 10 10  7  9  9  2  6  9 10  7  9  9  7 10  4  9  7 10  9 10\n",
              "  [169]  9  9 10 10  9  9  9  6  9  9  9  5  9  9  9  3 10  9  9  9 10  9  9  5\n",
              "  [193]  4 10 10  5  7  9 10  7  9  4 10 10  9 10 10  9 10  9  9 10  9  7 10 10\n",
              "  [217] 10 10  9 10  8  6  9  9  9  9  9 10 10 10  3  9  9 10 10 10 10  9  9 10\n",
              "  [241]  9  7  9  7 10  6  9 10  9  9  9 10  7 10  9  7  9  9  7 10  9  9  9  9\n",
              "  [265]  9  7  9  7 10 10  6 10  9  5 10  4  9  9 10  6  9 10 10  9  9  2  9 10\n",
              "  [289]  7  9  9  9 10 10 10 10  6  9  9 10  9  9 10  9  9  9  9 10  9 10 10  9\n",
              "  [313]  9 10  4  9  9  9 10  9  9  9  9  7  9 10 10 10 10  9  9 10  9  9  9 10\n",
              "  [337] 10  6  9  9  9 10  9 10 10  9  9 10  9  2 10  9  9  9  9  9  7 10  9  9\n",
              "  [361]  9 10  9  9 10 10  9 10  9 10  9  9 10  9  9 10  9  9  9 10  9  9 10  9\n",
              "  [385]  9 10  9  9  9 10  9  9  9  7 10 10  9  7 10  3  6  9  9  9  9 10  9  4\n",
              "  [409]  6  9  9  7  9  9 10  6 10  9  7  9  9 10 10  6  9  9  9 10 10  6  9  9\n",
              "  [433]  6  9 10  9 10  9  9  9  9  9 10  9  9  9 10  9 10 10  5  5 10 10  9  9\n",
              "  [457]  6  6 10  9  6 10  9 10  8  4 10 10  7 10  6  9 10  9  9 10 10  9  9 10\n",
              "  [481]  9  7  7  9  6  9  9  9  9  9  9 10  6  9  9  9  4  9  9 10  9 10 10  9\n",
              "  [505]  9  9  9  9  9  9  9 10 10  9 10  9  9  4  9 10  8 10  9 10  9 10  9  9\n",
              "  [529]  9  9  7  9  9 10  9  6  9 10  6  7  3  5 10  9  9  9  9  9  9  9  9  4\n",
              "  [553] 10  9  9 10  9 10  4  9 10  9  5  9 10  9 10  5  9 10 10  9  9 10  9  7\n",
              "  [577]  9  9  9  6  5  7  9  2 10 10 10  9  9  9  9  7  9  9  6  9  9 10  9 10\n",
              "  [601]  7  9  7  6  9  9 10  9 10 10 10  9  9  9  9  9 10  7  9 10 10  4  6 10\n",
              "  [625]  7 10  9  4  9  7 10  9 10 10 10  9  9  9 10 10  8  9 10 10  9  9 10  9\n",
              "  [649]  7  9  9 10 10  9  9 10  9 10  7 10  6 10  3  9 10  6  9 10 10  7  8  5\n",
              "  [673]  9  9  9  9  9 10  9  7  9  4  9 10 10 10 10 10  9  9  8  9  9  9 10  9\n",
              "  [697]  9  7  9 10 10 10  4 10 10  7 10  7  6  9  9  7  9  5  5 10 10 10  9  4\n",
              "  [721]  9 10 10  4 10  9 10 10  5  9  8  9  9 10 10 10  3  6  9  9 10  9  9  7\n",
              "  [745] 10  7  9 10  9  9 10 10 10  9  9  9 10  4 10  9 10 10 10  9 10  9  9  9\n",
              "  [769] 10  9  9 10  7  9  6  2  7  9 10  9  6  6  9  9  3  9  9  6  9  9  7 10\n",
              "  [793]  9 10  4 10  9 10  9  9  9  3  2  7  9 10 10  9  5 10  9 10  9  7 10  7\n",
              "  [817]  9  9  9 10  9 10  9  9  9  9  5 10  7 10 10 10  9 10 10  9  9  9  7 10\n",
              "  [841]  6  9 10  9  3  9 10  9 10 10  7 10  6  5  9 10 10  9  6  2  8 10  4  9\n",
              "  [865]  9  3  1  9 10  9  6  9 10  9 10  9 10  9  9  9  9  6 10  9  9 10  9  7\n",
              "  [889]  1  9 10  9 10  6  9 10 10  9 10 10  7  6  9 10  9  9  9  6  9 10  9  9\n",
              "  [913] 10 10  3 10 10  9  9  6 10 10  9 10  9  9 10 10  9 10  9  9 10  5  9  9\n",
              "  [937] 10 10 10 10 10  9 10  7 10 10 10  9  9  9 10  9  9  9  9 10  9 10 10  9\n",
              "  [961]  9  9  9 10  6  4 10  8  9  3  9  5  4  9  4 10  7  9 10 10  2  9 10 10\n",
              "  [985]  5 10  9  9  6  9  9 10  9  3 10  4  9  9  9  9 10 10  9 10  9  9 10  8\n",
              " [1009] 10 10 10 10  9  9  9  9 10  7  9  9 10  7  9  7  7 10  9 10  9  9  6  9\n",
              " [1033]  9 10  9  3 10 10 10 10 10 10  9 10  6  9  9  9 10  1 10 10  9  9 10  6\n",
              " [1057]  9  4  9  9 10  7 10  9 10  9  9 10  9  9 10  9 10  6  9  6 10  8  7  9\n",
              " [1081]  9  9 10  9  9  4  4 10  9 10 10  9  9  7  6 10 10  9  9  4  9  6  5  9\n",
              " [1105]  9  9 10  9  9  9  3  9  7  9  9  9 10  9  9  9  5  9 10 10  9 10  9 10\n",
              " [1129]  9  9 10  9 10  5  9 10  9 10  9  9 10  4 10  9  9 10 10 10 10  9  9 10\n",
              " [1153]  9 10 10  4  9  6  9 10 10 10 10  9  9  7  9 10 10  9 10 10  8  9 10 10\n",
              " [1177] 10  6  9  9 10  9  3  9 10  6  9  9 10 10 10 10  9 10  9 10  9 10 10 10\n",
              " [1201]  9  2  9  9  9 10 10 10  9  9 10  9  9  9 10  9 10  9  9 10 10  9  6  9\n",
              " [1225] 10 10  9  9  9 10  6  9  9  9  9 10 10  9  9  9  7 10  9 10  4  9 10  6\n",
              " [1249]  9  9  9  9 10 10  1 10 10  9 10  9  5 10  9  9  9 10  9 10 10  9  9 10\n",
              " [1273] 10 10  9  9  9  7  9  5  7 10  9 10  9 10  7  9  9 10  9  8  7  7  9 10\n",
              " [1297]  9 10 10  9 10  9  9  9 10  9  9  9  9  6 10  8 10  9  9 10  9  5  9  9\n",
              " [1321] 10 10 10 10  9 10  2  9 10 10 10  9 10  9  9  6 10 10 10  9  9 10  5 10\n",
              " [1345]  9 10  9  9  8 10 10 10 10  9 10  9  5 10 10  9 10  9  9  9  9 10  6  9\n",
              " [1369] 10 10 10  9 10  6  9 10  9  6 10  7 10  4 10  7  9 10 10  9  9  9  9 10\n",
              " [1393]  8  9  9  9  9 10 10  4 10  9  9  9  7  9  9 10 10  9 10 10  5  9 10  9\n",
              " [1417]  7  9 10  9  9  9  9 10  9 10  8 10  5 10  5  9  9  9  5  9  9  9  7  9\n",
              " [1441] 10 10 10  9 10 10  9  5  8  9  9  6 10 10  9  9  9 10 10  9  4  9  9 10\n",
              " [1465] 10  6  9  9 10 10 10  9  9  9 10  9  9  9  9  9  7  9 10  9  9  9 10  6\n",
              " [1489] 10  9 10  9  9  9  9  9  9  9 10 10  7  9 10  9  9  9 10  6 10 10  9 10\n",
              " [1513]  9 10  9 10 10  9  9  9 10  9 10  9  9 10  9 10  9  9  9  9  5 10 10  8\n",
              " [1537]  5  9 10  3  9  9 10  9  9  7  5  3 10  3  9  8 10 10  9 10  4  9  9 10\n",
              " [1561] 10  7 10 10  9  9  9  4 10  9 10  9  9 10  9  9  9 10  9  4  9  9  9  9\n",
              " [1585]  7  4  9  9  9  9 10 10  9  9  9 10  9  5  9 10  9  7  3 10  7  8  9 10\n",
              " [1609] 10  9  6 10  8 10  4 10  4 10  7 10 10 10 10 10  9  9  9  9 10  9  7 10\n",
              " [1633]  9 10 10  5  5  9  7 10 10 10  5  6 10 10 10  9  9 10 10  9  9  9  5  9\n",
              " [1657]  9  4  9  9  9  4  9 10  9  9  9  3 10  9  9  9  9  9 10 10  9  9 10  9\n",
              " [1681]  9 10 10 10  5 10  9  9 10  7  9  6  9 10 10  9 10  6  9 10  9  9  9  7\n",
              " [1705]  2  9 10  9 10 10  9  9  3  9  9 10  4 10  6  9 10 10 10 10  9 10  9  9\n",
              " [1729]  9 10 10 10  9  3 10 10  9  9  9 10  3  9  7  6 10  9 10 10  5  9  9 10\n",
              " [1753]  6 10  5  9 10  7  9  9 10 10  7  9  9 10  3 10 10  9  9 10 10  7  5  2\n",
              " [1777]  9 10  9  5  9 10 10 10 10 10 10 10 10 10  6  9  9  6 10 10  9 10 10  6\n",
              " [1801]  9 10  6  9 10  2  6  9  9  9  6 10  9 10  6  9  7  9 10 10  2  9  9  6\n",
              " [1825]  9  9 10  9  9 10  9  7  7  9  9  6  9  9 10 10 10  9 10 10  9  9 10  9\n",
              " [1849]  5 10 10  9 10 10  9  2  9  9 10  9  9  8  9  9  9  3 10  6  9  9  9  9\n",
              " [1873]  7  6  9  9 10  6  9  9  9  9  9 10 10  9  9  6  9  9  5 10  9  5  7  8\n",
              " [1897] 10 10  9  5 10 10  9 10  9  9  9  5  9  9  9  9 10 10  9  9  9  9 10 10\n",
              " [1921]  9 10  9 10  9  5  9  9 10 10  9 10  9  9  9  9 10 10 10  7 10  7 10  9\n",
              " [1945]  9 10 10 10  9  9  9  4  9  7  6  9  6  9  9  9 10  9  4  9  7  5  9 10\n",
              " [1969]  9  6  8 10  9  9  9  9 10  9  9 10 10  9 10 10  7  9  9  9 10  9 10 10\n",
              " [1993]  9 10  4 10  9 10  9  9  9 10  9  9  9 10 10  8 10  5 10 10 10  5 10  9\n",
              " [2017]  9  6  9  9  9  9 10  1  7 10  9  9  9  9 10  9 10  9  6  9 10  9  9  9\n",
              " [2041]  9  9  9  9  6 10  9  9 10  9  9  9 10  6 10  9  9  5 10  9  9  9 10  9\n",
              " [2065] 10  9 10 10  9 10 10  9  9 10  4 10  9  9  9  9  5 10  9 10  9  9 10 10\n",
              " [2089]  9 10  8  9  9  7 10  9 10  9  9  9  9  9 10  6  9  9 10  4  5  8  9  6\n",
              " [2113]  9 10 10  9 10 10 10  9 10  9  9 10  9  9  9 10 10 10 10  7  9 10  7  4\n",
              " [2137] 10 10 10 10 10  9 10  9  9  9 10  9  9  6 10 10  9 10  9  9 10  9 10  7\n",
              " [2161]  9 10  9  8  6  9  4 10  9 10 10  7  9  5  9  4 10  9  9  9  9 10 10  9\n",
              " [2185]  4  9 10 10  4 10  9  6 10 10  9  9 10  9 10  9  5 10  9  9 10 10 10  7\n",
              " [2209] 10  7 10  6  7  4 10 10  9  9  9  9  9  1  9  9 10 10 10  9  9  9  9  9\n",
              " [2233]  5  9 10 10  4  9  7  9 10 10  9 10 10  9  9  7  9  9 10  9  9  9  7  9\n",
              " [2257]  9 10  9  9 10  9  9 10  9  6 10  9 10  9  9  9  9 10  9 10 10  9  9  9\n",
              " [2281] 10  9  9 10  9  2  9  9  9  9  9  9 10  6 10 10 10 10  6 10  9 10 10  9\n",
              " [2305] 10 10 10 10  9 10  9 10 10  9 10 10 10 10  5 10  6 10 10  9  7  9  9  9\n",
              " [2329]  9 10  7  9  9  9 10  9  9  6  9  8 10  9 10  6  9  9  9 10  9 10  9 10\n",
              " [2353]  9  9  9  7  9  9  7  9  9  7 10 10 10  9  9 10  9  6  7 10  9  9 10  9\n",
              " [2377]  9  4  9 10  9 10  9  9 10 10  5  8  9  9 10  4 10  6 10  5  6 10 10  9\n",
              " [2401] 10  7 10  7  8  9  6 10  9 10  9  9  9  9 10  4  9  9 10  9  9  9 10 10\n",
              " [2425]  2  9  9  9  9  9 10  7 10  6  9  9  9  9  9  6 10  9  4  9 10  9  9 10\n",
              " [2449]  9  9  9  9 10  7 10  9 10 10  9 10  9 10  9  9  6  4  9  9 10 10  9 10\n",
              " [2473] 10 10  9  6  4 10  9 10  9 10  9  1  9  4  9  9  9  9 10 10 10 10 10  9\n",
              " [2497]  9  9 10  9 10  8 10  9  9 10 10  4  9 10  9  7 10  9  9 10  4  9 10 10\n",
              " [2521]  9 10 10 10  9 10  9  5  9  7  9  9  4 10  9  9  7  9  9 10  1  9 10  9\n",
              " [2545]  9  9  1 10 10  9 10 10  7  9  9  9  6  7  7  9  9  9  9  9  9  9  9  9\n",
              " [2569]  9  9  8  4  9  9 10  9 10 10  9 10  9 10 10  9  9  9 10 10  8 10  3  9\n",
              " [2593]  9  9  9  7  9  7  9 10 10 10 10  9 10  5 10  9  2  9  9  9  5  9 10 10\n",
              " [2617]  9  9  9 10 10  9 10  9  9 10 10  7  9 10 10 10  4 10  9  9  9  8 10  9\n",
              " [2641]  9 10 10  9  5  4  9 10  9  9  9  9 10  9  9  9  8 10 10  9  9  2  9  9\n",
              " [2665]  8  9  9 10 10  9  9  9 10 10 10  9  5  9  9  9  9  9 10  9  9 10 10  9\n",
              " [2689]  4  9  6 10 10  9  9  9  6  9  9  9  9 10 10 10  9 10  6 10 10  6  9  9\n",
              " [2713] 10  9  9 10  9 10 10 10  9  9  9  5 10  8 10  9  9  9 10  9  9  9  4  9\n",
              " [2737]  9  1  5 10  9  9 10 10  9  9  9 10  4  9 10  5 10  9  9  9  9 10  7  8\n",
              " [2761]  9  9  4  3  2  9 10 10  6 10  9  9  9 10  9 10  9  9 10 10  9  9 10  9\n",
              " [2785] 10  9  9  9  5 10 10  9  9  9  6 10  3  7  9  3 10  9  9 10  9  2  9  9\n",
              " [2809]  9  9  9 10 10  9  7  9  9  9  9  9 10  9  9  5  8  9  9  6  9  7  6 10\n",
              " [2833] 10  9 10  6 10 10  3  9  6  9  9  9 10  9  7  9  9  9 10 10 10 10  9 10\n",
              " [2857]  9 10  9  9  9  4  9  7  6 10 10  9  9 10  3 10  9  9  7  9  8  9  9  9\n",
              " [2881] 10  9  3  9  9 10  9  6  9 10 10 10 10  9  4  9 10 10 10  9  9  9  9  9\n",
              " [2905]  9  9 10 10  7  9 10 10  9  9  9  9  3  9 10  9  9  9 10  9  4  9  9  3\n",
              " [2929]  9  9 10 10  9 10 10 10 10  9  9 10 10 10  9  7 10  9  9  9  7  9  9  6\n",
              " [2953] 10  9  9  7 10 10  7  9  9  9  9 10 10 10  9 10  9 10 10  9 10  6 10 10\n",
              " [2977]  7  9  9 10 10  9 10  3  9 10  9  9 10  9 10  6  9  9 10 10  9  4  9  9\n",
              " [3001] 10  3 10 10  8  9  9  7  9 10  7 10  5  8  6  9  9 10  9  9  9 10  7  9\n",
              " [3025]  6  9  9  6  9  9 10  5  9  9  9 10 10 10 10  9 10 10  9 10  3  9 10  9\n",
              " [3049] 10 10 10  6  9 10  9  9  9  6  9  9  8 10 10  9  7  9  9  9 10  9 10 10\n",
              " [3073] 10  9  9  9 10  9  7  9 10 10 10  9  8 10  9  9 10 10  9  9  9  7  9  9\n",
              " [3097]  9  9 10  9  9  9  9  9  9 10 10  9  9  4  9 10 10 10  9  9  9  9 10  9\n",
              " [3121] 10  2 10 10  9  9  5 10  9  9  9  7  7  7  9 10 10  9 10  9 10 10  9 10\n",
              " [3145] 10  9  9  9 10  6  7  9 10  9 10 10  7  9 10  9  7 10  4  9  9  9  9  6\n",
              " [3169]  9  9 10  9  9  9 10  6  9  3  9  8 10 10  9 10  9  9 10  9 10 10 10 10\n",
              " [3193] 10  9  9 10 10 10  9  9 10  9 10  5  9  9  9  6  9  9 10  9  9  9 10  4\n",
              " [3217]  9  9  9  9  3  9 10 10  9  5  9  9  9 10  9  9 10 10  9  9  9 10  9  9\n",
              " [3241]  4  3 10  9  9  9 10 10  9  9  9  9  8  6  8  9  9 10  5  7 10  9 10  9\n",
              " [3265]  9 10 10  7  9  9  9  3  9  9  9 10  9  3  9  9  9  9 10 10 10  9  4  9\n",
              " [3289]  9 10 10  8  9 10  9 10 10  9  9 10  5  9  9 10 10  9  9 10  9  9 10  9\n",
              " [3313]  7  6 10 10  9 10  9  9  4  9  9 10 10  9  3  9  9  9  9  6  7 10  9  9\n",
              " [3337]  9  9  9 10 10  9  9 10 10  9  9  3  9  6  9 10  9 10 10  9  9 10  9  6\n",
              " [3361] 10 10  9  9 10 10  9 10  9 10  9  9 10 10  9 10  7  9 10  9  7 10  9  4\n",
              " [3385]  9  9  4  9 10 10  9 10  9  9  9  9  9 10  9 10  9 10 10 10  9  3 10  9\n",
              " [3409]  9  9  9  9 10 10  9  9  8  9  3  9  6  5  9  9  9  9 10  9  9  9  9  4\n",
              " [3433]  9  9 10 10 10  4 10  4  9  9  7 10  9 10  9  9  6  9  9  9  9  9  7  9\n",
              " [3457]  7 10 10  5  9 10  9 10 10  5  9  9 10  7 10 10  4  9  9  6  9  9  1  9\n",
              " [3481]  9  7 10  6  9  9  9 10 10 10  9  9  6 10  9 10  9  9  9 10 10 10 10  9\n",
              " [3505]  9  7  9  6  9  9  9  9  9 10  9  9  9 10  9  9 10  9 10 10  4 10 10 10\n",
              " [3529]  9 10  9  9  9 10  2  7  8 10 10  9  9 10  9 10 10  9 10  9 10  9  9  9\n",
              " [3553]  9  9  9  9 10  9  6  9  4 10  9  9  6 10 10  9 10 10  9  9  9  9 10 10\n",
              " [3577] 10  8  3  9  9  7  4  9  7 10  9  5  9 10  9 10 10  6  3  9  9 10  9  9\n",
              " [3601] 10 10 10  4 10  6  9  8  9  7 10  9  9  9 10  6  4  9 10  9  9 10  9  7\n",
              " [3625] 10  4  9  7  6 10  9  9 10 10  9  6 10  9  9  9  6  5 10 10  9  9 10  3\n",
              " [3649] 10  7 10 10  9  9 10 10  7  7  9  6  9  9  5 10  7  7  9  9 10  9  9  9\n",
              " [3673] 10  9  1 10  9  9  9 10  9  9  9  9  9  7  9  6  9 10  9  9  9  9 10 10\n",
              " [3697]  9  9  9  9  6  8  9  2  9  9 10 10  9 10 10  8  9  3 10  9 10  6  9  9\n",
              " [3721]  9  3  9 10  9  7  9  9  9  9  7 10  9 10  9 10 10 10  9  9 10  5 10 10\n",
              " [3745]  9  4 10  4  9  9  9  7  5  9 10  9  9  9 10  6  9  9  9  9  8  9  9 10\n",
              " [3769]  9  4 10  9  9  9 10 10  2 10  9 10 10 10  6  9  3  5  9  9 10  9  9  9\n",
              " [3793]  9 10  9  9  8 10  9  9 10  9  9 10  9  9  9  9  6  9  5 10  9  9 10  7\n",
              " [3817] 10 10 10  9  9  9 10 10  4  9 10  9 10  3  9  5  9 10  9 10  7  9  9  9\n",
              " [3841]  9 10  9  9  7  9  9  9 10  9 10 10 10  4  9  7 10 10  9  6  9  9  9  9\n",
              " [3865]  4  9  5  9 10  7  9  9  9 10  9  6  4  4  9  9 10  9 10  9 10  9  9  9\n",
              " [3889] 10  9  2  6  9 10  9  9  9  4  9 10 10  9  9  9 10  9 10  9  3  9  9  9\n",
              " [3913]  7  9  9  9 10  5 10  9  5 10 10  9  9  7  9  9  6 10 10  9  9  9 10 10\n",
              " [3937]  9 10  9  9  9  9  9 10  9 10  9  7  9 10 10 10  2  8  9  9 10 10  9 10\n",
              " [3961]  7  9  9  9 10  9  9  8 10  8 10  8  9 10  9  9  9  9 10  9  9  9  9 10\n",
              " [3985]  9 10  9  9  9  9  9 10  7 10  9 10  9 10  9 10 10  2 10  9 10  7 10  4\n",
              " [4009] 10  9  6  9  7  9  7 10  9  9 10  8  9  4 10 10 10 10 10  9 10 10  9 10\n",
              " [4033]  6  9  8  9  9  9  9  9  9  9  7 10  7  6  9  9  9  9  9 10  9  7 10  9\n",
              " [4057]  9  9  6  9  7 10  9  9 10  7 10  9  6  9  9  9  6 10 10 10  9 10  9 10\n",
              " [4081]  9  6  9 10  4  8  3  9  9  8  4 10  8 10  9  9  5  5  9 10  9  4 10  8\n",
              " [4105]  9  4  9 10  2  4  7 10  9 10 10  3  6  9  3  7  9  9  9  7  9 10  9  4\n",
              " [4129] 10  9 10 10  9 10 10 10  9 10 10  3 10  9  9 10  6  8 10  9  7 10  9  9\n",
              " [4153]  9  9  9 10  9  9 10  9  9  9  9 10 10  9  9 10 10  9  9  7  9  9 10 10\n",
              " [4177]  9 10 10  9  2 10  7 10  9  9  9 10  9 10 10 10 10 10  9  9 10  9  9 10\n",
              " [4201] 10  9  9 10  9 10  8  9  5  9 10  9  9  9 10  5 10  4  4 10  9  7  9  9\n",
              " [4225] 10 10  9  9  9 10  9 10 10  7  9  9  9  6  6  4  9 10 10  9 10  9  9  9\n",
              " [4249]  5 10  9  2  5  9  5  6  9  9  7  9  6 10 10  9  8  9 10  9  9 10  9 10\n",
              " [4273]  5  9  2 10  9 10  9 10 10  9  9  3  9 10 10  9 10 10  9 10  9  9  9  7\n",
              " [4297]  4  7  7  9  9 10  9 10  9  8 10  9  9  9 10 10 10 10 10  9  9  7  6  9\n",
              " [4321]  9  9  4  9  9  9 10  9  9 10  9  9  9  9 10  9 10 10  9  9  9 10  9  9\n",
              " [4345]  9  7  9  9  6  9  9  9 10  9 10  9  4  9 10  9  9 10  7  8  3 10  9  9\n",
              " [4369] 10  7 10  9  9  9  9  9 10  9 10 10  9 10  8  9 10  9  9  9  9  9  9  9\n",
              " [4393] 10  9 10  9 10 10 10  9  9  9  9  6  6 10  3 10 10  9  9  9  9  9 10  3\n",
              " [4417]  9  9  9  9  9  6  9 10 10 10 10 10  7 10  9  9  9  8  9  4  9  5 10  9\n",
              " [4441] 10  9  9  9  6  7  9 10  4  9  4 10 10  9  9  9  2  9  9 10  7  9 10  9\n",
              " [4465]  7  9  4  9  7 10  5  6  9 10  5  6 10  9  5  9 10 10  9  2  9  9 10 10\n",
              " [4489] 10  6  9 10 10  9  9 10  9  9  9  9  9 10  9  7  9  9  9  9  8  7  9  9\n",
              " [4513]  9 10  9  7 10 10 10  3 10  9  9  9 10  7  9 10  9  9  9 10  9 10  6  9\n",
              " [4537] 10 10  9 10  9  9  4  9 10  9  9  6  5  9  9  6  3 10  7  9  7 10  7  9\n",
              " [4561] 10  9  9  9 10  9 10  9  5  9  9  9  9  9 10 10  9  9  9  9  9 10  8  4\n",
              " [4585]  5  9  9 10 10  9  7  9  6  9 10  9  9  7  9  9  9  9  9  9 10  9 10  7\n",
              " [4609]  9  7  9 10  9 10  5 10  9  6  9  9  9  9  9 10  2  4 10  4  9  7  4  9\n",
              " [4633]  3  9 10  9 10 10  6  9 10  9  9  7  8  9 10  9  9  9  7  9 10  9 10  9\n",
              " [4657] 10  2  9 10  3  4 10 10 10 10 10  8 10 10  9  9  9 10  6 10 10  9  9 10\n",
              " [4681]  9 10 10 10  7  9  9  9  9 10 10  9  9  9  6  2  9  9  9 10  9 10  6 10\n",
              " [4705]  9 10  9 10  9 10  9  9 10  9  9 10  9  9  2  9  5  7 10 10  9 10  9 10\n",
              " [4729]  9 10 10  9  9  9 10  5  9 10  9  9 10  9 10  9  9  9  3  5  9  9  7 10\n",
              " [4753]  3  9 10  9 10  9  9 10  9  5  9 10  9  7 10 10 10  9  9  5 10  9 10  9\n",
              " [4777]  6  9  9  9 10 10  9  5  7  9  6  9  5 10  9  9 10  9  9  9 10  9  9  9\n",
              " [4801] 10  9  7 10  9  9 10  9  9  9  9  6  9  3  8  5  3 10 10  7  9  9 10  9\n",
              " [4825]  2 10 10 10  9  9 10  5  9  9  9 10 10 10 10  9 10  9 10  9  9  9  9  9\n",
              " [4849] 10 10  9  9 10  9  9 10  9  7  9  9  9  9  9  9  9  9  9  9  9  9  5 10\n",
              " [4873]  9 10  9  9  9 10  9  9  9  9  9  9  9 10  9  8 10  4  9  2  9  7  9  9\n",
              " [4897]  4  9  4  9  7 10 10  9 10  9 10  9  9  7  9  9  8 10  9  6 10  9 10 10\n",
              " [4921]  9 10  9  9  6  9  9  9 10  4 10 10 10  9  9  9 10 10  9  8  9 10  9  9\n",
              " [4945]  9 10  9  9  9  4  9  9 10  9 10 10  9  9  9  9  9  9  9  4 10  9 10 10\n",
              " [4969]  9  9  9  9  9  2 10 10  8  9 10 10 10  6 10 10 10  2 10  6  9  9  7  9\n",
              " [4993]  9 10  6 10  9  5  9  9  9  4 10 10  4  9 10  5  9  9  9 10  9  9  9  9\n",
              " [5017]  5  9  9  9  9  6  9  9  4  9  9 10  9 10  9 10  8  9  9 10 10  9 10 10\n",
              " [5041]  9 10  9  9 10  9 10  9  9  4  9  9  3 10  9  9 10  9  9  9  7 10  9  9\n",
              " [5065] 10  9  9  9  9  9  9  7  9  9  7  9  9  6  9  9  2  9 10  4  7  9  9  9\n",
              " [5089]  5  6  4  9  5 10  9 10  9  9  9 10  7 10  9  9  9  8 10  7  9 10  9 10\n",
              " [5113]  5  1  9  9  9  9  7  9 10  8  9 10  9  4  5 10  4  9  9  9  9 10  9 10\n",
              " [5137] 10 10  9  9 10 10  9  9 10 10 10 10  9 10 10  9  9 10 10  9  9  9  9  9\n",
              " [5161]  5  6  9  6 10  9 10  6 10  9  9  7  9  9  9 10  7  9  9 10  4  9 10  7\n",
              " [5185]  9  9  9  3  9  9 10 10  9  9  9 10  9 10 10  9  8  4  9 10  9 10  9  9\n",
              " [5209] 10  9 10  9  9  8 10  9  7  7  7  6 10 10  9 10  6 10  5 10 10 10  9  4\n",
              " [5233] 10  9  5  6  4  8  7  5  9  7 10  8 10  9 10 10  9  9  2  9  9 10  5  9\n",
              " [5257] 10  7 10  9 10  9 10  7 10  9  9  9  9  5  6  9  9  9  9  9  3  9  9 10\n",
              " [5281]  9 10  9 10  9  9  9  9  5  9  9 10  7 10  9  9 10  7 10 10 10  6  9  9\n",
              " [5305] 10  4 10  9 10  9 10  9  9  9 10  9 10  9 10  9  9  4  7  8 10  6  9 10\n",
              " [5329]  9  9  9  9 10  7 10  4 10 10  9  6  9  7  9  9  6  9  9  3  9  9  9  9\n",
              " [5353] 10  9  9 10  9 10  2  9  9  3  9  9  9  9  7  6  5  9 10  9  9 10  4  9\n",
              " [5377] 10 10  9  9 10 10 10  9  9 10 10  9  9  9  9  9  9  9 10  9 10 10  9 10\n",
              " [5401]  9  9  4  9  6  9  9  9  9 10  9  6  6  9 10  6 10  9  7 10 10  9  9  9\n",
              " [5425]  9 10  9  8  4  9  6  9 10  9  9  4 10  9  9 10  9 10 10  9  9  9 10 10\n",
              " [5449]  9 10 10  3 10  9  9  9 10  3  9 10  9  9  9 10 10  4  5 10 10  7  8  9\n",
              " [5473] 10  9  9 10  9  9  9  9  9 10  9  9 10  9  9 10  3  9  9  9  9 10  9 10\n",
              " [5497]  9 10  9 10  9  9  9  8  8  9  9  9  5  5  9  8  7  9 10  6  9  9  9 10\n",
              " [5521]  8 10  9  4  7 10  9  6  9  9 10 10  4  3  9  9  9 10  9  9 10  9  9  8\n",
              " [5545]  6 10 10  9  9  9  9 10  6  9 10  5  9  9 10 10  9  9  9  9 10 10  9  5\n",
              " [5569]  9  9  9 10 10 10  9 10 10  9 10  9  9 10  9 10  9  9  9 10  9 10  9 10\n",
              " [5593]  6  9 10 10 10  9  9  9  4  9  9  5  9 10  9 10  5 10  9  9 10 10 10  9\n",
              " [5617]  9  9 10  9  9 10  6 10 10  5  6 10  9  9 10 10 10 10  9 10 10  6  4  9\n",
              " [5641] 10  9 10 10 10  7  6  7  9 10  9  9 10  3  9  9  6 10  9  9  5  9  9 10\n",
              " [5665]  7  7  9 10  9 10  9  2 10  7  9  9  9  9 10 10  9  9 10  9  9 10  9  9\n",
              " [5689] 10  9 10  6  6 10  9 10  4 10  9 10  9  9 10  9 10  9 10 10  9 10 10  7\n",
              " [5713]  4 10  7 10  9 10 10  9 10  9  3  9  9 10  9  9  9  9 10 10 10  9  9 10\n",
              " [5737] 10  9  9  9  5  8  7  9  9  9 10  9 10  9 10  9  7 10  9  8  9  9  7  3\n",
              " [5761] 10 10 10 10  9  9  9  9  9  9 10  9  6  9 10  5  4  9 10  3  9 10  6  9\n",
              " [5785]  9  9  9  7 10 10  7  9 10  9  9  9 10  9  9 10  6 10 10  3 10  9  9 10\n",
              " [5809]  5  9 10  6  9  9 10  9 10  9  9  6  9  9  6  7  9  9 10  9  9 10  6  9\n",
              " [5833] 10 10 10 10  9  9  9  9 10  9  9  9 10 10  9 10  9  9 10  8  9  9  9 10\n",
              " [5857]  9 10  6 10 10 10  4  4 10  9 10  9  9  9 10 10 10  9  9  2  9  9  9  9\n",
              " [5881]  9  9  9 10 10  9  6  9 10  9 10  9 10  9  9 10 10 10  4  9  9 10  9 10\n",
              " [5905] 10 10  9  9  9  9  9  2  9 10 10  9  9 10  9  6  7  7  4 10  5  9  8 10\n",
              " [5929]  6  5  9  3  9  7 10  7  2  6  9  7  9 10  9  7 10 10 10  9 10 10  9  9\n",
              " [5953]  9  6 10  7 10 10  7 10  9  9 10  9  7  9 10  9  9  9  9  9  9 10  9  9\n",
              " [5977]  9 10 10 10  7  9 10  9 10  5 10  9  9  9  9 10  9 10 10  9  9  9  9  9\n",
              " [6001]  5  7  9  9 10 10  9  9  9  2 10 10  9  9  9  9  6 10 10 10 10 10  9 10\n",
              " [6025]  6  9  9  9  9  9  9  9  9  9  9  9  9 10  6  6  9 10  9 10  7 10  9 10\n",
              " [6049] 10  9  9 10 10  9  9  9 10  9  5 10  6 10  9  7 10  2  9 10 10  2 10  9\n",
              " [6073]  3  9  9 10  9  9  9  9 10  9  6  9  7 10  6  9  9  9  9  6 10  9 10  9\n",
              " [6097]  9  7 10  9  9  6  7  9  9  9 10 10  6  6  9  9  9 10  9 10  6  6  7  9\n",
              " [6121]  9 10 10  9  9  9  9  6  9 10  9  9  9 10  9  9 10  9  9  6 10  9  6  9\n",
              " [6145]  9 10 10  8  9  9 10  7 10  9 10  9  9 10 10 10 10 10  9  9  9  5  9  9\n",
              " [6169]  5  9 10  8  9 10  6  9 10  9  6  9 10  4  9 10  6  9  9 10  9  6 10  9\n",
              " [6193]  6 10  6  9  7  4 10 10  3  9  7 10 10 10  9 10  9  9  2 10  9  9 10  9\n",
              " [6217]  4 10 10  9  9  9  9  9  7 10 10  5  9  9 10  9  4  9  9  4  9 10 10 10\n",
              " [6241]  9 10 10 10 10  4 10  4  9  6  9 10  9  9 10  9 10  9  9 10 10  9 10 10\n",
              " [6265]  7 10  9  5  6 10  9  9 10  9  7 10  9  7  9  9  9 10  7  9  6  9  9  9\n",
              " [6289] 10 10 10  6  4  9  9  9  9  9 10 10 10 10  8  9  9 10  9 10 10  9  7 10\n",
              " [6313]  9 10  7  8  9  9  9  3  9  9  9  5  4  7  3 10  9  9 10 10  5 10  9  9\n",
              " [6337]  9 10 10 10  7  9  9 10  5  9  9  9  6 10  9  4 10 10  9  9  9  9  9  9\n",
              " [6361] 10  9  9  7  9  6 10  7  9 10  9  7  9  9  9 10 10 10 10  9  9  9  9 10\n",
              " [6385]  9 10  9  9  9  7 10  9 10 10 10  9  9  7  9  6  7  8  5  9 10  6 10  8\n",
              " [6409]  9 10 10  9  9  9 10  9  8  9  9 10  8  9  9  3 10  9 10  9 10 10 10  9\n",
              " [6433] 10  9  9  9  9  9 10  9  9  4  9  9  9  9 10 10 10 10  9  9  7 10  3  9\n",
              " [6457]  9 10 10  9 10 10  3 10  9 10 10  9  4  6 10 10 10  9  6  9  9 10  9 10\n",
              " [6481] 10 10  9  9  9 10 10  9 10  9  9 10 10 10 10 10 10  9  9  9  7  9  9  9\n",
              " [6505]  9  9  9  9 10  9  5 10  9  9  9 10  7 10  9  5  7  9  9  6 10 10  9 10\n",
              " [6529] 10 10  9 10  9  7 10 10  4  7  9  9 10  9 10  9  9  8  2 10 10  3  9 10\n",
              " [6553]  4  9 10 10 10  4  4  9 10  9 10 10  9  9 10 10 10  6 10  9  9 10 10  3\n",
              " [6577] 10 10 10 10  6  6  9 10 10 10 10  9  9  9  9  5  7  7  9  4  9 10  7 10\n",
              " [6601]  4 10 10  7 10 10  9 10  9  9 10 10 10  3 10  9 10  9  9  7  4  5  9  9\n",
              " [6625] 10  7  5  9 10 10  9  1 10  9  9 10  7  9  7 10 10 10 10  9  9  7  9  9\n",
              " [6649]  9  9  9  4 10  9  6 10  4  9  7  9  9 10 10 10 10  9  9 10  8 10  9  9\n",
              " [6673] 10  4  9 10  9  5  9  9 10  3  7  8  6 10 10 10  9 10  9  9  7 10  9  9\n",
              " [6697] 10  7 10  9  9  2 10 10 10 10  9  9  9 10  9  6  8  9 10  9 10 10  9  9\n",
              " [6721]  9 10 10  9  9 10  7  9  9 10 10  5  9  9  9  1 10  9 10  9 10 10  7  9\n",
              " [6745]  6  9  7  9 10  3 10 10  9  9  9  1  3  9 10  7 10  9 10  6 10  4 10 10\n",
              " [6769]  9  9 10 10  9  9  9 10 10  7  9  3  9  9  9 10  9  9  9  9 10  4  9  7\n",
              " [6793]  6  9 10 10  9  9  9  6  5 10 10  9  9 10  6  9 10  9  9  9  9  9  9 10\n",
              " [6817]  5 10 10 10 10  9 10  9  9 10  9  9 10  9 10 10 10  3 10  9  9  9  9  9\n",
              " [6841] 10  9  9 10 10 10  9  6  9  9  9  7  9  9 10 10  9 10  9  9  9 10  1 10\n",
              " [6865]  6  9  9  5 10  8 10 10  7  9  9  4  9  6  9 10  9  6 10  9 10  9  9 10\n",
              " [6889]  9  9  9  9 10 10  8  6  9  9  8 10  9  9 10  9 10 10  9  9 10 10  7  6\n",
              " [6913] 10  9  9  9  9 10  3  9  9  3  6  9  9 10  9  5 10 10 10  5  9  9  9  4\n",
              " [6937]  9  9 10  8 10  9  9  9  9  9 10  9  9  9  6  7  9  6  9  9  9  9 10  4\n",
              " [6961]  9  9 10  9 10  9 10  7  9  9  7  5 10 10  6  9  6  5  6 10  9  9  9  5\n",
              " [6985]  7  9  9  9  9  9  9  7  2 10  7  9 10 10 10  9  9 10 10  7  9 10  9 10\n",
              " [7009]  5 10  9  9  5  7 10 10  9  8  9 10  9  9  9 10  6 10  9  9  9  9  9 10\n",
              " [7033]  4 10  9  9  9  7 10  9  7  9  9  9  9  9  9  9  8  9  9  4  9 10 10 10\n",
              " [7057]  9 10 10 10  9  9  8 10  9  9  9 10  9 10  7  9  9 10  9  3  7 10  8 10\n",
              " [7081]  9 10  9  9 10  7  3  9  9  9  8 10 10  9  9  9  9  9 10 10  7  7  9 10\n",
              " [7105]  7 10 10 10  9  9 10  9  3  9 10  4 10  9  9  9  9 10  6 10 10  9  5  7\n",
              " [7129]  6 10  9  9 10  9  3  3 10  9  9  9  9  9 10 10  9  6  6  5  9 10  7 10\n",
              " [7153]  8 10  9 10  5 10 10 10  4  6  9 10 10 10  9  9  9  9  8  9  9  3  4 10\n",
              " [7177]  8  5  4  9 10  7 10  9 10  9  9  4  9  9  9  5 10 10  9  8  9  9  9  9\n",
              " [7201]  9  5  9 10  9  9 10  9  3 10  5  9  9 10 10  9  8  7  9  9  9 10 10 10\n",
              " [7225]  9 10 10 10 10  9  7 10  9  9 10 10  6  6  9  9  9  9  9  9 10  9  9  7\n",
              " [7249]  7  4  6  6  9  9 10  9  4  9  9  4 10  9 10  9 10  9  9 10  9  9 10  9\n",
              " [7273]  9  5  9  6  9 10  9  7  9  9 10  9  9 10 10  7 10  9  9 10  9 10  9  9\n",
              " [7297] 10  9 10  9  9 10  9  9 10 10  9 10  9 10 10  8  6 10 10  7  9  9  9 10\n",
              " [7321]  6  9  9  9 10  3 10 10  9  9  9  9 10 10 10  9  9 10 10  9  4 10  4  9\n",
              " [7345]  9  9  6  9 10 10  9 10  9 10  9  9  9 10 10  7  9 10  4 10  3  5  7 10\n",
              " [7369]  9  7 10  9  7  9 10 10  4  9 10  5  9  8  9 10 10 10  9 10  9  6 10  8\n",
              " [7393] 10 10  8 10  9  7  9  9 10 10  6  9 10  9  5 10 10  3 10 10  6 10  9  6\n",
              " [7417] 10  9 10  9  9 10  9 10  9  9  9 10  9  9 10  9  9  9  9  9 10 10  6  9\n",
              " [7441]  7  9 10 10  6 10  9 10  4  9 10 10  6  9 10 10  9 10  9  9  9 10  9 10\n",
              " [7465]  9  9 10  9  9  9  9  9  9 10  9 10  9  9  9 10  7  4 10 10  9  7  9 10\n",
              " [7489]  9  9  1 10 10 10  7 10 10  9  9 10  9  9 10  9 10  2  9  9 10 10  4  9\n",
              " [7513]  5 10  5  9  4 10 10  9 10  9  9 10  9  9 10  4 10 10  6  9  9  9  9  9\n",
              " [7537] 10  9  6 10  4 10  9  9 10  7  6  9  9  9  9 10 10  6  9  9  9  9  9 10\n",
              " [7561]  9  9  4  7  5 10  9  9  9  9  9  5 10 10  9 10  5 10 10  5 10  9  4 10\n",
              " [7585]  9  5  9  9  9 10  7  9  9  6  9  6 10 10  9  9 10  6  9 10  6 10  4  9\n",
              " [7609] 10 10  7  7  9 10  9  7  9  6 10  9  9  9 10  9  9  8 10  9 10 10 10  9\n",
              " [7633]  9  9  9  9  9  9 10 10  7  9 10  9 10 10  5  7  9  9  9  9  9 10 10  9\n",
              " [7657]  9  9  9 10 10  9  7  9  9 10 10 10  4 10  7  9  9 10  9  9  9  9  6  7\n",
              " [7681]  7  9  9 10  9  9 10 10  9 10 10  9  9 10 10  7 10 10 10 10  9 10  9  9\n",
              " [7705]  7  9 10 10  5  6  9 10 10 10  6  5  8  9 10 10  9  9 10  9 10 10  7 10\n",
              " [7729]  9 10  9 10 10  9 10  7 10  6 10  9  9  6 10  7 10  9 10 10  9  7  9 10\n",
              " [7753]  5  9 10 10  9  9  9 10  9 10 10  9 10  9  9  9  9 10  9 10 10  9  1  9\n",
              " [7777]  4  1  7  9  9  9  5 10 10 10  9  4  9  9  9  9 10  9  9  4  3 10 10 10\n",
              " [7801] 10  7  9  9 10 10  6  9  9  1  9  9  7  9 10  7  9  9 10  9  4  9  9  9\n",
              " [7825]  7  4  6  8 10  8  9  9  9 10 10 10  9  3  9  9 10  9  6  4 10 10  9  9\n",
              " [7849] 10  9 10  7 10 10  9  9 10  5  9 10 10  9  9 10  9 10  9 10  6  5 10 10\n",
              " [7873]  9  6 10  9  9  9  9  9  9  9  5  9 10  5 10  3 10  9  6 10 10  9  9 10\n",
              " [7897] 10  9  9  9  9  9  9  9  7  9  9  4 10  9  9 10  7  9 10  4  9 10  9  9\n",
              " [7921]  9 10  9 10 10  9  9  9  9 10 10  9  9  9 10  7 10  9 10  9 10  9  9  9\n",
              " [7945]  7  4  9 10 10 10 10 10 10 10  9 10  9  9  9  7  9 10 10  9 10  9 10 10\n",
              " [7969]  9  7  9 10 10  7 10  9 10 10  5  9  4 10  9  9  9  9  4  3  4 10 10  9\n",
              " [7993]  9 10 10  9 10  7  9  9 10 10  4 10  9  9  9  9 10 10  8 10  9 10  9  7\n",
              " [8017] 10 10 10  5 10  9  9  9  6  9  9  9  9  9  9  5  9  9  7  9 10 10  9  9\n",
              " [8041]  7  9  9 10  7  8  9  9  9  9  9  9  9  9  9 10  9  9 10  4  9  7  9 10\n",
              " [8065]  9  4  9  9 10  6 10 10 10  7 10 10 10  9  9 10  9 10 10  2  5  9 10  6\n",
              " [8089]  9 10  9  9  4  9 10  9 10  9  9 10 10  9 10 10  3 10  9 10  9 10  9 10\n",
              " [8113]  9  9  5 10  9  7  9  9  6  9  9  9  9 10  9  9 10 10  9 10  9  7  9 10\n",
              " [8137] 10  9 10 10  4 10  9  9  5  9  9  5 10 10  9 10  9 10 10  6 10  4  9  9\n",
              " [8161]  9  9  9 10  6  9 10  9  1  9  9  9 10 10  9 10  9  7  9 10  9  9  9  9\n",
              " [8185] 10 10  9  9  9 10  9  9 10 10 10  9 10  7 10  9 10  9 10  9  9  9 10  9\n",
              " [8209]  9  9 10  9  9 10  9  9  4  9  7 10  9 10  6  4 10  9 10 10  9 10  6  9\n",
              " [8233]  9  9 10  9 10  9  9  9  9  3 10 10  9 10  9  9  6  9 10  2 10  9  9  9\n",
              " [8257]  9  7  7  9 10 10  5  9  9  5 10 10  9  9  3  9 10 10  9  9  9  9  9  9\n",
              " [8281]  9  9  7 10  9  8  9  6  2  5 10 10  9  7  7  9  3  9 10  9  7 10  9  9\n",
              " [8305] 10  8  9 10  7  9  9 10  9 10  9  4 10  9 10  9 10  7 10 10  9  9  9  9\n",
              " [8329]  9 10  9 10  9 10 10  9  9  4 10  9  6 10 10  9  2  9  9 10  8  8  9  9\n",
              " [8353]  3  9 10  9 10 10  9  9  9  8 10  9  9  9 10  9 10  9  9 10  9  9  9 10\n",
              " [8377]  6  9  9 10  2  9 10  9 10  9 10  9  9 10 10  6  9  9  9 10 10 10  9 10\n",
              " [8401]  8  9  9  9  9  9  9  7  7  9  9 10  9  7 10 10  9  9  4  9 10  7 10  9\n",
              " [8425]  6  9  9 10 10  9 10 10  9 10  7 10 10  9  9  9  9  3  3  9  8  9 10  9\n",
              " [8449]  9  9  3  9  9  8  9 10 10 10  4 10 10 10 10  9 10 10 10  9 10 10 10  9\n",
              " [8473]  8  5  9  4  7 10  9  3  9  9 10  9 10  9  9  9 10  9  6 10 10  3 10 10\n",
              " [8497]  9  4 10  9 10  4  9 10  9  9  9 10 10  9  7 10  9 10  6  9 10  7  9  9\n",
              " [8521]  9  9  6  9 10  6  9  9  3 10  7  3  8  9  9 10 10  9 10  9  9  3 10  9\n",
              " [8545]  5  7 10  7  3 10  9  9  5  8 10  9  9  6 10  4  9 10 10 10 10 10 10 10\n",
              " [8569]  9  9 10  9  9  9  9 10  9  2 10  7  5  9  9  9  9 10 10  9 10  9  9  9\n",
              " [8593]  9  6 10  7  9  9  4 10 10  9 10  9 10 10  9 10 10  3  9  9  9  9  9  9\n",
              " [8617]  3  2 10 10  9  9  5 10  9 10  4 10 10  9  9  9  2  9  9  9  9  9  9  9\n",
              " [8641]  9 10  9  9  8  9 10  9 10  9 10  9  9  9  5  4 10  2  9 10  5  9 10 10\n",
              " [8665]  9  9  9  9  7  9 10 10  9  7  9 10  9  9 10 10  9  4  9  8  9 10  9  8\n",
              " [8689]  2 10  3  9  9  9 10 10  9  9  9  9  9 10  9  6  9  9 10  9  7  9  9  9\n",
              " [8713] 10  9  3  9  9  9 10 10  9 10 10  9  5 10  7  9  9 10  4 10  9  9  9  9\n",
              " [8737] 10 10  9 10  9 10 10  9  9  9  9  9  9  9 10 10 10  9 10  9  6 10  9  9\n",
              " [8761]  9  7  9  5  9  9  9 10 10  9  9  9  9  9  9  3  9  5  9  9  4 10  2  9\n",
              " [8785] 10  4  6  9  7 10  6  9  9 10  7  9  6 10  9 10  3 10  9  9  2  3 10  3\n",
              " [8809]  9  9  9  9 10  9  9  7  9  7  9 10  9  9 10  9  9  7  9  9 10 10  5 10\n",
              " [8833]  9 10  7 10 10  9  6  9 10 10  9  9  7  9  3  3  7  7 10 10  9 10  9  9\n",
              " [8857]  9  7  4  7  2 10  6  6  9  9 10 10  9 10 10 10 10 10  9 10 10  4 10  9\n",
              " [8881]  9  9  9 10  9 10  9  6 10 10 10  9 10  9 10 10 10  9  9  7  9  7 10  9\n",
              " [8905]  9 10 10  9  4 10  6 10 10 10  9 10 10  4  9  9 10  9 10  4 10  5  9  9\n",
              " [8929]  5  9 10 10  6  9 10 10  9  9  9  9 10  5  9 10 10  9 10  9 10  9 10 10\n",
              " [8953]  4 10 10  9  6  9  9 10 10  4 10  9  9  9 10 10 10  9  9  4  5 10 10  9\n",
              " [8977] 10  6  9 10  9  9 10  7  5  9 10  5  7 10 10  6  9  9  9  9  4  9 10 10\n",
              " [9001] 10  9  9 10 10 10  9  9 10  9 10 10  7 10  6  9 10  4  9  9 10  9  9 10\n",
              " [9025]  9  9  5 10 10 10 10  9  9 10 10  9  9 10  9 10  9 10  9 10 10  9  9  9\n",
              " [9049] 10  9  9  9 10 10  9  9  9 10 10  9 10  9  9 10  9  3 10  9  2  9  9  2\n",
              " [9073]  9  7  6  9  2 10 10 10  9 10  9 10  4  9 10  4 10 10  9  9  8  9  9  9\n",
              " [9097]  9  9 10 10 10  9  9 10 10 10 10 10 10  9  5 10  9 10  9 10 10  9  9 10\n",
              " [9121]  9  7  3 10 10 10  9  9  2  9  9  7 10  9 10  9  9  5 10  9  7 10 10 10\n",
              " [9145] 10  4  9  6  9  9 10  9 10  9  9  9 10  9  9 10  2  9  8 10 10  9  7  9\n",
              " [9169]  9  9 10 10  6 10  7 10  9  7 10 10 10  5  9  9 10  9 10  9 10  2  9 10\n",
              " [9193] 10  9 10  9  2  9  9 10  9  9 10  6  6  7  9  9  9 10 10 10 10  9  9  9\n",
              " [9217]  7 10  9  6 10 10  9 10  9 10  7  9  9  6  9 10  7  9 10  9 10  9 10 10\n",
              " [9241]  7  9 10 10  9 10  9  9 10  9  9  9  9  9  9  8 10 10  9  9  7 10  6  9\n",
              " [9265]  9  9  6  9  9  7  9  9  9  7  4  9 10 10  9 10  9 10  5 10  9  9  9  9\n",
              " [9289]  5  9  8  9  9 10 10  7  7  4  7  6  9  9 10 10  8 10  9 10  9  7  9  9\n",
              " [9313]  9 10  9 10  9  8 10  9 10  9 10 10  9  3  9 10  5  4  9 10  9  9  4  9\n",
              " [9337]  9  3 10  6  9  9  9  7  7  9  9  9  9  9  9  9  3 10  9  9  9  9  9  9\n",
              " [9361]  9  6 10  9  6  9 10  9  7 10  9  9  9  9  9  9  9  9  9 10  9  9  9  3\n",
              " [9385]  9  9 10  9  9 10 10  3  9 10  9 10  9  6 10  7  9 10 10 10  9  9  3 10\n",
              " [9409] 10  8 10  9 10  9 10  5  9 10  7  9  9 10  9  7 10 10  5  9  9  9  9  9\n",
              " [9433]  9  4 10  9 10  9  7 10  9  9  9 10  6  9  7  9  9  9  9 10  9  9  5  4\n",
              " [9457] 10  8  9  9 10 10  9  9  9  5 10  7 10 10  9  9 10 10 10  6  9  9  9  9\n",
              " [9481]  9  9  5 10  9 10  9  9 10  9  9  9 10  9 10 10  6  7  9 10  6  9 10  9\n",
              " [9505] 10  9 10  9  9  7 10  7  6  2  9  9  9  2  2  9  9  9  9  9  9 10  9  9\n",
              " [9529] 10  9 10 10  5  9 10 10 10  9  9  9  4 10  9  7  9  9  9  9  9 10  9 10\n",
              " [9553]  7  9  9  9  9 10 10  9  9  4 10  8  9  4  9 10  9  9 10  9  3 10  9  5\n",
              " [9577] 10 10 10  7  9 10 10  7  9  9  2  6  8  9 10  5  9  9 10  9 10  9  9 10\n",
              " [9601]  6  5 10 10  6  2  9  9 10  5  9 10  9  9 10  9  9  9 10 10  9  8  9 10\n",
              " [9625] 10 10 10 10  9  9  9  6 10  5  9  7  2  9  9  8 10 10  9  9  9  6  9  9\n",
              " [9649]  9 10 10  9  9  9  5 10  9  9  9  9  9  9 10  7 10 10 10 10  9  9  9  9\n",
              " [9673] 10  9 10  9  9  9 10  3  9  2  9 10  9 10  9  9 10 10  9  9  6  9 10 10\n",
              " [9697]  9  9 10  9  9  9 10  9  7  9 10  4 10  9  9  9 10  6 10 10  9  9 10  2\n",
              " [9721] 10  9  9  9 10 10 10  9  3  9 10  8  9  9  9  9  9  9  7  9 10  9  9  5\n",
              " [9745]  6 10  8  9 10  9  9  9  9  5  9 10  9  9  9  9  9 10  9  9  9 10  9 10\n",
              " [9769]  9 10  9  9  9  9  9  9  7 10 10 10  9 10  9  8  9 10 10  9 10  9  4 10\n",
              " [9793]  7 10  7 10 10  9  9  9  9 10  9 10 10  9  9  9  9  9 10  4 10  5  9  9\n",
              " [9817] 10 10 10  9  9  9  9 10  2  9  9  9  9 10  9  8 10  6  6  8  9 10  9  9\n",
              " [9841] 10  4 10  9  9 10 10  9 10  5 10  7  9  7  9  9  8  9  9  9 10 10  9 10\n",
              " [9865] 10 10 10 10  8 10 10 10  9  9  9  9 10  9  9  9 10  4  9  1  7  9 10  9\n",
              " [9889] 10 10 10 10  8  9  9  4  5 10 10  9  9  9 10  4  9 10 10  5  9  9  9 10\n",
              " [9913]  9 10 10  9  9  8 10  9  9  6  9  9 10  9  9  8  9  9  9 10  3 10 10  9\n",
              " [9937]  9  9  9 10  9 10 10  9 10  9  9  9  9  9  6 10  9  9 10 10  9  8  9  7\n",
              " [9961]  5  9 10 10 10  9  9  6 10  8 10  9 10  9  9 10  9 10  8  9  3  9  9  8\n",
              " [9985]  7  9  6 10 10  9  9  9  9  9  9  5  9 10 10  8  9  9  9  9 10  4  2 10\n",
              "[10009]  9  3  9  7  9  9  9 10  9  9  4 10  7  9  9  9  9  9 10  8  8  4 10 10\n",
              "[10033] 10  9  9  7  9  9  5  6  9  9  6 10  9  7  9  6 10  8 10 10  6  9  9"
            ]
          },
          "metadata": {}
        }
      ]
    },
    {
      "cell_type": "markdown",
      "source": [
        "7.Standardize (zero mean) the age variable, and identify how many outliers there are. What is the most extreme outlier?"
      ],
      "metadata": {
        "id": "dzt08M5FT2YX"
      }
    },
    {
      "cell_type": "code",
      "source": [
        "training_data$scaled_age <- scale(x = training_data$age)\n",
        "\n",
        "summary(training_data$scaled_age)\n",
        "\n",
        "# Determine the three sigma rule first for the scaled_age attribute\n",
        "three_sigma_rule_two <- (training_data$scaled_age < -3 |\n",
        "                     training_data$scaled_age > 3 )\n",
        "\n",
        "\n",
        "# how many outliers are there?\n",
        "cat (\"\\nThere are\", sum(three_sigma_rule_two), \"outliers \\n\\n\")\n",
        "\n",
        "\n",
        "# The condition given as input to which() states that we want\n",
        "# all records whose scaled age values are less than −3 or greater than 3.\n",
        "\n",
        "# The which() command returns the row indices of all such records.\n",
        "\n",
        "cat(\"\\n\\nThe scaled age values that is the biggest outlier: \\n\\n\")\n",
        "max(training_data$scaled_age[which(three_sigma_rule_two)], na.rm = FALSE)"
      ],
      "metadata": {
        "colab": {
          "base_uri": "https://localhost:8080/",
          "height": 283
        },
        "id": "8WHw6TqHUBRN",
        "outputId": "604efffd-e00b-4b3d-c8da-ffeb05f53c86"
      },
      "execution_count": 26,
      "outputs": [
        {
          "output_type": "display_data",
          "data": {
            "text/plain": [
              "       V1         \n",
              " Min.   :-1.5855  \n",
              " 1st Qu.:-0.7813  \n",
              " Median :-0.1234  \n",
              " Mean   : 0.0000  \n",
              " 3rd Qu.: 0.6808  \n",
              " Max.   : 3.7512  "
            ]
          },
          "metadata": {}
        },
        {
          "output_type": "stream",
          "name": "stdout",
          "text": [
            "\n",
            "There are 60 outliers \n",
            "\n",
            "\n",
            "\n",
            "The scaled age values that is the biggest outlier: \n",
            "\n"
          ]
        },
        {
          "output_type": "display_data",
          "data": {
            "text/html": [
              "3.75122696731239"
            ],
            "text/markdown": "3.75122696731239",
            "text/latex": "3.75122696731239",
            "text/plain": [
              "[1] 3.751227"
            ]
          },
          "metadata": {}
        }
      ]
    },
    {
      "cell_type": "markdown",
      "source": [
        "8.Age anomaly? Select only records with age  at least 80, and construct a histogram of age. Explain what you see."
      ],
      "metadata": {
        "id": "zwKq8lS6Yf_W"
      }
    },
    {
      "cell_type": "code",
      "source": [
        "hist(training_data$age[which(training_data$age > 80)], xlab = \"Age\",\n",
        "       main = \"Histogram of ages over 80\", col=\"lavender\")"
      ],
      "metadata": {
        "colab": {
          "base_uri": "https://localhost:8080/",
          "height": 437
        },
        "id": "1RTJYdlxYgXT",
        "outputId": "9c442689-6476-4376-fed5-c5ea194b8f11"
      },
      "execution_count": null,
      "outputs": [
        {
          "output_type": "display_data",
          "data": {
            "text/plain": [
              "Plot with title “Histogram of ages over 80”"
            ],
            "image/png": "[encoded data removed]"
          },
          "metadata": {
            "image/png": {
              "width": 420,
              "height": 420
            }
          }
        }
      ]
    },
    {
      "cell_type": "markdown",
      "source": [
        "After looking at the histogram it seems that there are a big group of people who are between the ages of 80 - 82 and 89 - 90 with very few ages in the middle."
      ],
      "metadata": {
        "id": "n4r9S8uAapEI"
      }
    },
    {
      "cell_type": "markdown",
      "source": [
        "9.Summarize your findings. \\\n",
        "After looking at all the data I was very interested by the comparison between the relationship status and gender. For Married-civ-spouse there was a lot more men in that catagory than women, the opposite of this can be said for widowed where there is almost 3 times more widowed women than men. I wonder what the cause for the huge differences in gender of these two catagories could be.\n",
        "\n"
      ],
      "metadata": {
        "id": "HX5vQgpbdQaf"
      }
    }
  ]
}